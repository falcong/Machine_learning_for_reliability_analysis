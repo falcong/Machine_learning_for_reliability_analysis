{
 "cells": [
  {
   "cell_type": "code",
   "execution_count": 10,
   "metadata": {
    "collapsed": false
   },
   "outputs": [
    {
     "name": "stderr",
     "output_type": "stream",
     "text": [
      "/home/peng/anaconda2/lib/python2.7/site-packages/sklearn/preprocessing/data.py:184: UserWarning: Numerical issues were encountered when scaling the data and might not be solved. The standard deviation of the data is probably very close to 0. \n",
      "  warnings.warn(\"Numerical issues were encountered \"\n"
     ]
    }
   ],
   "source": [
    "# Load data set and target values\n",
    "import sys\n",
    "sys.path.append('/home/peng/git/Machine_learning_for_reliability_analysis/Preprocess')\n",
    "sys.path.append('/home/peng/git/Machine_learning_for_reliability_analysis/DAlgorithms')\n",
    "\n",
    "import Preprocessdata\n",
    "import RFclass\n",
    "\n",
    "from __future__ import print_function\n",
    "from __future__ import division\n",
    "\n",
    "import logging\n",
    "from sklearn.datasets import make_classification\n",
    "from sklearn.cross_validation import cross_val_score\n",
    "\n",
    "from sklearn.ensemble import RandomForestClassifier as RFC\n",
    "\n",
    "\n",
    "from bayes_opt import BayesianOptimization\n",
    "from pandas.core.frame import DataFrame\n",
    "import numpy as np\n",
    "import pandas as pd\n",
    "\n",
    "\n",
    "start = timeit.default_timer()\n",
    "p= Preprocessdata.standardprocess()\n",
    "\n",
    "\n",
    "save_path = '/home/peng/Documents/Project_C/Turbofan/Dataset/'\n",
    "#names = xrange(0,28)\n",
    "\n",
    "df = pd.read_csv(save_path + 'train_FD001_3_p20_.txt', header=0)\n",
    "\n",
    "rad_stat = 2\n",
    "tree_seed = 'rf'\n",
    "\n",
    "# drop the first column\n",
    "df = df.drop(df.columns[[0]], axis=1)\n",
    "\n",
    "\n",
    "#split the dataset into train and label first\n",
    "\n",
    "df_array = np.array(df)\n",
    "target_all = df_array[:,-1]\n",
    "train_all = df_array[:, 0:-1]\n",
    "\n",
    "# change the label to be binary Optional\n",
    "from sklearn.preprocessing import label_binarize\n",
    "\n",
    "#target_all = label_binarize(target_all, classes = [0,1,2])\n",
    "\n",
    "\n",
    "\n",
    "#print (train_all[:,0:2])\n",
    "from sklearn.preprocessing import scale\n",
    "\n",
    "train_all_scale = scale(train_all)\n",
    "#print (train_all_scale[:,0:2])\n",
    "\n",
    "from sklearn.cross_validation import train_test_split\n",
    "train, test, trainlabel, testlabel = train_test_split( train_all_scale, target_all, test_size=0.3, random_state=42)\n"
   ]
  },
  {
   "cell_type": "code",
   "execution_count": 22,
   "metadata": {
    "collapsed": false
   },
   "outputs": [
    {
     "name": "stdout",
     "output_type": "stream",
     "text": [
      "The running takes 0.19058947960535685 min\n"
     ]
    }
   ],
   "source": [
    "'''This script demonstrates how to build a variational autoencoder with Keras.\n",
    "Reference: \"Auto-Encoding Variational Bayes\" https://arxiv.org/abs/1312.6114\n",
    "'''\n",
    "import numpy as np\n",
    "import matplotlib.pyplot as plt\n",
    "%matplotlib inline\n",
    "\n",
    "from keras.layers import Input, Dense, Lambda\n",
    "from keras.models import Model\n",
    "from keras import backend as K\n",
    "from keras import objectives\n",
    "import timeit\n",
    "\n",
    "\n",
    "start = timeit.default_timer()\n",
    "\n",
    "#batch_size = 100\n",
    "original_dim = 24\n",
    "latent_dim = 2\n",
    "intermediate_dim = 12\n",
    "nb_epoch = 50\n",
    "\n",
    "x = Input(shape=(24,))\n",
    "h = Dense(intermediate_dim, activation='relu')(x)\n",
    "z_mean = Dense(latent_dim)(h)\n",
    "z_log_var = Dense(latent_dim)(h)\n",
    "\n",
    "\n",
    "def sampling(args):\n",
    "    z_mean, z_log_var = args\n",
    "    epsilon = K.random_normal(shape=(latent_dim, ), mean=0.)\n",
    "    return z_mean + K.exp(z_log_var / 2) * epsilon\n",
    "\n",
    "# note that \"output_shape\" isn't necessary with the TensorFlow backend\n",
    "z = Lambda(sampling, output_shape=(latent_dim,))([z_mean, z_log_var])\n",
    "\n",
    "# we instantiate these layers separately so as to reuse them later\n",
    "decoder_h = Dense(intermediate_dim, activation='relu')\n",
    "decoder_mean = Dense(original_dim, activation='sigmoid')\n",
    "h_decoded = decoder_h(z)\n",
    "x_decoded_mean = decoder_mean(h_decoded)\n",
    "\n",
    "\n",
    "def vae_loss(x, x_decoded_mean):\n",
    "    xent_loss = original_dim * objectives.binary_crossentropy(x, x_decoded_mean)\n",
    "    kl_loss = - 0.5 * K.sum(1 + z_log_var - K.square(z_mean) - K.exp(z_log_var), axis=-1)\n",
    "    return xent_loss + kl_loss\n",
    "\n",
    "vae = Model(x, x_decoded_mean)\n",
    "vae.compile(optimizer='rmsprop', loss=vae_loss)\n",
    "\n",
    "vae.fit(train, train,\n",
    "        shuffle=True,\n",
    "        nb_epoch=nb_epoch,\n",
    "        #batch_size=batch_size,\n",
    "        verbose = 0)\n",
    "\n",
    "# build a model to project inputs on the latent space\n",
    "encoder = Model(x, z_mean)\n",
    "\n",
    "# display a 2D plot of the digit classes in the latent space\n",
    "\n",
    "train_encoded = encoder.predict(train)\n",
    "#print(np.shape(train)[1])\n",
    "test_encoded = encoder.predict(test)\n",
    "#print(np.shape(test))\n",
    "\n",
    "encoded_dim = np.shape(train_encoded)[1]\n",
    "\n",
    "stop = timeit.default_timer()\n",
    "\n",
    "print (\"The running takes %r min\" %((stop-start)/60))"
   ]
  },
  {
   "cell_type": "code",
   "execution_count": 23,
   "metadata": {
    "collapsed": false
   },
   "outputs": [
    {
     "name": "stdout",
     "output_type": "stream",
     "text": [
      "(8799, 2)\n"
     ]
    }
   ],
   "source": [
    "\n",
    "print (np.shape(train_encoded))"
   ]
  },
  {
   "cell_type": "code",
   "execution_count": null,
   "metadata": {
    "collapsed": true
   },
   "outputs": [],
   "source": []
  }
 ],
 "metadata": {
  "kernelspec": {
   "display_name": "Python 2",
   "language": "python",
   "name": "python2"
  },
  "language_info": {
   "codemirror_mode": {
    "name": "ipython",
    "version": 2
   },
   "file_extension": ".py",
   "mimetype": "text/x-python",
   "name": "python",
   "nbconvert_exporter": "python",
   "pygments_lexer": "ipython2",
   "version": "2.7.11"
  }
 },
 "nbformat": 4,
 "nbformat_minor": 0
}
