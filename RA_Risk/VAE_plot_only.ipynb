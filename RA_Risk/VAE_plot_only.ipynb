{
 "cells": [
  {
   "cell_type": "code",
   "execution_count": 1,
   "metadata": {
    "collapsed": true
   },
   "outputs": [],
   "source": [
    "import sys\n",
    "sys.path.append('/home/peng/git/Machine_learning_for_reliability_analysis/Preprocess')\n",
    "sys.path.append('/home/peng/git/Machine_learning_for_reliability_analysis/DAlgorithms')\n",
    "\n",
    "import Preprocessdata\n",
    "import RFclass\n",
    "\n",
    "from __future__ import print_function\n",
    "from __future__ import division\n",
    "\n",
    "import logging\n",
    "from sklearn.datasets import make_classification\n",
    "from sklearn.cross_validation import cross_val_score\n",
    "\n",
    "from sklearn.ensemble import RandomForestClassifier as RFC\n",
    "\n",
    "\n",
    "from bayes_opt import BayesianOptimization\n",
    "from pandas.core.frame import DataFrame\n",
    "import numpy as np\n",
    "import pandas as pd\n",
    "import matplotlib as mpl\n",
    "import matplotlib.pyplot as plt\n",
    "\n",
    "from sklearn.metrics.classification import accuracy_score, confusion_matrix, classification_report\n",
    "from scipy.interpolate import spline\n",
    "from sklearn import metrics\n",
    "from sklearn.metrics import accuracy_score, precision_score, roc_auc_score\n",
    "\n",
    "from sklearn.gaussian_process import GaussianProcess\n",
    "import timeit\n",
    "\n",
    "import seaborn as sns\n",
    "from IPython.core.pylabtools import figsize\n",
    "from scipy.interpolate import spline\n",
    "from sklearn.svm import SVC\n",
    "from sklearn.cross_validation import cross_val_score\n",
    "from sklearn.cross_validation import StratifiedShuffleSplit\n",
    "from sklearn.grid_search import GridSearchCV\n",
    "import re\n",
    "from astropy.io.fits.header import Header\n",
    "from matplotlib.pyplot import xlim\n",
    "\n",
    "%matplotlib inline"
   ]
  },
  {
   "cell_type": "code",
   "execution_count": 2,
   "metadata": {
    "collapsed": false
   },
   "outputs": [],
   "source": [
    "# Load data set and target values\n",
    "\n",
    "start = timeit.default_timer()\n",
    "p= Preprocessdata.standardprocess()\n",
    "\n",
    "\n",
    "save_path = '/home/peng/Documents/Project_C/Turbofan/Dataset/'\n",
    "#names = xrange(0,28)\n",
    "\n",
    "df = pd.read_csv(save_path + 'train_onlyone_2_labels.txt', header=0)\n",
    "\n",
    "rad_stat = 2\n",
    "tree_seed = 'rf'\n",
    "\n",
    "# drop the first column\n",
    "df = df.drop(df.columns[[0]], axis=1)\n",
    "\n",
    "\n",
    "#split the dataset into train and label first\n",
    "\n",
    "df_array = np.array(df)\n",
    "target_all = df_array[:,-1]\n",
    "train_all = df_array[:, 0:-1]\n",
    "\n",
    "# change the label to be binary Optional\n",
    "#from sklearn import preprocessing\n",
    "#lb = preprocessing.LabelBinarizer(sparse_output = True)\n",
    "#target_all_binary = lb.fit_transform(target_all)\n",
    "\n",
    "\n",
    "\n",
    "#print (train_all[:,0:2])\n",
    "from sklearn.preprocessing import scale\n",
    "\n",
    "train_all_scale = scale(train_all)\n",
    "#print (train_all_scale[:,0:2])\n",
    "\n",
    "from sklearn.cross_validation import train_test_split\n",
    "train, test, trainlabel,  testlabel = train_test_split( train_all_scale, target_all, test_size=0.3, random_state=42)\n",
    "\n",
    "#print (df)\n"
   ]
  },
  {
   "cell_type": "code",
   "execution_count": 3,
   "metadata": {
    "collapsed": false
   },
   "outputs": [
    {
     "name": "stderr",
     "output_type": "stream",
     "text": [
      "Using Theano backend.\n",
      "Using gpu device 0: GeForce GTX 980 Ti (CNMeM is enabled with initial size: 75.0% of memory, cuDNN 5005)\n"
     ]
    },
    {
     "name": "stdout",
     "output_type": "stream",
     "text": [
      "The running takes 0.274234934647878 min\n"
     ]
    }
   ],
   "source": [
    "# Variational autoencoder\n",
    "\n",
    "'''This script demonstrates how to build a variational autoencoder with Keras.\n",
    "Reference: \"Auto-Encoding Variational Bayes\" https://arxiv.org/abs/1312.6114\n",
    "'''\n",
    "import numpy as np\n",
    "import matplotlib.pyplot as plt\n",
    "%matplotlib inline\n",
    "\n",
    "from keras.layers import Input, Dense, Lambda\n",
    "from keras.models import Model\n",
    "from keras import backend as K\n",
    "from keras import objectives\n",
    "import timeit\n",
    "\n",
    "\n",
    "start = timeit.default_timer()\n",
    "\n",
    "#batch_size = 100\n",
    "original_dim = 24\n",
    "latent_dim = 2\n",
    "intermediate_dim = 12\n",
    "nb_epoch = 50\n",
    "\n",
    "x = Input(shape=(24,))\n",
    "h = Dense(intermediate_dim, activation='relu')(x)\n",
    "z_mean = Dense(latent_dim)(h)\n",
    "z_log_var = Dense(latent_dim)(h)\n",
    "\n",
    "\n",
    "def sampling(args):\n",
    "    z_mean, z_log_var = args\n",
    "    epsilon = K.random_normal(shape=(latent_dim, ), mean=0.)\n",
    "    return z_mean + K.exp(z_log_var / 2) * epsilon\n",
    "\n",
    "# note that \"output_shape\" isn't necessary with the TensorFlow backend\n",
    "z = Lambda(sampling, output_shape=(latent_dim,))([z_mean, z_log_var])\n",
    "\n",
    "# we instantiate these layers separately so as to reuse them later\n",
    "decoder_h = Dense(intermediate_dim, activation='relu')\n",
    "decoder_mean = Dense(original_dim, activation='sigmoid')\n",
    "h_decoded = decoder_h(z)\n",
    "x_decoded_mean = decoder_mean(h_decoded)\n",
    "\n",
    "\n",
    "def vae_loss(x, x_decoded_mean):\n",
    "    xent_loss = original_dim * objectives.binary_crossentropy(x, x_decoded_mean)\n",
    "    kl_loss = - 0.5 * K.sum(1 + z_log_var - K.square(z_mean) - K.exp(z_log_var), axis=-1)\n",
    "    return xent_loss + kl_loss\n",
    "\n",
    "vae = Model(x, x_decoded_mean)\n",
    "vae.compile(optimizer='rmsprop', loss=vae_loss)\n",
    "\n",
    "vae.fit(train, train,\n",
    "        shuffle=True,\n",
    "        nb_epoch=nb_epoch,\n",
    "        #batch_size=batch_size,\n",
    "        verbose = 0)\n",
    "\n",
    "# build a model to project inputs on the latent space\n",
    "encoder = Model(x, z_mean)\n",
    "\n",
    "# display a 2D plot of the digit classes in the latent space\n",
    "\n",
    "train_encoded = encoder.predict(train)\n",
    "#print(np.shape(train)[1])\n",
    "test_encoded = encoder.predict(test)\n",
    "#print(np.shape(test))\n",
    "\n",
    "encoded_dim = np.shape(train_encoded)[1]\n",
    "\n",
    "stop = timeit.default_timer()\n",
    "\n",
    "print (\"The running takes %r min\" %((stop-start)/60))"
   ]
  },
  {
   "cell_type": "code",
   "execution_count": 4,
   "metadata": {
    "collapsed": false
   },
   "outputs": [],
   "source": [
    "df_label = pd.DataFrame({'mean': test_encoded[:,0], 'std': test_encoded[:, 1], 'label': testlabel\n",
    "                         #,'ratio': dfoo['ratio']\n",
    "                        })\n",
    "\n",
    "#print (df_label)"
   ]
  },
  {
   "cell_type": "code",
   "execution_count": 5,
   "metadata": {
    "collapsed": false
   },
   "outputs": [
    {
     "data": {
      "image/png": "[encoded data removed]",
      "text/plain": [
       "<matplotlib.figure.Figure at 0x7f1afe742250>"
      ]
     },
     "metadata": {},
     "output_type": "display_data"
    }
   ],
   "source": [
    "import seaborn as sns\n",
    "\n",
    "plt.figure(figsize=(10, 8))\n",
    "\n",
    "plt.scatter(df_label[df_label['label']==0]['mean'], df_label[df_label['label']==0]['std'], c= '#3399ff', alpha=0.5, \n",
    "            label = 'Healthy State',s = 40)\n",
    "#plt.scatter(df_label[df_label['label']==1]['mean'], df_label[df_label['label']==1]['std'], c= 'y', alpha=0.5)\n",
    "\n",
    "plt.scatter(df_label[df_label['label']==1]['mean'], df_label[df_label['label']==1]['std'],\n",
    "            c= '#ff4040', alpha=0.5, label = 'Degraded State', s = 40)\n",
    "plt.xticks(fontsize = 18)\n",
    "plt.yticks(fontsize = 18)\n",
    "plt.xlabel('$\\mu$',fontsize = 28)\n",
    "plt.ylabel('$log\\sigma$',fontsize = 28)\n",
    "\n",
    "plt.legend(fontsize = 20)\n",
    "plt.show()"
   ]
  },
  {
   "cell_type": "code",
   "execution_count": 6,
   "metadata": {
    "collapsed": false
   },
   "outputs": [
    {
     "data": {
      "image/png": "[encoded data removed]",
      "text/plain": [
       "<matplotlib.figure.Figure at 0x7f1afe7426d0>"
      ]
     },
     "metadata": {},
     "output_type": "display_data"
    }
   ],
   "source": [
    "import seaborn as sns\n",
    "\n",
    "plt.figure(figsize=(10, 8))\n",
    "\n",
    "plt.scatter(df_label[df_label['label']==0]['mean'], df_label[df_label['label']==0]['std'], c= '#3399ff', alpha=0.5, \n",
    "            label = 'Healthy State',s = 40)\n",
    "#plt.scatter(df_label[df_label['label']==1]['mean'], df_label[df_label['label']==1]['std'], c= 'y', alpha=0.5)\n",
    "\n",
    "plt.scatter(df_label[df_label['label']==2]['mean'], df_label[df_label['label']==2]['std'],\n",
    "            c= '#ff4040', alpha=0.5, label = 'Degraded State', s = 40)\n",
    "plt.xticks(fontsize = 18)\n",
    "plt.yticks(fontsize = 18)\n",
    "plt.xlabel('$\\mu$',fontsize = 28)\n",
    "plt.ylabel('$log\\sigma$',fontsize = 28)\n",
    "\n",
    "plt.legend(fontsize = 20)\n",
    "\n",
    "plt.show()"
   ]
  },
  {
   "cell_type": "code",
   "execution_count": null,
   "metadata": {
    "collapsed": false
   },
   "outputs": [],
   "source": [
    "df_label_11 = pd.DataFrame({'mean': x_test_encoded[:,0], 'std': x_test_encoded[:, 1], 'label': testlabel})\n",
    "\n",
    "df_label_2 = df_label_11[df_label_11['label']!=1]\n",
    "\n",
    "df_label_22 = df_label_2.drop(df_label_2.columns[[0]], axis=1)\n",
    "\n",
    "print (df_label_22)\n"
   ]
  },
  {
   "cell_type": "code",
   "execution_count": null,
   "metadata": {
    "collapsed": false
   },
   "outputs": [],
   "source": [
    "output_label = np.array(df_label_2['label'])\n",
    "\n",
    "output_label_1 = ((output_label /2)-1)*(-1)\n",
    "print (output_label_1[0:10])"
   ]
  },
  {
   "cell_type": "code",
   "execution_count": null,
   "metadata": {
    "collapsed": false
   },
   "outputs": [],
   "source": [
    "df_label_1 = pd.DataFrame({'mean': x_test_encoded[:,0], 'std': x_test_encoded[:, 1]})\n",
    "\n",
    "\n",
    "train_kmm = np.array(df_label_22)\n",
    "\n",
    "print (train_kmm)\n"
   ]
  },
  {
   "cell_type": "code",
   "execution_count": null,
   "metadata": {
    "collapsed": true
   },
   "outputs": [],
   "source": [
    "from sklearn.cluster import KMeans\n",
    "\n",
    "n_num = 2\n",
    "\n",
    "k_means = KMeans(init='k-means++', n_clusters=n_num, n_init=10)\n",
    "X = train_kmm\n",
    "k_means.fit(train_kmm)\n",
    "\n",
    "k_means_labels = k_means.labels_\n",
    "k_means_cluster_centers = k_means.cluster_centers_\n",
    "k_means_labels_unique = np.unique(k_means_labels)\n",
    "\n"
   ]
  },
  {
   "cell_type": "code",
   "execution_count": null,
   "metadata": {
    "collapsed": false
   },
   "outputs": [],
   "source": [
    "print (np.shape(train_kmm))\n",
    "print (k_means_labels[0:10])\n",
    "print (df_label_2['label'][0:10])\n",
    "\n",
    "from sklearn.metrics.classification import accuracy_score, confusion_matrix, classification_report\n",
    "\n",
    "print (confusion_matrix(k_means_labels,output_label_1))\n",
    "print( classification_report(k_means_labels, output_label_1))"
   ]
  },
  {
   "cell_type": "code",
   "execution_count": null,
   "metadata": {
    "collapsed": false
   },
   "outputs": [],
   "source": [
    "fig = plt.figure(figsize=(8, 6))\n",
    "n_clusters = 3\n",
    "colors = ['#4EACC5', '#FF9C34','#4E9A06']\n",
    "\n",
    "# KMeans\n",
    "\n",
    "for k, col in zip(range(n_clusters), colors):\n",
    "    my_members = k_means_labels == k\n",
    "    cluster_center = k_means_cluster_centers[k]\n",
    "    plt.plot(X[my_members, 0], X[my_members, 1], 'w',\n",
    "            markerfacecolor=col, marker='.')\n",
    "    plt.plot(cluster_center[0], cluster_center[1], 'o', markerfacecolor=col,\n",
    "            markeredgecolor='k', markersize=6)\n",
    "\n",
    "\n",
    "\n",
    "\n",
    "plt.show()"
   ]
  },
  {
   "cell_type": "code",
   "execution_count": null,
   "metadata": {
    "collapsed": false
   },
   "outputs": [],
   "source": [
    "\n",
    "\n",
    "\n",
    "plt.figure(figsize=(8, 6))\n",
    "plt.scatter(x_test_encoded[:, 0], x_test_encoded[:, 1], c= color_list, alpha=0.5)\n",
    "\n",
    "plt.show()"
   ]
  },
  {
   "cell_type": "code",
   "execution_count": null,
   "metadata": {
    "collapsed": true
   },
   "outputs": [],
   "source": []
  }
 ],
 "metadata": {
  "kernelspec": {
   "display_name": "Python 2",
   "language": "python",
   "name": "python2"
  },
  "language_info": {
   "codemirror_mode": {
    "name": "ipython",
    "version": 2
   },
   "file_extension": ".py",
   "mimetype": "text/x-python",
   "name": "python",
   "nbconvert_exporter": "python",
   "pygments_lexer": "ipython2",
   "version": "2.7.11"
  }
 },
 "nbformat": 4,
 "nbformat_minor": 0
}
