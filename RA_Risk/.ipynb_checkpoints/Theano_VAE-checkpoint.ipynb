{
 "cells": [
  {
   "cell_type": "code",
   "execution_count": 3,
   "metadata": {
    "collapsed": false
   },
   "outputs": [
    {
     "name": "stdout",
     "output_type": "stream",
     "text": [
      "Loading MNIST data\n",
      "instantiating model\n",
      "iterating\n",
      "Epoch 1 finished. LB: -191.962087128, time: 0.780385971069\n",
      "Epoch 2 finished. LB: -149.304923859, time: 0.649083852768\n",
      "Epoch 3 finished. LB: -138.334274948, time: 0.660197973251\n",
      "Epoch 4 finished. LB: -131.812182083, time: 0.660619020462\n",
      "Epoch 5 finished. LB: -127.334950562, time: 0.65663599968\n",
      "Epoch 6 finished. LB: -124.183009247, time: 0.673012018204\n",
      "Epoch 7 finished. LB: -121.96704718, time: 0.653403997421\n",
      "Epoch 8 finished. LB: -120.173152084, time: 0.662487030029\n",
      "Epoch 9 finished. LB: -118.606999313, time: 0.654208898544\n",
      "Epoch 10 finished. LB: -117.22489473, time: 0.65615606308\n",
      "Epoch 11 finished. LB: -116.102468811, time: 0.655284881592\n",
      "Epoch 12 finished. LB: -115.166426025, time: 0.702690124512\n",
      "Epoch 13 finished. LB: -114.390408554, time: 0.658060073853\n",
      "Epoch 14 finished. LB: -113.702806885, time: 0.655325889587\n",
      "Epoch 15 finished. LB: -113.025060104, time: 0.65596985817\n",
      "Epoch 16 finished. LB: -112.494155853, time: 0.656049966812\n",
      "Epoch 17 finished. LB: -112.001303955, time: 0.692616939545\n",
      "Epoch 18 finished. LB: -111.587572403, time: 0.674514055252\n",
      "Epoch 19 finished. LB: -111.130211014, time: 0.659661054611\n",
      "Epoch 20 finished. LB: -110.707140518, time: 0.685833930969\n",
      "Epoch 21 finished. LB: -110.324483109, time: 0.657014131546\n",
      "Epoch 22 finished. LB: -109.994449295, time: 0.656120061874\n",
      "Epoch 23 finished. LB: -109.63852478, time: 0.655363082886\n",
      "Epoch 24 finished. LB: -109.352298492, time: 0.655419111252\n",
      "Epoch 25 finished. LB: -109.072404404, time: 0.655174016953\n",
      "Epoch 26 finished. LB: -108.806737076, time: 0.653728961945\n",
      "Epoch 27 finished. LB: -108.602906265, time: 0.65408706665\n",
      "Epoch 28 finished. LB: -108.322687744, time: 0.65344786644\n",
      "Epoch 29 finished. LB: -108.116899918, time: 0.659767150879\n",
      "Epoch 30 finished. LB: -107.919570496, time: 0.655688047409\n",
      "Epoch 31 finished. LB: -107.779897705, time: 0.654600858688\n",
      "Epoch 32 finished. LB: -107.564419586, time: 0.653563022614\n",
      "Epoch 33 finished. LB: -107.345776855, time: 0.653553962708\n",
      "Epoch 34 finished. LB: -107.220384171, time: 0.653316020966\n",
      "Epoch 35 finished. LB: -107.046727188, time: 0.653048038483\n",
      "Epoch 36 finished. LB: -106.851595032, time: 0.653033018112\n",
      "Epoch 37 finished. LB: -106.724839691, time: 0.653409957886\n",
      "Epoch 38 finished. LB: -106.523364517, time: 0.653459787369\n",
      "Epoch 39 finished. LB: -106.391280457, time: 0.654592037201\n",
      "Epoch 40 finished. LB: -106.274453979, time: 0.655139923096\n",
      "LB on validation set: -106.674850464\n"
     ]
    }
   ],
   "source": [
    "import sys\n",
    "sys.path.append('/home/peng/git/Machine_learning_for_reliability_analysis/Preprocess')\n",
    "sys.path.append('/home/peng/git/Machine_learning_for_reliability_analysis/DAlgorithms')\n",
    "\n",
    "\n",
    "import numpy as np\n",
    "import time\n",
    "import os\n",
    "from VAE import VAE\n",
    "import cPickle\n",
    "import gzip\n",
    "\n",
    "%matplotlib inline\n",
    "\n",
    "from keras.layers import Input, Dense, Lambda\n",
    "from keras.models import Model\n",
    "from keras import backend as K\n",
    "from keras import objectives\n",
    "from keras.datasets import mnist\n",
    "\n",
    "np.random.seed(42)\n",
    "\n",
    "hu_encoder = 400\n",
    "hu_decoder = 400\n",
    "n_latent = 20\n",
    "continuous = False\n",
    "n_epochs = 40\n",
    "\n",
    "\n",
    "\n",
    "if continuous:\n",
    "    print \"Loading Freyface data\"\n",
    "    # Retrieved from: http://deeplearning.net/data/mnist/mnist.pkl.gz\n",
    "    f = open('freyfaces.pkl', 'rb')\n",
    "    x = cPickle.load(f)\n",
    "    f.close()\n",
    "    x_train = x[:1500]\n",
    "    x_valid = x[1500:]\n",
    "else:\n",
    "    print \"Loading MNIST data\"\n",
    "    # Retrieved from: http://deeplearning.net/data/mnist/mnist.pkl.gz\n",
    "    f = gzip.open('/home/peng/git/Machine_learning_for_reliability_analysis/Data/mnist.pkl.gz', 'rb')\n",
    "    (x_train, t_train), (x_valid, t_valid), (x_test, t_test) = cPickle.load(f)\n",
    "    f.close()\n",
    "\n",
    "path = \"./\"\n",
    "\n",
    "print \"instantiating model\"\n",
    "model = VAE(continuous, hu_encoder, hu_decoder, n_latent, x_train)\n",
    "\n",
    "\n",
    "batch_order = np.arange(int(model.N / model.batch_size))\n",
    "epoch = 0\n",
    "LB_list = []\n",
    "\n",
    "if os.path.isfile(path + \"params.pkl\"):\n",
    "    print \"Restarting from earlier saved parameters!\"\n",
    "    model.load_parameters(path)\n",
    "    LB_list = np.load(path + \"LB_list.npy\")\n",
    "    epoch = len(LB_list)\n",
    "\n",
    "if __name__ == \"__main__\":\n",
    "    print \"iterating\"\n",
    "    while epoch < n_epochs:\n",
    "        epoch += 1\n",
    "        start = time.time()\n",
    "        np.random.shuffle(batch_order)\n",
    "        LB = 0.\n",
    "\n",
    "        for batch in batch_order:\n",
    "            batch_LB = model.update(batch, epoch)\n",
    "            LB += batch_LB\n",
    "\n",
    "        LB /= len(batch_order)\n",
    "\n",
    "        LB_list = np.append(LB_list, LB)\n",
    "        print \"Epoch {0} finished. LB: {1}, time: {2}\".format(epoch, LB, time.time() - start)\n",
    "        np.save(path + \"LB_list.npy\", LB_list)\n",
    "        model.save_parameters(path)\n",
    "\n",
    "    valid_LB = model.likelihood(x_valid)\n",
    "    print \"LB on validation set: {0}\".format(valid_LB)"
   ]
  },
  {
   "cell_type": "code",
   "execution_count": 6,
   "metadata": {
    "collapsed": false
   },
   "outputs": [
    {
     "name": "stdout",
     "output_type": "stream",
     "text": [
      "LB on validation set: -106.569221497\n"
     ]
    }
   ],
   "source": [
    "while epoch < n_epochs:\n",
    "        epoch += 1\n",
    "        start = time.time()\n",
    "        np.random.shuffle(batch_order)\n",
    "        LB = 0.\n",
    "\n",
    "        for batch in batch_order:\n",
    "            batch_LB = model.update(batch, epoch)\n",
    "            LB += batch_LB\n",
    "\n",
    "        LB /= len(batch_order)\n",
    "\n",
    "        LB_list = np.append(LB_list, LB)\n",
    "        print \"Epoch {0} finished. LB: {1}, time: {2}\".format(epoch, LB, time.time() - start)\n",
    "        np.save(path + \"LB_list.npy\", LB_list)\n",
    "        model.save_parameters(path)\n",
    "\n",
    "valid_LB = model.likelihood(x_valid)\n",
    "print \"LB on validation set: {0}\".format(valid_LB)"
   ]
  },
  {
   "cell_type": "code",
   "execution_count": 7,
   "metadata": {
    "collapsed": false
   },
   "outputs": [
    {
     "name": "stdout",
     "output_type": "stream",
     "text": [
      "[-191.96208713 -149.30492386 -138.33427495 -131.81218208 -127.33495056\n",
      " -124.18300925 -121.96704718 -120.17315208 -118.60699931 -117.22489473\n",
      " -116.10246881 -115.16642603 -114.39040855 -113.70280688 -113.0250601\n",
      " -112.49415585 -112.00130396 -111.5875724  -111.13021101 -110.70714052\n",
      " -110.32448311 -109.9944493  -109.63852478 -109.35229849 -109.0724044\n",
      " -108.80673708 -108.60290627 -108.32268774 -108.11689992 -107.9195705\n",
      " -107.77989771 -107.56441959 -107.34577686 -107.22038417 -107.04672719\n",
      " -106.85159503 -106.72483969 -106.52336452 -106.39128046 -106.27445398]\n"
     ]
    }
   ],
   "source": [
    "print LB_list"
   ]
  },
  {
   "cell_type": "code",
   "execution_count": null,
   "metadata": {
    "collapsed": true
   },
   "outputs": [],
   "source": []
  }
 ],
 "metadata": {
  "kernelspec": {
   "display_name": "Python 2",
   "language": "python",
   "name": "python2"
  },
  "language_info": {
   "codemirror_mode": {
    "name": "ipython",
    "version": 2
   },
   "file_extension": ".py",
   "mimetype": "text/x-python",
   "name": "python",
   "nbconvert_exporter": "python",
   "pygments_lexer": "ipython2",
   "version": "2.7.11"
  }
 },
 "nbformat": 4,
 "nbformat_minor": 0
}
