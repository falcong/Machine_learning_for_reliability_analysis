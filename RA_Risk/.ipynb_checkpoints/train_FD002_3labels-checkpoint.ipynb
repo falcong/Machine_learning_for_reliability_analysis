{
 "cells": [
  {
   "cell_type": "code",
   "execution_count": 1,
   "metadata": {
    "collapsed": true
   },
   "outputs": [],
   "source": [
    "import sys\n",
    "sys.path.append('/home/peng/git/Machine_learning_for_reliability_analysis/Preprocess')\n",
    "sys.path.append('/home/peng/git/Machine_learning_for_reliability_analysis/DAlgorithms')\n",
    "\n",
    "import Preprocessdata\n",
    "import RFclass\n",
    "\n",
    "from __future__ import print_function\n",
    "from __future__ import division\n",
    "\n",
    "import logging\n",
    "from sklearn.datasets import make_classification\n",
    "from sklearn.cross_validation import cross_val_score\n",
    "\n",
    "from sklearn.ensemble import RandomForestClassifier as RFC\n",
    "\n",
    "\n",
    "from bayes_opt import BayesianOptimization\n",
    "from pandas.core.frame import DataFrame\n",
    "import numpy as np\n",
    "import pandas as pd\n",
    "import matplotlib as mpl\n",
    "import matplotlib.pyplot as plt\n",
    "\n",
    "from sklearn.metrics.classification import accuracy_score, confusion_matrix, classification_report\n",
    "from scipy.interpolate import spline\n",
    "from sklearn import metrics\n",
    "from sklearn.metrics import accuracy_score, precision_score, roc_auc_score\n",
    "\n",
    "from sklearn.gaussian_process import GaussianProcess\n",
    "import timeit\n",
    "\n",
    "import seaborn as sns\n",
    "from IPython.core.pylabtools import figsize\n",
    "from scipy.interpolate import spline\n",
    "from sklearn.svm import SVC\n",
    "from sklearn.cross_validation import cross_val_score\n",
    "from sklearn.cross_validation import StratifiedShuffleSplit\n",
    "from sklearn.grid_search import GridSearchCV\n",
    "import re\n",
    "from astropy.io.fits.header import Header\n",
    "from matplotlib.pyplot import xlim\n",
    "\n",
    "%matplotlib inline"
   ]
  },
  {
   "cell_type": "code",
   "execution_count": 2,
   "metadata": {
    "collapsed": false
   },
   "outputs": [
    {
     "name": "stderr",
     "output_type": "stream",
     "text": [
      "Using Theano backend.\n",
      "Using gpu device 0: GeForce GTX 980 Ti (CNMeM is enabled with initial size: 75.0% of memory, cuDNN 5005)\n"
     ]
    }
   ],
   "source": [
    "# define the method that will be used including the keras classifier and label inverse transform for \n",
    "#model evaluation\n",
    "\n",
    "from keras.models import Sequential\n",
    "from keras.layers import Dense, Dropout, Activation, Embedding\n",
    "\n",
    "\n",
    "def keras_classifier():\n",
    "\n",
    "    hidden_size = 200\n",
    "\n",
    "    model_1 = Sequential()\n",
    "    model_1.add(Dense(hidden_size, input_dim=encoded_dim, activation='relu'))\n",
    "    model_1.add(Dense(hidden_size, activation='relu'))\n",
    "    model_1.add(Dense(3\n",
    "                  , activation='softmax'))\n",
    "\n",
    "    model_1.compile(optimizer='rmsprop',\n",
    "              loss='categorical_crossentropy',\n",
    "              metrics=['accuracy'])\n",
    "    return model_1\n",
    "\n",
    "def convert_label(b_array):\n",
    "    \n",
    "    \n",
    "    label_predict = []\n",
    "    length = np.shape(b_array)[0]\n",
    "    dim = np.shape(b_array)[1]\n",
    "    \n",
    "    outputtest = b_array\n",
    "    \n",
    "    if dim == 3:\n",
    "        for i in xrange(0, length):\n",
    "            if (outputtest[i][0]>=outputtest[i][1]) & (outputtest[i][0]>=outputtest[i][2]):\n",
    "                \n",
    "                label_predict.append(0)\n",
    "                \n",
    "            elif (outputtest[i][1]>=outputtest[i][0])& (outputtest[i][1]>=outputtest[i][2]):\n",
    "                label_predict.append(1)\n",
    "                \n",
    "            elif (outputtest[i][2]>=outputtest[i][1])& (outputtest[i][2]>=outputtest[i][0]):\n",
    "                label_predict.append(2)\n",
    "               \n",
    "     \n",
    "    elif dim ==2:\n",
    "        \n",
    "         for i in xrange(0, length):\n",
    "            if (outputtest[i][0]>=outputtest[i][1]):\n",
    "                \n",
    "                label_predict.append(0)\n",
    "            elif (outputtest[i][1]>=outputtest[i][0]):\n",
    "                label_predict.append(1)\n",
    "                \n",
    "    return label_predict  \n"
   ]
  },
  {
   "cell_type": "code",
   "execution_count": 11,
   "metadata": {
    "collapsed": false
   },
   "outputs": [],
   "source": [
    "# Load data set and target values\n",
    "\n",
    "start = timeit.default_timer()\n",
    "p= Preprocessdata.standardprocess()\n",
    "\n",
    "\n",
    "save_path = '/home/peng/Documents/Project_C/Turbofan/Dataset/'\n",
    "#names = xrange(0,28)\n",
    "\n",
    "df = pd.read_csv(save_path + 'train_FD004_3_p20_.txt', header=0)\n",
    "\n",
    "rad_stat = 2\n",
    "tree_seed = 'rf'\n",
    "\n",
    "# drop the first column\n",
    "df = df.drop(df.columns[[0]], axis=1)\n",
    "\n",
    "\n",
    "#split the dataset into train and label first\n",
    "\n",
    "df_array = np.array(df)\n",
    "target_all = df_array[:,-1]\n",
    "train_all = df_array[:, 0:-1]\n",
    "\n",
    "# change the label to be binary Optional\n",
    "from sklearn.preprocessing import label_binarize\n",
    "\n",
    "target_all = label_binarize(target_all, classes = [0,1,2])\n",
    "\n",
    "\n",
    "\n",
    "#print (train_all[:,0:2])\n",
    "from sklearn.preprocessing import scale\n",
    "\n",
    "train_all_scale = scale(train_all)\n",
    "#print (train_all_scale[:,0:2])\n",
    "\n",
    "from sklearn.cross_validation import train_test_split\n",
    "train, test, trainlabel,  testlabel = train_test_split( train_all_scale, target_all, test_size=0.3, random_state=42)\n",
    "\n",
    "#print (df)"
   ]
  },
  {
   "cell_type": "code",
   "execution_count": 12,
   "metadata": {
    "collapsed": false
   },
   "outputs": [
    {
     "name": "stdout",
     "output_type": "stream",
     "text": [
      "The running takes 0.5305361866950988 min\n"
     ]
    }
   ],
   "source": [
    "# Variational autoencoder\n",
    "\n",
    "'''This script demonstrates how to build a variational autoencoder with Keras.\n",
    "Reference: \"Auto-Encoding Variational Bayes\" https://arxiv.org/abs/1312.6114\n",
    "'''\n",
    "import numpy as np\n",
    "import matplotlib.pyplot as plt\n",
    "%matplotlib inline\n",
    "\n",
    "from keras.layers import Input, Dense, Lambda\n",
    "from keras.models import Model\n",
    "from keras import backend as K\n",
    "from keras import objectives\n",
    "import timeit\n",
    "\n",
    "\n",
    "start = timeit.default_timer()\n",
    "\n",
    "#batch_size = 100\n",
    "original_dim = 24\n",
    "latent_dim = 2\n",
    "intermediate_dim = 24\n",
    "nb_epoch = 50\n",
    "\n",
    "x = Input(shape=(24,))\n",
    "h = Dense(intermediate_dim, activation='relu')(x)\n",
    "z_mean = Dense(latent_dim)(h)\n",
    "z_log_var = Dense(latent_dim)(h)\n",
    "\n",
    "\n",
    "def sampling(args):\n",
    "    z_mean, z_log_var = args\n",
    "    epsilon = K.random_normal(shape=(latent_dim, ), mean=0.)\n",
    "    return z_mean + K.exp(z_log_var / 2) * epsilon\n",
    "\n",
    "# note that \"output_shape\" isn't necessary with the TensorFlow backend\n",
    "z = Lambda(sampling, output_shape=(latent_dim,))([z_mean, z_log_var])\n",
    "\n",
    "# we instantiate these layers separately so as to reuse them later\n",
    "decoder_h = Dense(intermediate_dim, activation='relu')\n",
    "decoder_mean = Dense(original_dim, activation='sigmoid')\n",
    "h_decoded = decoder_h(z)\n",
    "x_decoded_mean = decoder_mean(h_decoded)\n",
    "\n",
    "\n",
    "def vae_loss(x, x_decoded_mean):\n",
    "    xent_loss = original_dim * objectives.binary_crossentropy(x, x_decoded_mean)\n",
    "    kl_loss = - 0.5 * K.sum(1 + z_log_var - K.square(z_mean) - K.exp(z_log_var), axis=-1)\n",
    "    return xent_loss + kl_loss\n",
    "\n",
    "vae = Model(x, x_decoded_mean)\n",
    "vae.compile(optimizer='rmsprop', loss=vae_loss)\n",
    "\n",
    "vae.fit(train, train,\n",
    "        shuffle=True,\n",
    "        nb_epoch=nb_epoch,\n",
    "        #batch_size=batch_size,\n",
    "        verbose = 0)\n",
    "\n",
    "# build a model to project inputs on the latent space\n",
    "encoder = Model(x, z_mean)\n",
    "\n",
    "# display a 2D plot of the digit classes in the latent space\n",
    "\n",
    "train_encoded = encoder.predict(train)\n",
    "#print(np.shape(train)[1])\n",
    "test_encoded = encoder.predict(test)\n",
    "#print(np.shape(test))\n",
    "\n",
    "encoded_dim = np.shape(train_encoded)[1]\n",
    "\n",
    "stop = timeit.default_timer()\n",
    "\n",
    "print (\"The running takes %r min\" %((stop-start)/60))"
   ]
  },
  {
   "cell_type": "code",
   "execution_count": 20,
   "metadata": {
    "collapsed": false
   },
   "outputs": [
    {
     "name": "stdout",
     "output_type": "stream",
     "text": [
      "The running takes 0.25509531497955323 min\n"
     ]
    },
    {
     "name": "stderr",
     "output_type": "stream",
     "text": [
      "/home/peng/anaconda2/lib/python2.7/site-packages/keras/backend/theano_backend.py:514: UserWarning: theano.function was asked to create a function computing outputs given certain inputs, but the provided input variable at index 1 is not part of the computational graph needed to compute the outputs: keras_learning_phase.\n",
      "To make this warning into an error, you can pass the parameter on_unused_input='raise' to theano.function. To disable it completely, use on_unused_input='ignore'.\n",
      "  **kwargs)\n"
     ]
    }
   ],
   "source": [
    "#sparse autoencoders\n",
    "\n",
    "from keras.layers import Input, Dense\n",
    "from keras.models import Model\n",
    "from keras import regularizers\n",
    "\n",
    "# this is the size of our encoded representations\n",
    "encoding_dim = 6  # 32 floats -> compression of factor 24.5, assuming the input is 784 floats\n",
    "\n",
    "# this is our input placeholder\n",
    "input_dim= Input(shape=(24,))\n",
    "# \"encoded\" is the encoded representation of the input\n",
    "encoded = Dense(48, activation='tanh')(input_dim)\n",
    "encoded = Dense(48, activation='tanh', activity_regularizer=regularizers.activity_l1(10e-5))(encoded)\n",
    "\n",
    "decoded = Dense(24, activation='tanh')(encoded)\n",
    "\n",
    "\n",
    "# this model maps an input to its reconstruction\n",
    "autoencoder = Model(input=input_dim, output=decoded)\n",
    "\n",
    "encoder = Model(input=input_dim, output=encoded)\n",
    "autoencoder.compile(optimizer='sgd', loss='mse')\n",
    "\n",
    "start = timeit.default_timer()\n",
    "autoencoder.fit(train, train,\n",
    "                nb_epoch=5,\n",
    "                #batch_size=100,\n",
    "                shuffle=True, verbose = 0\n",
    "                )\n",
    "\n",
    "stop = timeit.default_timer()\n",
    "\n",
    "print (\"The running takes %r min\" %((stop-start)/60))\n",
    "\n",
    "# get the encoded representations \n",
    "train_encoded = encoder.predict(train)\n",
    "#print(np.shape(train)[1])\n",
    "test_encoded = encoder.predict(test)\n",
    "#print(np.shape(test))\n",
    "\n",
    "encoded_dim = np.shape(train_encoded)[1]"
   ]
  },
  {
   "cell_type": "code",
   "execution_count": 26,
   "metadata": {
    "collapsed": false
   },
   "outputs": [
    {
     "name": "stdout",
     "output_type": "stream",
     "text": [
      "The running takes 0.03853278160095215 min\n"
     ]
    }
   ],
   "source": [
    "### 1. denosing autoencoders\n",
    "\n",
    "from keras.layers import Input, Dense\n",
    "from keras.models import Model\n",
    "\n",
    "\n",
    "noise_factor = 0.5\n",
    "train_noisy = train + noise_factor * np.random.normal(loc=0.0, scale=1.0, size=train.shape) \n",
    "\n",
    "\n",
    "train_noisy = np.clip(train_noisy, 0., 1.)\n",
    "\n",
    "\n",
    "# this is the size of our encoded representations\n",
    "\n",
    "\n",
    "# this is our input placeholder\n",
    "input_dim= Input(shape=(24,))\n",
    "# \"encoded\" is the encoded representation of the input\n",
    "encoded = Dense(24, activation='tanh')(input_dim)\n",
    "\n",
    "encoded = Dense(24, activation='tanh')(encoded)\n",
    "\n",
    "decoded = Dense(24, activation='tanh')(encoded)\n",
    "\n",
    "\n",
    "# this model maps an input to its reconstruction\n",
    "autoencoder = Model(input=input_dim, output=decoded)\n",
    "\n",
    "encoder = Model(input=input_dim, output=encoded)\n",
    "autoencoder.compile(optimizer='sgd', loss='mse')\n",
    "\n",
    "start = timeit.default_timer()\n",
    "autoencoder.fit(train_noisy, train,\n",
    "                nb_epoch=5,\n",
    "                #batch_size=100,\n",
    "                shuffle=True,verbose = 0\n",
    "                )\n",
    "\n",
    "stop = timeit.default_timer()\n",
    "\n",
    "print (\"The running takes %r min\" %((stop-start)/60))\n",
    "\n",
    "# get the encoded representations \n",
    "train_encoded = encoder.predict(train)\n",
    "#print(np.shape(train)[1])\n",
    "test_encoded = encoder.predict(test)\n",
    "#print(np.shape(test))\n",
    "\n",
    "encoded_dim = np.shape(train_encoded)[1]"
   ]
  },
  {
   "cell_type": "code",
   "execution_count": 4,
   "metadata": {
    "collapsed": false
   },
   "outputs": [
    {
     "name": "stdout",
     "output_type": "stream",
     "text": [
      "Epoch 1/5\n",
      "22934/22934 [==============================] - 1s - loss: 0.2705     \n",
      "Epoch 2/5\n",
      "22934/22934 [==============================] - 1s - loss: 0.1762     \n",
      "Epoch 3/5\n",
      "22934/22934 [==============================] - 1s - loss: 0.1662     \n",
      "Epoch 4/5\n",
      "22934/22934 [==============================] - 1s - loss: 0.1613     \n",
      "Epoch 5/5\n",
      "22934/22934 [==============================] - 1s - loss: 0.1581     \n",
      "The running takes 0.11804656585057577 min\n"
     ]
    }
   ],
   "source": [
    "#normal autoencoders\n",
    "\n",
    "from keras.layers import Input, Dense\n",
    "from keras.models import Model\n",
    "\n",
    "# this is the size of our encoded representations\n",
    "encoding_dim = 6  # 32 floats -> compression of factor 24.5, assuming the input is 784 floats\n",
    "\n",
    "# this is our input placeholder\n",
    "input_dim= Input(shape=(24,))\n",
    "# \"encoded\" is the encoded representation of the input\n",
    "encoded = Dense(48, activation='tanh')(input_dim)\n",
    "encoded = Dense(48, activation='tanh')(encoded)\n",
    "\n",
    "decoded = Dense(24, activation='tanh')(encoded)\n",
    "\n",
    "\n",
    "# this model maps an input to its reconstruction\n",
    "autoencoder = Model(input=input_dim, output=decoded)\n",
    "\n",
    "encoder = Model(input=input_dim, output=encoded)\n",
    "autoencoder.compile(optimizer='sgd', loss='mse')\n",
    "\n",
    "start = timeit.default_timer()\n",
    "autoencoder.fit(train, train,\n",
    "                nb_epoch=5,\n",
    "                #batch_size=100,\n",
    "                shuffle=True, verbose = 0\n",
    "                )\n",
    "\n",
    "stop = timeit.default_timer()\n",
    "\n",
    "print (\"The running takes %r min\" %((stop-start)/60))\n",
    "\n",
    "# get the encoded representations \n",
    "train_encoded = encoder.predict(train)\n",
    "#print(np.shape(train)[1])\n",
    "test_encoded = encoder.predict(test)\n",
    "#print(np.shape(test))\n",
    "\n",
    "encoded_dim = np.shape(train_encoded)[1]"
   ]
  },
  {
   "cell_type": "code",
   "execution_count": 13,
   "metadata": {
    "collapsed": false
   },
   "outputs": [
    {
     "name": "stdout",
     "output_type": "stream",
     "text": [
      "The running takes 0.475037149588267 min\n"
     ]
    }
   ],
   "source": [
    "## test the kfold in sklearn\n",
    "start = timeit.default_timer()\n",
    "\n",
    "from sklearn.cross_validation import KFold\n",
    "kf = KFold(n=np.shape(train_encoded)[0], n_folds=10, shuffle=False,\n",
    "                               random_state=42)\n",
    "\n",
    "\n",
    "model_1 = keras_classifier()\n",
    "\n",
    "cv_acc=[]\n",
    "cv_auc= []\n",
    "cv_prec =[]\n",
    "\n",
    "test_acc=[]\n",
    "test_auc= []\n",
    "test_prec =[]\n",
    "\n",
    "for train_index, test_index in kf:\n",
    "  \n",
    "    model_1.fit(train_encoded[train_index], trainlabel[train_index], nb_epoch=5, verbose = 0)\n",
    "    \n",
    "    #model_1.predict(train[test_index], trainlabel[test_index])\n",
    "    #scores = model_1.evaluate(train_encoded[test_index], trainlabel[test_index], verbose=0)\n",
    "    #print(\"%s: %.2f%%\" % (model_1.metrics_names[1], scores[1]*100))\n",
    "    #cv_acc.append(scores[1])\n",
    "    \n",
    "    outputtest = model_1.predict(train_encoded[test_index])\n",
    "    label_output = convert_label(outputtest)\n",
    "    label_test = convert_label(trainlabel[test_index])\n",
    "    cv_prec.append( precision_score(label_test, label_output, average =None)[-1])\n",
    "    cv_acc.append( accuracy_score(label_test, label_output))\n",
    "    cv_auc.append( roc_auc_score(trainlabel[test_index], outputtest))\n",
    "\n",
    "    \n",
    "model_1.fit(train_encoded, trainlabel, nb_epoch = 5, verbose = 0)\n",
    "outputtest_1 = model_1.predict(test_encoded)\n",
    "label_output_1 = convert_label(outputtest_1)\n",
    "label_test_1 = convert_label(testlabel)\n",
    "test_prec.append( precision_score(label_test_1, label_output_1, average =None)[-1])\n",
    "test_acc.append( accuracy_score(label_test_1, label_output_1))\n",
    "test_auc.append( roc_auc_score(testlabel, outputtest_1))\n",
    "\n",
    "stop = timeit.default_timer()\n",
    "\n",
    "print (\"The running takes %r min\" %((stop-start)/60))"
   ]
  },
  {
   "cell_type": "code",
   "execution_count": 14,
   "metadata": {
    "collapsed": false
   },
   "outputs": [
    {
     "name": "stdout",
     "output_type": "stream",
     "text": [
      "cv_accuracy:  0.599043617232\n",
      "cv_precision:  0.810018495787\n",
      "cv_auc:  0.80136576518\n",
      "test_accuracy:  [0.61301002147458838]\n",
      "test_precision:  [0.82934214148086982]\n",
      "test_auc:  [0.81037024681982073]\n",
      "[[2188 1257  246]\n",
      " [1726 1650  374]\n",
      " [ 139  583 3013]]\n",
      "             precision    recall  f1-score   support\n",
      "\n",
      "          0       0.54      0.59      0.57      3691\n",
      "          1       0.47      0.44      0.46      3750\n",
      "          2       0.83      0.81      0.82      3735\n",
      "\n",
      "avg / total       0.61      0.61      0.61     11176\n",
      "\n"
     ]
    }
   ],
   "source": [
    "#VAE FD004\n",
    "\n",
    "print ('cv_accuracy: ', np.mean(cv_acc))\n",
    "\n",
    "print ('cv_precision: ',np.mean(cv_prec))\n",
    "\n",
    "print ('cv_auc: ',np.mean(cv_auc))\n",
    "\n",
    "print ('test_accuracy: ',test_acc)\n",
    "\n",
    "print ('test_precision: ',test_prec)\n",
    "\n",
    "print ('test_auc: ',test_auc)\n",
    "\n",
    "print (confusion_matrix(label_test_1, label_output_1))\n",
    "\n",
    "print( classification_report(label_test_1, label_output_1))"
   ]
  },
  {
   "cell_type": "code",
   "execution_count": 10,
   "metadata": {
    "collapsed": false
   },
   "outputs": [
    {
     "name": "stdout",
     "output_type": "stream",
     "text": [
      "cv_accuracy:  0.726084173771\n",
      "cv_precision:  0.97284141954\n",
      "cv_auc:  0.884955318769\n",
      "test_accuracy:  [0.7366437596985147]\n",
      "test_precision:  [0.97612732095490717]\n",
      "test_auc:  [0.88763902258894856]\n",
      "[[ 793  674    1]\n",
      " [ 411 1058   35]\n",
      " [   1   66 1472]]\n",
      "             precision    recall  f1-score   support\n",
      "\n",
      "          0       0.66      0.54      0.59      1468\n",
      "          1       0.59      0.70      0.64      1504\n",
      "          2       0.98      0.96      0.97      1539\n",
      "\n",
      "avg / total       0.74      0.74      0.74      4511\n",
      "\n"
     ]
    }
   ],
   "source": [
    "#VAE FD003\n",
    "\n",
    "print ('cv_accuracy: ', np.mean(cv_acc))\n",
    "\n",
    "print ('cv_precision: ',np.mean(cv_prec))\n",
    "\n",
    "print ('cv_auc: ',np.mean(cv_auc))\n",
    "\n",
    "print ('test_accuracy: ',test_acc)\n",
    "\n",
    "print ('test_precision: ',test_prec)\n",
    "\n",
    "print ('test_auc: ',test_auc)\n",
    "\n",
    "print (confusion_matrix(label_test_1, label_output_1))\n",
    "\n",
    "print( classification_report(label_test_1, label_output_1))"
   ]
  },
  {
   "cell_type": "code",
   "execution_count": 6,
   "metadata": {
    "collapsed": false
   },
   "outputs": [
    {
     "name": "stdout",
     "output_type": "stream",
     "text": [
      "cv_accuracy:  0.619912048002\n",
      "cv_precision:  0.850690609545\n",
      "cv_auc:  0.823801414249\n",
      "test_accuracy:  [0.66690405941601383]\n",
      "test_precision:  [0.8542772861356932]\n",
      "test_auc:  [0.85668837572216117]\n",
      "[[1387 1739  116]\n",
      " [ 627 2272  378]\n",
      " [  27  387 2896]]\n",
      "             precision    recall  f1-score   support\n",
      "\n",
      "          0       0.68      0.43      0.53      3242\n",
      "          1       0.52      0.69      0.59      3277\n",
      "          2       0.85      0.87      0.86      3310\n",
      "\n",
      "avg / total       0.68      0.67      0.66      9829\n",
      "\n"
     ]
    }
   ],
   "source": [
    "#VAE FD002\n",
    "\n",
    "print ('cv_accuracy: ', np.mean(cv_acc))\n",
    "\n",
    "print ('cv_precision: ',np.mean(cv_prec))\n",
    "\n",
    "print ('cv_auc: ',np.mean(cv_auc))\n",
    "\n",
    "print ('test_accuracy: ',test_acc)\n",
    "\n",
    "print ('test_precision: ',test_prec)\n",
    "\n",
    "print ('test_auc: ',test_auc)\n",
    "\n",
    "print (confusion_matrix(label_test_1, label_output_1))\n",
    "\n",
    "print( classification_report(label_test_1, label_output_1))"
   ]
  },
  {
   "cell_type": "code",
   "execution_count": 22,
   "metadata": {
    "collapsed": false
   },
   "outputs": [
    {
     "name": "stdout",
     "output_type": "stream",
     "text": [
      "cv_accuracy:  0.709037512676\n",
      "cv_precision:  0.894131418796\n",
      "cv_auc:  0.875718760619\n",
      "test_accuracy:  [0.74504018720113951]\n",
      "test_precision:  [0.93815670969678777]\n",
      "test_auc:  [0.89754309599820903]\n",
      "[[1952 1271   19]\n",
      " [ 844 2246  187]\n",
      " [   5  180 3125]]\n",
      "             precision    recall  f1-score   support\n",
      "\n",
      "          0       0.70      0.60      0.65      3242\n",
      "          1       0.61      0.69      0.64      3277\n",
      "          2       0.94      0.94      0.94      3310\n",
      "\n",
      "avg / total       0.75      0.75      0.74      9829\n",
      "\n"
     ]
    }
   ],
   "source": [
    "#sparse\n",
    "\n",
    "print ('cv_accuracy: ', np.mean(cv_acc))\n",
    "\n",
    "print ('cv_precision: ',np.mean(cv_prec))\n",
    "\n",
    "print ('cv_auc: ',np.mean(cv_auc))\n",
    "\n",
    "print ('test_accuracy: ',test_acc)\n",
    "\n",
    "print ('test_precision: ',test_prec)\n",
    "\n",
    "print ('test_auc: ',test_auc)\n",
    "\n",
    "print (confusion_matrix(label_test_1, label_output_1))\n",
    "\n",
    "print( classification_report(label_test_1, label_output_1))"
   ]
  },
  {
   "cell_type": "code",
   "execution_count": 28,
   "metadata": {
    "collapsed": false
   },
   "outputs": [
    {
     "name": "stdout",
     "output_type": "stream",
     "text": [
      "cv_accuracy:  0.613282226982\n",
      "cv_precision:  0.816502747879\n",
      "cv_auc:  0.815721863741\n",
      "test_accuracy:  [0.71278868653983107]\n",
      "test_precision:  [0.90417542805647344]\n",
      "test_auc:  [0.88033990841131204]\n",
      "[[1753 1423   66]\n",
      " [ 781 2243  253]\n",
      " [  12  288 3010]]\n",
      "             precision    recall  f1-score   support\n",
      "\n",
      "          0       0.69      0.54      0.61      3242\n",
      "          1       0.57      0.68      0.62      3277\n",
      "          2       0.90      0.91      0.91      3310\n",
      "\n",
      "avg / total       0.72      0.71      0.71      9829\n",
      "\n"
     ]
    }
   ],
   "source": [
    "#denoising\n",
    "\n",
    "print ('cv_accuracy: ', np.mean(cv_acc))\n",
    "\n",
    "print ('cv_precision: ',np.mean(cv_prec))\n",
    "\n",
    "print ('cv_auc: ',np.mean(cv_auc))\n",
    "\n",
    "print ('test_accuracy: ',test_acc)\n",
    "\n",
    "print ('test_precision: ',test_prec)\n",
    "\n",
    "print ('test_auc: ',test_auc)\n",
    "\n",
    "print (confusion_matrix(label_test_1, label_output_1))\n",
    "\n",
    "print( classification_report(label_test_1, label_output_1))"
   ]
  },
  {
   "cell_type": "code",
   "execution_count": null,
   "metadata": {
    "collapsed": true
   },
   "outputs": [],
   "source": []
  }
 ],
 "metadata": {
  "kernelspec": {
   "display_name": "Python 2",
   "language": "python",
   "name": "python2"
  },
  "language_info": {
   "codemirror_mode": {
    "name": "ipython",
    "version": 2
   },
   "file_extension": ".py",
   "mimetype": "text/x-python",
   "name": "python",
   "nbconvert_exporter": "python",
   "pygments_lexer": "ipython2",
   "version": "2.7.11"
  }
 },
 "nbformat": 4,
 "nbformat_minor": 0
}
