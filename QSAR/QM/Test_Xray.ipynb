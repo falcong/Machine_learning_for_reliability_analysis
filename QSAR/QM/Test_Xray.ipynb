{
 "cells": [
  {
   "cell_type": "code",
   "execution_count": 1,
   "metadata": {
    "collapsed": true
   },
   "outputs": [],
   "source": [
    "import numpy as np\n",
    "import pandas as pd\n",
    "import xarray as xr\n",
    "%matplotlib inline"
   ]
  },
  {
   "cell_type": "code",
   "execution_count": 2,
   "metadata": {
    "collapsed": false
   },
   "outputs": [
    {
     "data": {
      "text/plain": [
       "<xarray.DataArray (dim_0: 2, dim_1: 3)>\n",
       "array([[-0.41642861, -0.33708466,  0.40957323],\n",
       "       [ 0.72625947,  0.26320945, -0.03576332]])\n",
       "Coordinates:\n",
       "  * dim_0    (dim_0) int64 0 1\n",
       "  * dim_1    (dim_1) int64 0 1 2"
      ]
     },
     "execution_count": 2,
     "metadata": {},
     "output_type": "execute_result"
    }
   ],
   "source": [
    "xr.DataArray(np.random.randn(2,3))"
   ]
  },
  {
   "cell_type": "code",
   "execution_count": 11,
   "metadata": {
    "collapsed": true
   },
   "outputs": [],
   "source": [
    "data = xr.DataArray(np.random.randn(2,3), [('x', ['a', 'b']), ('y', [-2, 0, 2])])"
   ]
  },
  {
   "cell_type": "code",
   "execution_count": 12,
   "metadata": {
    "collapsed": false
   },
   "outputs": [
    {
     "name": "stdout",
     "output_type": "stream",
     "text": [
      "<xarray.DataArray (x: 2, y: 3)>\n",
      "array([[-1.81672985,  0.79594557,  1.06009156],\n",
      "       [ 0.65119728, -1.05987158,  0.51464388]])\n",
      "Coordinates:\n",
      "  * x        (x) |S1 'a' 'b'\n",
      "  * y        (y) int64 -2 0 2\n"
     ]
    }
   ],
   "source": [
    "print data"
   ]
  },
  {
   "cell_type": "code",
   "execution_count": 13,
   "metadata": {
    "collapsed": false
   },
   "outputs": [
    {
     "data": {
      "text/plain": [
       "<xarray.DataArray 'foo' (dim_0: 3)>\n",
       "array([0, 1, 2])\n",
       "Coordinates:\n",
       "  * dim_0    (dim_0) object 'a' 'b' 'c'"
      ]
     },
     "execution_count": 13,
     "metadata": {},
     "output_type": "execute_result"
    }
   ],
   "source": [
    "xr.DataArray(pd.Series(range(3), index=list('abc'), name='foo'))"
   ]
  },
  {
   "cell_type": "code",
   "execution_count": 14,
   "metadata": {
    "collapsed": false
   },
   "outputs": [
    {
     "data": {
      "text/plain": [
       "array([[-1.81672985,  0.79594557,  1.06009156],\n",
       "       [ 0.65119728, -1.05987158,  0.51464388]])"
      ]
     },
     "execution_count": 14,
     "metadata": {},
     "output_type": "execute_result"
    }
   ],
   "source": [
    "data.values"
   ]
  },
  {
   "cell_type": "code",
   "execution_count": 15,
   "metadata": {
    "collapsed": false
   },
   "outputs": [
    {
     "data": {
      "text/plain": [
       "('x', 'y')"
      ]
     },
     "execution_count": 15,
     "metadata": {},
     "output_type": "execute_result"
    }
   ],
   "source": [
    "data.dims"
   ]
  },
  {
   "cell_type": "code",
   "execution_count": 16,
   "metadata": {
    "collapsed": false
   },
   "outputs": [
    {
     "data": {
      "text/plain": [
       "Coordinates:\n",
       "  * x        (x) |S1 'a' 'b'\n",
       "  * y        (y) int64 -2 0 2"
      ]
     },
     "execution_count": 16,
     "metadata": {},
     "output_type": "execute_result"
    }
   ],
   "source": [
    "data.coords"
   ]
  },
  {
   "cell_type": "code",
   "execution_count": 17,
   "metadata": {
    "collapsed": false
   },
   "outputs": [
    {
     "data": {
      "text/plain": [
       "OrderedDict()"
      ]
     },
     "execution_count": 17,
     "metadata": {},
     "output_type": "execute_result"
    }
   ],
   "source": [
    "data.attrs"
   ]
  },
  {
   "cell_type": "code",
   "execution_count": 20,
   "metadata": {
    "collapsed": false
   },
   "outputs": [
    {
     "data": {
      "text/plain": [
       "<xarray.DataArray (x: 1, y: 3)>\n",
       "array([[ 0.65119728, -1.05987158,  0.51464388]])\n",
       "Coordinates:\n",
       "  * x        (x) |S1 'b'\n",
       "  * y        (y) int64 -2 0 2"
      ]
     },
     "execution_count": 20,
     "metadata": {},
     "output_type": "execute_result"
    }
   ],
   "source": [
    "data[[1]]"
   ]
  },
  {
   "cell_type": "code",
   "execution_count": 22,
   "metadata": {
    "collapsed": false
   },
   "outputs": [
    {
     "data": {
      "text/plain": [
       "<xarray.DataArray (y: 3)>\n",
       "array([ 0.65119728, -1.05987158,  0.51464388])\n",
       "Coordinates:\n",
       "    x        |S1 'b'\n",
       "  * y        (y) int64 -2 0 2"
      ]
     },
     "execution_count": 22,
     "metadata": {},
     "output_type": "execute_result"
    }
   ],
   "source": [
    "data.loc['b']"
   ]
  },
  {
   "cell_type": "code",
   "execution_count": 31,
   "metadata": {
    "collapsed": false
   },
   "outputs": [
    {
     "data": {
      "text/plain": [
       "<xarray.DataArray (x: 2, y: 2)>\n",
       "array([[-1.81672985,  0.79594557],\n",
       "       [ 0.65119728, -1.05987158]])\n",
       "Coordinates:\n",
       "  * x        (x) |S1 'a' 'b'\n",
       "  * y        (y) int64 -2 0"
      ]
     },
     "execution_count": 31,
     "metadata": {},
     "output_type": "execute_result"
    }
   ],
   "source": [
    "data.isel(y=slice(-1))"
   ]
  },
  {
   "cell_type": "code",
   "execution_count": 32,
   "metadata": {
    "collapsed": false
   },
   "outputs": [
    {
     "data": {
      "text/plain": [
       "<xarray.DataArray (x: 2)>\n",
       "array([ 0.01310243,  0.03532319])\n",
       "Coordinates:\n",
       "  * x        (x) |S1 'a' 'b'"
      ]
     },
     "execution_count": 32,
     "metadata": {},
     "output_type": "execute_result"
    }
   ],
   "source": [
    "data.mean(dim='y')"
   ]
  },
  {
   "cell_type": "code",
   "execution_count": 33,
   "metadata": {
    "collapsed": true
   },
   "outputs": [],
   "source": [
    "a = xr.DataArray(np.random.randn(3), [data.coords['y']])\n",
    "\n",
    "b = xr.DataArray(np.random.randn(4), dims='z')"
   ]
  },
  {
   "cell_type": "code",
   "execution_count": 35,
   "metadata": {
    "collapsed": false
   },
   "outputs": [
    {
     "data": {
      "text/plain": [
       "(<xarray.DataArray (y: 3)>\n",
       " array([ 0.77462532,  0.23748713, -1.58299842])\n",
       " Coordinates:\n",
       "   * y        (y) int64 -2 0 2, <xarray.DataArray (z: 4)>\n",
       " array([-0.59335201, -1.14071829,  0.10781373,  1.07008236])\n",
       " Coordinates:\n",
       "   * z        (z) int64 0 1 2 3)"
      ]
     },
     "execution_count": 35,
     "metadata": {},
     "output_type": "execute_result"
    }
   ],
   "source": [
    "a, b"
   ]
  },
  {
   "cell_type": "code",
   "execution_count": 36,
   "metadata": {
    "collapsed": false
   },
   "outputs": [
    {
     "data": {
      "text/plain": [
       "<xarray.DataArray (y: 3, z: 4)>\n",
       "array([[ 0.18127331, -0.36609297,  0.88243905,  1.84470768],\n",
       "       [-0.35586489, -0.90323117,  0.34530086,  1.30756949],\n",
       "       [-2.17635043, -2.72371671, -1.47518469, -0.51291606]])\n",
       "Coordinates:\n",
       "  * y        (y) int64 -2 0 2\n",
       "  * z        (z) int64 0 1 2 3"
      ]
     },
     "execution_count": 36,
     "metadata": {},
     "output_type": "execute_result"
    }
   ],
   "source": [
    "a + b"
   ]
  },
  {
   "cell_type": "code",
   "execution_count": 37,
   "metadata": {
    "collapsed": false
   },
   "outputs": [
    {
     "data": {
      "text/plain": [
       "<xarray.DataArray (z: 4, y: 3)>\n",
       "array([[ 0.18127331, -0.35586489, -2.17635043],\n",
       "       [-0.36609297, -0.90323117, -2.72371671],\n",
       "       [ 0.88243905,  0.34530086, -1.47518469],\n",
       "       [ 1.84470768,  1.30756949, -0.51291606]])\n",
       "Coordinates:\n",
       "  * z        (z) int64 0 1 2 3\n",
       "  * y        (y) int64 -2 0 2"
      ]
     },
     "execution_count": 37,
     "metadata": {},
     "output_type": "execute_result"
    }
   ],
   "source": [
    "b + a"
   ]
  },
  {
   "cell_type": "code",
   "execution_count": null,
   "metadata": {
    "collapsed": true
   },
   "outputs": [],
   "source": [
    "b"
   ]
  }
 ],
 "metadata": {
  "kernelspec": {
   "display_name": "Python 2",
   "language": "python",
   "name": "python2"
  },
  "language_info": {
   "codemirror_mode": {
    "name": "ipython",
    "version": 2
   },
   "file_extension": ".py",
   "mimetype": "text/x-python",
   "name": "python",
   "nbconvert_exporter": "python",
   "pygments_lexer": "ipython2",
   "version": "2.7.12"
  }
 },
 "nbformat": 4,
 "nbformat_minor": 0
}
