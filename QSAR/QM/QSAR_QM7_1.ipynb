{
 "cells": [
  {
   "cell_type": "code",
   "execution_count": 1,
   "metadata": {
    "collapsed": false
   },
   "outputs": [],
   "source": [
    "import sys\n",
    "sys.path.append('/home/peng/git/Machine_learning_for_reliability_analysis/Preprocess')\n",
    "sys.path.append('/home/peng/git/Machine_learning_for_reliability_analysis/DAlgorithms')\n",
    "sys.path.append('/home/peng/git/Machine_learning_for_reliability_analysis/QSAR/QM/QM7_2d')\n",
    "\n",
    "import os,pickle,numpy,nn,copy,scipy,scipy.io\n",
    "import numpy as np\n",
    "import pandas as pd"
   ]
  },
  {
   "cell_type": "code",
   "execution_count": 2,
   "metadata": {
    "collapsed": false
   },
   "outputs": [
    {
     "name": "stdout",
     "output_type": "stream",
     "text": [
      "(5732,)\n",
      "(5732, 23, 23)\n",
      "(5732,)\n"
     ]
    }
   ],
   "source": [
    "# --------------------------------------------\n",
    "# Parameters\n",
    "# --------------------------------------------\n",
    "seed  = 3453\n",
    "#print sys.argv\n",
    "split = 0 # test split\n",
    "\n",
    "mb    = 25     # size of the minibatch\n",
    "hist  = 0.1    # fraction of the history to be remembered\n",
    "\n",
    "results_path = '/home/peng/git/Machine_learning_for_reliability_analysis/QSAR/QM/REsults/'\n",
    "\n",
    "\n",
    "dataset = scipy.io.loadmat('/home/peng/Documents/Project_C/QSAR_nlp/qm7.mat')\n",
    "\n",
    "# --------------------------------------------\n",
    "# Extract training data::: X is the features, T is the target, P is the index\n",
    "# --------------------------------------------\n",
    "P = dataset['P'][range(0,split)+range(split+1,5)].flatten()\n",
    "X = dataset['X'][P]\n",
    "T = dataset['T'][0,P]\n",
    "\n",
    "print np.shape(P)\n",
    "print np.shape(X)\n",
    "print np.shape(T)"
   ]
  },
  {
   "cell_type": "code",
   "execution_count": null,
   "metadata": {
    "collapsed": true
   },
   "outputs": [],
   "source": []
  }
 ],
 "metadata": {
  "kernelspec": {
   "display_name": "Python 2",
   "language": "python",
   "name": "python2"
  },
  "language_info": {
   "codemirror_mode": {
    "name": "ipython",
    "version": 2
   },
   "file_extension": ".py",
   "mimetype": "text/x-python",
   "name": "python",
   "nbconvert_exporter": "python",
   "pygments_lexer": "ipython2",
   "version": "2.7.11"
  }
 },
 "nbformat": 4,
 "nbformat_minor": 0
}
