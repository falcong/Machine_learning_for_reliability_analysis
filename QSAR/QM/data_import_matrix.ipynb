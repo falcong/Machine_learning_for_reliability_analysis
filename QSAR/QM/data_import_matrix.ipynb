{
 "cells": [
  {
   "cell_type": "code",
   "execution_count": 236,
   "metadata": {
    "collapsed": true
   },
   "outputs": [],
   "source": [
    "import numpy as np\n",
    "import pandas as pd\n",
    "from os import listdir\n",
    "\n",
    "%matplotlib inline\n",
    "\n",
    "data_path = '/home/peng/Documents/Project_C/QSAR_nlp/Codes_git/bob/tutorial/'\n",
    "data_name = 'dsgdb7ae2.xyz'\n",
    "data_one_name = 'single_try.xyz'\n",
    "data_path_6k = '/home/peng/Documents/Project_C/QSAR_nlp/Dataset_qm9/6k/'\n",
    "data_name_6k = 'dsC7O2H10nsd_'\n",
    "data_path_133k = '/home/peng/Documents/Project_C/QSAR_nlp/Dataset_qm9/133k/'\n"
   ]
  },
  {
   "cell_type": "code",
   "execution_count": 133,
   "metadata": {
    "collapsed": true
   },
   "outputs": [],
   "source": [
    "# define a data structure to store the variables. This applies to continuous dataset\n",
    "\n",
    "class data_mo:\n",
    "    pass\n",
    "list_mo = []\n",
    "count = 0\n",
    "for line in open(data_path+data_name):\n",
    "    line_splt = line.split()\n",
    "    length = np.shape(line_splt)[0]\n",
    "\n",
    "    if length == 1:\n",
    "        atom_no = line_splt[0]\n",
    "        count_len = 0\n",
    "\n",
    "        \n",
    "    elif length == 2:\n",
    "        atom_id = line_splt[0]\n",
    "        energy = line_splt[1]\n",
    "        \n",
    "        momo = data_mo()\n",
    "        momo._id = atom_id\n",
    "        momo.energy = energy\n",
    "        momo.atom_no = atom_no\n",
    "        momo._types = []\n",
    "        momo.ff_coord = []\n",
    "        momo.dff_coord = []        \n",
    "           \n",
    "    elif length > 2:\n",
    "        count_len = count_len + 1\n",
    "        momo._types.append(line_splt[0])\n",
    "        line_splt_float = map(float, line_splt[1:])\n",
    "        momo.ff_coord.append(line_splt_float[0:3])\n",
    "        momo.dff_coord.append(line_splt_float[3:])\n",
    "                \n",
    "        if (int(count_len) == int(atom_no)):\n",
    "           \n",
    "            list_mo.append(momo)     "
   ]
  },
  {
   "cell_type": "code",
   "execution_count": 240,
   "metadata": {
    "collapsed": false
   },
   "outputs": [],
   "source": [
    "dir_content = listdir(data_path_6k)\n",
    "dir_content.sort()\n",
    "    "
   ]
  },
  {
   "cell_type": "code",
   "execution_count": 275,
   "metadata": {
    "collapsed": false
   },
   "outputs": [],
   "source": [
    "# define a data structure to store the variables. This applies to single dataset\n",
    "\n",
    "count = 0\n",
    "list_mone = []\n",
    "\n",
    "class data_mone:\n",
    "    pass\n",
    "\n",
    "for i in dir_content:\n",
    "    count_momo = 0\n",
    "    data_name_single = data_path_6k + i\n",
    "    for line in open(data_name_single):\n",
    "        line_splt = line.split()\n",
    "        length = np.shape(line_splt)[0]\n",
    "        if length ==1:\n",
    "            momo = data_mone()\n",
    "            momo.smile_list = []\n",
    "            momo.freq = []\n",
    "            momo._types = []\n",
    "            momo.dff_coord = []  \n",
    "            momo.atom_charge = []\n",
    "            momo.atom_no = line_splt[0]\n",
    "        elif length ==17:\n",
    "            momo._id = line_splt[1]\n",
    "            #momo.property_list = []\n",
    "            line_splt_float = map(float, line_splt[2:])\n",
    "            #momo.property_list.append(line_splt_float)\n",
    "            momo.property_list = (line_splt_float)\n",
    "        elif length ==5: \n",
    "            momo._types.append(line_splt[0])\n",
    "            line_splt_float = map(float, line_splt[1:])\n",
    "            momo.dff_coord.append(line_splt_float[0:3])\n",
    "            momo.atom_charge.append( line_splt_float[-1] )\n",
    "        elif length > 5:\n",
    "            line_splt_float = map(float, line_splt)\n",
    "            momo.freq.append(line_splt_float)\n",
    "        elif length ==2:\n",
    "            count_momo = count_momo +1            \n",
    "            momo.smile_list.append(line_splt)\n",
    "            if count_momo == 2:\n",
    "                list_mone.append(momo)\n",
    "            \n",
    "    \n",
    "    \n",
    "    count = count +1\n",
    "    if count == 3:\n",
    "        break;"
   ]
  }
 ],
 "metadata": {
  "kernelspec": {
   "display_name": "Python 2",
   "language": "python",
   "name": "python2"
  },
  "language_info": {
   "codemirror_mode": {
    "name": "ipython",
    "version": 2
   },
   "file_extension": ".py",
   "mimetype": "text/x-python",
   "name": "python",
   "nbconvert_exporter": "python",
   "pygments_lexer": "ipython2",
   "version": "2.7.12"
  }
 },
 "nbformat": 4,
 "nbformat_minor": 0
}
