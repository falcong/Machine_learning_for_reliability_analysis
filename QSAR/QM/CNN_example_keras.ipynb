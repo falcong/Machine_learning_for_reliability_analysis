{
 "cells": [
  {
   "cell_type": "code",
   "execution_count": 1,
   "metadata": {
    "collapsed": false
   },
   "outputs": [],
   "source": [
    "import sys\n",
    "sys.path.append('/home/peng/git/Machine_learning_for_reliability_analysis/Preprocess')\n",
    "sys.path.append('/home/peng/git/Machine_learning_for_reliability_analysis/DAlgorithms')\n",
    "sys.path.append('/home/peng/git/Machine_learning_for_reliability_analysis/QSAR/QM/QM7_2d')\n",
    "\n",
    "import os,pickle,numpy,nn,copy,scipy,scipy.io\n",
    "import numpy as np\n",
    "import pandas as pd"
   ]
  },
  {
   "cell_type": "code",
   "execution_count": 2,
   "metadata": {
    "collapsed": false
   },
   "outputs": [
    {
     "name": "stderr",
     "output_type": "stream",
     "text": [
      "Using Theano backend.\n",
      "Using gpu device 0: GeForce GTX 980 Ti (CNMeM is enabled with initial size: 30.0% of memory, cuDNN 5005)\n"
     ]
    }
   ],
   "source": [
    "from keras.models import Sequential\n",
    "from keras.layers import Dense, Dropout, Activation, Flatten, Input\n",
    "from keras.layers import Convolution2D, MaxPooling2D\n",
    "from keras.optimizers import SGD\n",
    "from keras.utils import np_utils"
   ]
  },
  {
   "cell_type": "code",
   "execution_count": 3,
   "metadata": {
    "collapsed": false
   },
   "outputs": [
    {
     "name": "stdout",
     "output_type": "stream",
     "text": [
      "(5732,)\n",
      "(5732, 23, 23)\n",
      "(5732,)\n"
     ]
    }
   ],
   "source": [
    "# --------------------------------------------\n",
    "# Parameters\n",
    "# --------------------------------------------\n",
    "seed  = 3453\n",
    "#print sys.argv\n",
    "split = 0 # test split\n",
    "\n",
    "mb    = 25     # size of the minibatch\n",
    "hist  = 0.1    # fraction of the history to be remembered\n",
    "\n",
    "results_path = '/home/peng/git/Machine_learning_for_reliability_analysis/QSAR/QM/REsults/'\n",
    "\n",
    "\n",
    "dataset = scipy.io.loadmat('/home/peng/Documents/Project_C/QSAR_nlp/qm7.mat')\n",
    "\n",
    "# --------------------------------------------\n",
    "# Extract training data::: X is the features, T is the target, P is the index\n",
    "# --------------------------------------------\n",
    "P = dataset['P'][range(0,split)+range(split+1,5)].flatten()\n",
    "X = dataset['X'][P]\n",
    "T = dataset['T'][0,P]\n",
    "\n",
    "print np.shape(P)\n",
    "print np.shape(X)\n",
    "print np.shape(T)"
   ]
  },
  {
   "cell_type": "code",
   "execution_count": 4,
   "metadata": {
    "collapsed": false
   },
   "outputs": [],
   "source": [
    "batch_size = 23\n",
    "\n",
    "data_row , data_col = 23, 23\n",
    "\n",
    "#channel is the number of color or dimensions of data points\n",
    "nb_channel = 1\n",
    "\n",
    "\n",
    "nb_filters = 1\n",
    "\n",
    "# size of pooling area for max pooling\n",
    "pool_size = (2, 2)\n",
    "\n",
    "# convolution kernel size\n",
    "kernel_size = (3, 3)\n",
    "input_shape = (1,23,23)\n",
    "\n",
    "# this is reshape the data into a standard format\n",
    "X_reshape = X.reshape(X.shape[0], 1, data_row, data_col)"
   ]
  },
  {
   "cell_type": "code",
   "execution_count": 5,
   "metadata": {
    "collapsed": false
   },
   "outputs": [],
   "source": [
    "# the stack of layers for CNN\n",
    "\n",
    "model = Sequential()\n",
    "\n",
    "model.add(Convolution2D(nb_filters, kernel_size[0], kernel_size[1],\n",
    "                        border_mode='valid', dim_ordering = 'th',\n",
    "                        input_shape=input_shape))\n",
    "          \n",
    "model.add(Activation('relu'))\n",
    "model.add(Convolution2D(nb_filters, kernel_size[0], kernel_size[1]))\n",
    "model.add(Activation('relu'))\n",
    "model.add(MaxPooling2D(pool_size=pool_size))\n",
    "model.add(Dropout(0.25))\n",
    "\n",
    "model.add(Flatten())\n",
    "model.add(Dense(128))\n",
    "model.add(Activation('relu'))\n",
    "model.add(Dropout(0.5))\n",
    "model.add(Dense(1))\n",
    "model.add(Activation('linear'))"
   ]
  },
  {
   "cell_type": "code",
   "execution_count": 6,
   "metadata": {
    "collapsed": false
   },
   "outputs": [
    {
     "name": "stdout",
     "output_type": "stream",
     "text": [
      "Epoch 1/10\n",
      "5732/5732 [==============================] - 0s - loss: 1545.8129 - mean_absolute_error: 1545.8129     \n",
      "Epoch 2/10\n",
      "5732/5732 [==============================] - 0s - loss: 1224.7819 - mean_absolute_error: 1224.7819     \n",
      "Epoch 3/10\n",
      "5732/5732 [==============================] - 0s - loss: 363.1908 - mean_absolute_error: 363.1908     \n",
      "Epoch 4/10\n",
      "5732/5732 [==============================] - 0s - loss: 342.5993 - mean_absolute_error: 342.5993     \n",
      "Epoch 5/10\n",
      "5732/5732 [==============================] - 0s - loss: 335.2864 - mean_absolute_error: 335.2864     \n",
      "Epoch 6/10\n",
      "5732/5732 [==============================] - 0s - loss: 329.8370 - mean_absolute_error: 329.8370     \n",
      "Epoch 7/10\n",
      "5732/5732 [==============================] - 0s - loss: 325.9323 - mean_absolute_error: 325.9323     \n",
      "Epoch 8/10\n",
      "5732/5732 [==============================] - 0s - loss: 321.4852 - mean_absolute_error: 321.4852     \n",
      "Epoch 9/10\n",
      "5732/5732 [==============================] - 0s - loss: 317.6582 - mean_absolute_error: 317.6582     \n",
      "Epoch 10/10\n",
      "5732/5732 [==============================] - 0s - loss: 318.6526 - mean_absolute_error: 318.6526     \n",
      "('Test score:', 187.76570055922343)\n",
      "('Test accuracy:', 187.76570055922343)\n"
     ]
    }
   ],
   "source": [
    "#compile and predict\n",
    "\n",
    "model.compile(loss='mae',\n",
    "              optimizer='sgd',\n",
    "              metrics=['mae'])\n",
    "\n",
    "model.fit(X_reshape, T, batch_size=batch_size, nb_epoch=10,\n",
    "          verbose=1)\n",
    "score = model.evaluate(X_reshape, T, verbose=0)\n",
    "print('Test score:', score[0])\n",
    "print('Test accuracy:', score[1])"
   ]
  },
  {
   "cell_type": "code",
   "execution_count": null,
   "metadata": {
    "collapsed": true
   },
   "outputs": [],
   "source": []
  }
 ],
 "metadata": {
  "kernelspec": {
   "display_name": "Python 2",
   "language": "python",
   "name": "python2"
  },
  "language_info": {
   "codemirror_mode": {
    "name": "ipython",
    "version": 2
   },
   "file_extension": ".py",
   "mimetype": "text/x-python",
   "name": "python",
   "nbconvert_exporter": "python",
   "pygments_lexer": "ipython2",
   "version": "2.7.12"
  }
 },
 "nbformat": 4,
 "nbformat_minor": 0
}
