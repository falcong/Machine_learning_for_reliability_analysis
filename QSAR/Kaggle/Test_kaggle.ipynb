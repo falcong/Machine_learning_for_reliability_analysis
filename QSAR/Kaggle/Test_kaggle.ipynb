{
 "cells": [
  {
   "cell_type": "code",
   "execution_count": 2,
   "metadata": {
    "collapsed": false
   },
   "outputs": [
    {
     "name": "stdout",
     "output_type": "stream",
     "text": [
      "(37241, 9493)\n",
      "(8716, 5879)\n",
      "(6148, 5205)\n",
      "(1815, 4308)\n",
      "(3212, 6276)\n",
      "(37388, 8923)\n",
      "(1569, 4507)\n",
      "(9965, 5805)\n",
      "(5351, 4732)\n",
      "(11151, 5792)\n",
      "(6399, 5137)\n",
      "(8651, 5472)\n",
      "(6105, 5700)\n",
      "(4165, 5947)\n",
      "(5059, 5554)\n"
     ]
    }
   ],
   "source": [
    "import pandas as pd\n",
    "import numpy as np\n",
    "\n",
    "path_paper = '/home/peng/Documents/Project_C/QSAR_nlp/Dataset_kaggle/2269153/ci500747n_si_002/'\n",
    "\n",
    "path_web = '/home/peng/Documents/Project_C/QSAR_nlp/Dataset_kaggle/web/'\n",
    "\n",
    "\n",
    "datasets_names = ['3A4', 'CB1', 'DPP4', 'HIVINT', 'HIVPROT', 'LOGD', 'METAB', 'NK1', \n",
    "                  'OX1', 'OX2', 'PGP', \"PPB\", 'RAT_F', 'TDI', 'THROMBIN']\n",
    "\n",
    "#for i in datasets_names:\n",
    "\n",
    "#    df = pd.read_csv(path_paper + '%s'%i+'_test_disguised.csv', header= 0)\n",
    "    \n",
    "#    print df.shape\n",
    "\n",
    "\n",
    "# Print the shape of web sets\n",
    "for i in np.arange(1, 16):    \n",
    "    df = pd.read_csv(path_web + 'ACT%d'%i+'_competition_training.csv', header=0)\n",
    "    print df.shape\n",
    "  \n",
    "    \n",
    "\n",
    "\n",
    "\n",
    "######compare the intersection of two sets : features \n",
    "#-------------------------------------- list0 = list(df.columns.values.tolist())\n",
    "#------------------------------------------------------------------------------ \n",
    "#--------------------------------------------------------- print np.shape(list0)\n",
    "#------------------------------------------------------------------------------ \n",
    "#------------------------------------- list1 = list(df1.columns.values.tolist())\n",
    "#------------------------------------------------------------------------------ \n",
    "#--------------------------------------------------------- print np.shape(list1)\n",
    "#------------------------------------------------------------------------------ \n",
    "#-------------------------- print np.shape(list(set(list0).intersection(list1)))"
   ]
  },
  {
   "cell_type": "code",
   "execution_count": 3,
   "metadata": {
    "collapsed": false
   },
   "outputs": [
    {
     "name": "stdout",
     "output_type": "stream",
     "text": [
      "(12338, 9492)\n",
      "(2907, 5878)\n",
      "(2045, 5204)\n",
      "(598, 4307)\n",
      "(1072, 6275)\n",
      "(12406, 8922)\n",
      "(523, 4506)\n",
      "(3335, 5804)\n",
      "(1769, 4731)\n",
      "(3704, 5791)\n",
      "(2094, 5136)\n",
      "(2899, 5471)\n",
      "(1707, 5699)\n",
      "(1382, 5946)\n",
      "(1698, 5553)\n"
     ]
    }
   ],
   "source": [
    "for i in np.arange(1, 16):    \n",
    "    df = pd.read_csv(path_web + 'ACT%d'%i+'_competition_test.csv', header=0)\n",
    "    print df.shape"
   ]
  },
  {
   "cell_type": "code",
   "execution_count": null,
   "metadata": {
    "collapsed": true
   },
   "outputs": [],
   "source": []
  }
 ],
 "metadata": {
  "kernelspec": {
   "display_name": "Python 2",
   "language": "python",
   "name": "python2"
  },
  "language_info": {
   "codemirror_mode": {
    "name": "ipython",
    "version": 2
   },
   "file_extension": ".py",
   "mimetype": "text/x-python",
   "name": "python",
   "nbconvert_exporter": "python",
   "pygments_lexer": "ipython2",
   "version": "2.7.11"
  }
 },
 "nbformat": 4,
 "nbformat_minor": 0
}
