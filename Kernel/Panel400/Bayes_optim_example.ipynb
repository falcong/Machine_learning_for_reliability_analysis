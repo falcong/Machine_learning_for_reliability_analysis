{
 "cells": [
  {
   "cell_type": "code",
   "execution_count": 1,
   "metadata": {
    "collapsed": true
   },
   "outputs": [],
   "source": [
    "from sklearn.datasets import make_classification\n",
    "from sklearn.cross_validation import cross_val_score\n",
    "from sklearn.ensemble import RandomForestClassifier as RFC\n",
    "from sklearn.svm import SVC\n",
    "\n",
    "from bayes_opt import BayesianOptimization\n",
    "\n",
    "# Load data set and target values\n",
    "data, target = make_classification(n_samples=2500,\n",
    "                                   n_features=45,\n",
    "                                   n_informative=12,\n",
    "                                   n_redundant=7)"
   ]
  },
  {
   "cell_type": "code",
   "execution_count": 2,
   "metadata": {
    "collapsed": false
   },
   "outputs": [],
   "source": [
    "def svccv(C, gamma):\n",
    "    return cross_val_score(SVC(C=C, gamma=gamma, random_state=2),\n",
    "                           data, target, 'roc_auc', cv=5).mean()"
   ]
  },
  {
   "cell_type": "code",
   "execution_count": 5,
   "metadata": {
    "collapsed": false
   },
   "outputs": [
    {
     "name": "stdout",
     "output_type": "stream",
     "text": [
      "\u001b[31mInitialization\u001b[0m\n",
      "\u001b[94m-----------------------------------------------------\u001b[0m\n",
      " Step |   Time |      Value |         C |     gamma | \n",
      "    1 | 00m01s | \u001b[35m   0.84737\u001b[0m | \u001b[32m   0.0010\u001b[0m | \u001b[32m   0.0010\u001b[0m | \n",
      "    2 | 00m01s | \u001b[35m   0.92566\u001b[0m | \u001b[32m   0.0100\u001b[0m | \u001b[32m   0.0100\u001b[0m | \n",
      "    3 | 00m01s | \u001b[35m   0.95211\u001b[0m | \u001b[32m   0.1000\u001b[0m | \u001b[32m   0.1000\u001b[0m | \n",
      "    4 | 00m01s | \u001b[35m   0.96251\u001b[0m | \u001b[32m  93.6815\u001b[0m | \u001b[32m   0.0691\u001b[0m | \n",
      "    5 | 00m02s |    0.95443 |   91.3299 |    0.0932 | \n",
      "    6 | 00m01s | \u001b[35m   0.98711\u001b[0m | \u001b[32m  94.5600\u001b[0m | \u001b[32m   0.0218\u001b[0m | \n",
      "    7 | 00m01s |    0.95384 |   28.9555 |    0.0953 | \n",
      "    8 | 00m01s |    0.97550 |   31.1262 |    0.0411 | \n",
      "\u001b[31mBayesian Optimization\u001b[0m\n",
      "\u001b[94m-----------------------------------------------------\u001b[0m\n",
      " Step |   Time |      Value |         C |     gamma | \n",
      "    9 | 00m05s |    0.98463 |   78.6886 |    0.0269 | \n",
      "   10 | 00m03s |    0.98680 |   46.8368 |    0.0225 | \n",
      "   11 | 00m03s | \u001b[35m   0.98729\u001b[0m | \u001b[32m  70.8710\u001b[0m | \u001b[32m   0.0214\u001b[0m | \n",
      "   12 | 00m03s |    0.98286 |   39.1820 |    0.0300 | \n",
      "   13 | 00m03s |    0.98536 |    8.8907 |    0.0255 | \n",
      "   14 | 00m04s |    0.95984 |    0.0010 |    0.0339 | \n",
      "   15 | 00m04s |    0.98666 |   24.3681 |    0.0230 | \n",
      "   16 | 00m05s |    0.97674 |   70.0331 |    0.0393 | \n",
      "   17 | 00m03s | \u001b[35m   0.98941\u001b[0m | \u001b[32m  97.0342\u001b[0m | \u001b[32m   0.0139\u001b[0m | \n",
      "   18 | 00m03s |    0.98932 |   80.2722 |    0.0146 | \n",
      "   19 | 00m02s |    0.98934 |  100.0000 |    0.0037 | \n",
      "   20 | 00m04s | \u001b[35m   0.98985\u001b[0m | \u001b[32m  89.2626\u001b[0m | \u001b[32m   0.0078\u001b[0m | \n",
      "   21 | 00m05s |    0.96635 |   44.8059 |    0.0583 | \n",
      "   22 | 00m02s | \u001b[35m   0.98986\u001b[0m | \u001b[32m  99.4073\u001b[0m | \u001b[32m   0.0082\u001b[0m | \n",
      "   23 | 00m03s |    0.97625 |  100.0000 |    0.0400 | \n",
      "   24 | 00m03s |    0.96078 |    0.0010 |    0.0705 | \n",
      "   25 | 00m02s |    0.96700 |   85.4421 |    0.0001 | \n",
      "   26 | 00m03s |    0.98979 |   89.5538 |    0.0117 | \n",
      "   27 | 00m03s |    0.96863 |   96.8251 |    0.0531 | \n",
      "   28 | 00m04s |    0.98872 |   89.0176 |    0.0173 | \n",
      "   29 | 00m03s |    0.98913 |   63.3357 |    0.0155 | \n",
      "   30 | 00m04s |    0.96038 |   49.2896 |    0.0764 | \n",
      "   31 | 00m03s |    0.98295 |   98.9206 |    0.0298 | \n",
      "   32 | 00m02s |    0.98982 |   95.0745 |    0.0073 | \n",
      "   33 | 00m02s |    0.98983 |   76.6991 |    0.0109 | \n",
      "-----------------------------------------------------\n"
     ]
    }
   ],
   "source": [
    "if __name__ == \"__main__\":\n",
    "\n",
    "    svcBO = BayesianOptimization(svccv, {'C': (0.001, 100), 'gamma': (0.0001, 0.1)})\n",
    "    svcBO.explore({'C': [0.001, 0.01, 0.1], 'gamma': [0.001, 0.01, 0.1]})\n",
    "\n",
    "    \n",
    "    svcBO.maximize(acq='ei')\n",
    "\n",
    "    print('-'*53)"
   ]
  },
  {
   "cell_type": "code",
   "execution_count": 11,
   "metadata": {
    "collapsed": false
   },
   "outputs": [
    {
     "name": "stdout",
     "output_type": "stream",
     "text": [
      "(array([ 0.9521107]), array([  1.93807262e-18]))\n"
     ]
    }
   ],
   "source": [
    "import numpy as np\n",
    "mu, sigma = svcBO.gp.predict(np.array([[0.1, 0.1]]), eval_MSE=True)\n",
    "\n",
    "print (mu, sigma)"
   ]
  },
  {
   "cell_type": "code",
   "execution_count": null,
   "metadata": {
    "collapsed": true
   },
   "outputs": [],
   "source": []
  }
 ],
 "metadata": {
  "kernelspec": {
   "display_name": "Python 2",
   "language": "python",
   "name": "python2"
  },
  "language_info": {
   "codemirror_mode": {
    "name": "ipython",
    "version": 2
   },
   "file_extension": ".py",
   "mimetype": "text/x-python",
   "name": "python",
   "nbconvert_exporter": "python",
   "pygments_lexer": "ipython2",
   "version": "2.7.11"
  }
 },
 "nbformat": 4,
 "nbformat_minor": 0
}
