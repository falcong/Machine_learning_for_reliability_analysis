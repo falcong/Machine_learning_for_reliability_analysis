{
 "cells": [
  {
   "cell_type": "code",
   "execution_count": 1,
   "metadata": {
    "collapsed": false
   },
   "outputs": [],
   "source": [
    "import sys\n",
    "sys.path.append('/home/peng/git/Machine_learning_for_reliability_analysis/Preprocess')\n",
    "sys.path.append('/home/peng/git/Machine_learning_for_reliability_analysis/DAlgorithms')\n",
    "\n",
    "import Preprocessdata\n",
    "import MySVM as mysvc"
   ]
  },
  {
   "cell_type": "code",
   "execution_count": 3,
   "metadata": {
    "collapsed": false
   },
   "outputs": [],
   "source": [
    "from __future__ import print_function\n",
    "from __future__ import division\n",
    "\n",
    "import logging\n",
    "from sklearn.datasets import make_classification\n",
    "from sklearn.cross_validation import cross_val_score\n",
    "from sklearn.ensemble import RandomForestClassifier as RFC\n",
    "from sklearn.svm import SVC\n",
    "\n",
    "from bayes_opt import BayesianOptimization\n",
    "from pandas.core.frame import DataFrame\n",
    "import numpy as np\n",
    "import pandas as pd\n",
    "import matplotlib as mpl\n",
    "import matplotlib.pyplot as plt\n",
    "\n",
    "from sklearn.metrics.classification import accuracy_score, confusion_matrix, classification_report\n",
    "from scipy.interpolate import spline\n",
    "from sklearn import metrics\n",
    "from sklearn.metrics import accuracy_score\n",
    "from scipy import stats\n",
    "from sklearn.gaussian_process import GaussianProcess\n",
    "import timeit\n",
    "from mpl_toolkits.mplot3d import Axes3D\n",
    "import seaborn as sns\n",
    "from IPython.core.pylabtools import figsize\n",
    "from scipy.interpolate import spline\n",
    "from sklearn.svm import SVC\n",
    "from sklearn.cross_validation import cross_val_score\n",
    "from sklearn.cross_validation import StratifiedShuffleSplit\n",
    "from sklearn.grid_search import GridSearchCV\n",
    "import re\n",
    "from astropy.io.fits.header import Header\n",
    "from matplotlib.pyplot import xlim\n",
    "from sklearn import svm"
   ]
  },
  {
   "cell_type": "code",
   "execution_count": 4,
   "metadata": {
    "collapsed": false
   },
   "outputs": [
    {
     "name": "stdout",
     "output_type": "stream",
     "text": [
      "*************************************change*\n"
     ]
    }
   ],
   "source": [
    "\n",
    "# Load data set and target values\n",
    "start = timeit.default_timer()\n",
    "\n",
    "####### Read the source data######################\n",
    "df =pd.read_csv('Source_Data.csv', header=0)\n",
    "\n",
    "\n",
    "p= Preprocessdata.standardprocess()\n",
    "\n",
    "save_path = '/home/peng/git/Machine_learning_for_reliability_analysis/Kernel/Results/'\n",
    "#result_name = 'poly3_auc_10CV_80_n10_p10_21.csv'\n",
    "\n",
    "#train, trainlabel, test, testlabel = p.scaledivd(df, 0.8)\n",
    "#print (np.shape(train))"
   ]
  },
  {
   "cell_type": "code",
   "execution_count": 5,
   "metadata": {
    "collapsed": false
   },
   "outputs": [],
   "source": [
    "#### scale the training dataset first and then apply the rules to test set \n",
    "train, trainlabel, test, testlabel = p.sep_scale_divd(df, 0.8)\n",
    "#print (test[0:10])\n",
    "\n"
   ]
  },
  {
   "cell_type": "code",
   "execution_count": 6,
   "metadata": {
    "collapsed": false
   },
   "outputs": [],
   "source": [
    "#define the BO function\n",
    "seed = 'sigmoid'\n",
    "rad_stat = 2\n",
    "def svccv(C, gamma):\n",
    "    return cross_val_score(SVC(kernel = seed, C=C, gamma=gamma, random_state=rad_stat, probability=True),\n",
    "                           train, trainlabel, 'roc_auc', cv=10).mean()"
   ]
  },
  {
   "cell_type": "code",
   "execution_count": 7,
   "metadata": {
    "collapsed": false
   },
   "outputs": [],
   "source": [
    "# define the boundaries for parameters\n",
    "ex_range = []\n",
    "for i in np.arange(-10, 11, step =1):\n",
    "    ex_range.append(2**(i))\n",
    "#print (ex_range)"
   ]
  },
  {
   "cell_type": "code",
   "execution_count": 8,
   "metadata": {
    "collapsed": false
   },
   "outputs": [
    {
     "name": "stdout",
     "output_type": "stream",
     "text": [
      "\u001b[31mInitialization\u001b[0m\n",
      "\u001b[94m-----------------------------------------------------\u001b[0m\n",
      " Step |   Time |      Value |         C |     gamma | \n",
      "    1 | 00m00s | \u001b[35m   0.38974\u001b[0m | \u001b[32m 942.2800\u001b[0m | \u001b[32m 383.0155\u001b[0m | \n",
      "    2 | 00m00s |    0.34274 |   62.3750 |  215.7768 | \n",
      "    3 | 00m00s |    0.38810 |  331.4396 |  992.2053 | \n",
      "    4 | 00m00s | \u001b[35m   0.39700\u001b[0m | \u001b[32m 515.6895\u001b[0m | \u001b[32m 700.5692\u001b[0m | \n",
      "    5 | 00m00s | \u001b[35m   0.40198\u001b[0m | \u001b[32m 666.0618\u001b[0m | \u001b[32m 494.9116\u001b[0m | \n",
      "\u001b[31mBayesian Optimization\u001b[0m\n",
      "\u001b[94m-----------------------------------------------------\u001b[0m\n",
      " Step |   Time |      Value |         C |     gamma | \n",
      "    6 | 00m00s |    0.39561 |  733.1007 |  602.8900 | \n",
      "    7 | 00m00s |    0.40198 |  507.8203 |  504.5694 | \n",
      "    8 | 00m00s |    0.38974 |  592.4365 |  361.8408 | \n",
      "    9 | 00m00s |    0.40198 |  579.6839 |  544.5195 | \n",
      "   10 | 00m00s |    0.39700 |  311.8218 |  655.6233 | \n",
      "   11 | 00m00s |    0.39561 |  456.9118 |  601.8774 | \n",
      "   12 | 00m00s |    0.38810 |  222.9875 |  778.6039 | \n",
      "   13 | 00m00s |    0.39320 |  615.9258 |  914.4673 | \n",
      "   14 | 00m00s |    0.38810 |  981.6834 |  796.1346 | \n",
      "   15 | 00m00s |    0.38810 |  860.1530 |  984.6952 | \n",
      "   16 | 00m00s |    0.26077 |  979.7208 |   11.0778 | \n",
      "   17 | 00m00s |    0.40198 |  929.3996 |  563.9899 | \n",
      "   18 | 00m00s |    0.39320 |  426.7884 |  853.4936 | \n",
      "   19 | 00m00s |    0.39586 |  848.3179 |  463.2679 | \n",
      "   20 | 00m00s |    0.38810 |  796.0252 |  774.1930 | \n",
      "   21 | 00m00s |    0.40198 | 1014.0692 |  482.7911 | \n",
      "   22 | 00m00s |    0.40198 |  600.8897 |  468.7311 | \n",
      "   23 | 00m00s |    0.39561 | 1009.5855 |  589.0005 | \n",
      "   24 | 00m00s |    0.39700 |  218.5472 |  566.6557 | \n",
      "   25 | 00m00s |    0.40198 |  946.7208 |  517.8598 | \n",
      "   26 | 00m00s |    0.40198 |  325.1117 |  450.8604 | \n",
      "   27 | 00m00s |    0.40198 |  311.3172 |  512.8089 | \n",
      "   28 | 00m00s |    0.38974 |  434.4567 |  397.0740 | \n",
      "   29 | 00m00s |    0.40198 |  210.4501 |  444.3836 | \n",
      "   30 | 00m00s |    0.40198 |  241.2813 |  464.6533 | \n",
      "Final Results\n",
      "SVC: 0.401984\n"
     ]
    }
   ],
   "source": [
    "# run the BOand get the results without exploration\n",
    "svc_bayes = BayesianOptimization(svccv, {'C': (2**(-10), 2**10), 'gamma': (2**(-10), 2**10)})\n",
    "#svc_bayes.explore({'C': ex_range, 'gamma': ex_range})\n",
    "svc_bayes.maximize(acq='ei')\n",
    "print('Final Results')\n",
    "print('SVC: %f' % svc_bayes.res['max']['max_val'])"
   ]
  },
  {
   "cell_type": "code",
   "execution_count": 20,
   "metadata": {
    "collapsed": false
   },
   "outputs": [
    {
     "name": "stdout",
     "output_type": "stream",
     "text": [
      "\u001b[31mInitialization\u001b[0m\n",
      "\u001b[94m-----------------------------------------------------\u001b[0m\n",
      " Step |   Time |      Value |         C |     gamma | \n",
      "    1 | 00m00s | \u001b[35m   0.78965\u001b[0m | \u001b[32m   0.0010\u001b[0m | \u001b[32m   0.0010\u001b[0m | \n",
      "    2 | 00m00s |    0.78724 |    0.0020 |    0.0020 | \n",
      "    3 | 00m00s |    0.78724 |    0.0039 |    0.0039 | \n",
      "    4 | 00m00s |    0.78724 |    0.0078 |    0.0078 | \n",
      "    5 | 00m00s |    0.78724 |    0.0156 |    0.0156 | \n",
      "    6 | 00m00s |    0.78724 |    0.0312 |    0.0312 | \n",
      "    7 | 00m00s | \u001b[35m   0.79206\u001b[0m | \u001b[32m   0.0625\u001b[0m | \u001b[32m   0.0625\u001b[0m | \n",
      "    8 | 00m00s | \u001b[35m   0.79410\u001b[0m | \u001b[32m   0.1250\u001b[0m | \u001b[32m   0.1250\u001b[0m | \n",
      "    9 | 00m00s | \u001b[35m   0.79688\u001b[0m | \u001b[32m   0.2500\u001b[0m | \u001b[32m   0.2500\u001b[0m | \n",
      "   10 | 00m00s |    0.75164 |    0.5000 |    0.5000 | \n",
      "   11 | 00m00s |    0.51536 |    1.0000 |    1.0000 | \n",
      "   12 | 00m00s |    0.46718 |    2.0000 |    2.0000 | \n",
      "   13 | 00m00s |    0.34342 |    4.0000 |    4.0000 | \n",
      "   14 | 00m00s |    0.28339 |    8.0000 |    8.0000 | \n",
      "   15 | 00m00s |    0.26502 |   16.0000 |   16.0000 | \n",
      "   16 | 00m00s |    0.26290 |   32.0000 |   32.0000 | \n",
      "   17 | 00m00s |    0.26539 |   64.0000 |   64.0000 | \n",
      "   18 | 00m00s |    0.30337 |  128.0000 |  128.0000 | \n",
      "   19 | 00m00s |    0.35385 |  256.0000 |  256.0000 | \n",
      "   20 | 00m00s |    0.40198 |  512.0000 |  512.0000 | \n",
      "   21 | 00m00s |    0.38810 | 1024.0000 | 1024.0000 | \n",
      "   22 | 00m00s |    0.39320 |   28.7252 |  956.7123 | \n",
      "   23 | 00m00s |    0.39700 |  186.1711 |  665.7869 | \n",
      "   24 | 00m00s |    0.39700 |  211.7531 |  657.5062 | \n",
      "   25 | 00m00s |    0.36219 |  195.1305 |  273.9556 | \n",
      "   26 | 00m00s |    0.40198 |  811.8144 |  560.1474 | \n",
      "\u001b[31mBayesian Optimization\u001b[0m\n",
      "\u001b[94m-----------------------------------------------------\u001b[0m\n",
      " Step |   Time |      Value |         C |     gamma | \n",
      "   27 | 00m01s |    0.39700 |  867.1734 |  732.6381 | \n",
      "   28 | 00m00s |    0.38912 |  292.4881 |  726.6474 | \n",
      "   29 | 00m00s |    0.28353 |  269.6705 |   85.4695 | \n",
      "   30 | 00m00s |    0.38810 |    5.4034 |  797.9308 | \n",
      "   31 | 00m00s |    0.39320 |  838.8066 |  958.0174 | \n",
      "   32 | 00m00s |    0.40198 |  492.2984 |  464.5522 | \n",
      "   33 | 00m00s |    0.39138 |    1.9329 |  254.1910 | \n",
      "   34 | 00m00s |    0.38810 |  464.7278 |  783.0618 | \n",
      "   35 | 00m00s |    0.38974 |  198.4172 |  345.5993 | \n",
      "   36 | 00m00s |    0.38810 |  715.1927 |  795.4849 | \n",
      "   37 | 00m00s |    0.26845 |  928.9912 |   50.4433 | \n",
      "   38 | 00m00s |    0.39700 |   77.8493 |  543.3648 | \n",
      "   39 | 00m00s |    0.38974 |  768.8663 |  366.4527 | \n",
      "   40 | 00m00s |    0.34274 |  511.0191 |  229.2554 | \n",
      "   41 | 00m00s |    0.26465 |  855.6187 |   55.5346 | \n",
      "   42 | 00m00s |    0.38810 |  107.1081 |  981.3968 | \n",
      "   43 | 00m00s |    0.39320 |  224.2304 |  813.8229 | \n",
      "   44 | 00m00s |    0.39700 | 1016.3928 |  731.5390 | \n",
      "   45 | 00m00s |    0.39320 |  770.1206 |  884.0065 | \n",
      "   46 | 00m00s |    0.26817 |  921.9296 |   79.9938 | \n",
      "   47 | 00m00s |    0.38974 |  308.5162 |  380.1246 | \n",
      "   48 | 00m00s |    0.40198 |  671.4582 |  513.7685 | \n",
      "   49 | 00m00s |    0.39700 |  651.0423 |  715.2696 | \n",
      "   50 | 00m00s |    0.38810 |  816.2237 | 1009.1526 | \n",
      "   51 | 00m00s |    0.39561 |  904.0633 |  695.6071 | \n",
      "Final Results\n",
      "SVC: 0.796882\n"
     ]
    }
   ],
   "source": [
    "# run the BOand get the results\n",
    "svc_bayes = BayesianOptimization(svccv, {'C': (2**(-10), 2**10), 'gamma': (2**(-10), 2**10)})\n",
    "svc_bayes.explore({'C': ex_range, 'gamma': ex_range})\n",
    "svc_bayes.maximize(acq='ei')\n",
    "print('Final Results')\n",
    "print('SVC: %f' % svc_bayes.res['max']['max_val'])\n"
   ]
  },
  {
   "cell_type": "code",
   "execution_count": 9,
   "metadata": {
    "collapsed": false
   },
   "outputs": [
    {
     "name": "stdout",
     "output_type": "stream",
     "text": [
      "use the latest records\n"
     ]
    }
   ],
   "source": [
    "# get the best parameters for plotting auc on training and test\n",
    "if (1): ### True use the above best parameters, false use the recored best set\n",
    "    C_best = np.float(svc_bayes.res['max']['max_params']['C'])\n",
    "    gamma_best= np.float(svc_bayes.res['max']['max_params']['gamma'])\n",
    "    print ('use the latest records')\n",
    "\n",
    "else:\n",
    "    C_best = 2.9456\n",
    "    gamma_best = 8.4192\n",
    "    print ('use the historical records')\n",
    "\n",
    "\n",
    "bestmodel= svm.SVC(kernel=seed, C = C_best, gamma= gamma_best, probability=True).fit(train,trainlabel)\n"
   ]
  },
  {
   "cell_type": "code",
   "execution_count": 10,
   "metadata": {
    "collapsed": false
   },
   "outputs": [],
   "source": [
    "#use the best parameters to plot cv auc on the training set\n",
    "from sklearn.metrics import roc_curve, auc\n",
    "from sklearn.cross_validation import StratifiedKFold\n",
    "from scipy import interp\n",
    "\n",
    "figsize(10,8)\n",
    "cv = StratifiedKFold(trainlabel, n_folds=10)\n",
    "\n",
    "bestmodel_training= svm.SVC(kernel=seed, C= C_best, gamma= gamma_best, probability=True, \n",
    "                            random_state = rad_stat)\n",
    "mean_tpr = 0.0\n",
    "mean_fpr = np.linspace(0, 1, 100)\n",
    "all_tpr = []\n",
    "\n",
    "for i, (training, testing) in enumerate(cv):\n",
    "    probas_ = bestmodel_training.fit(train[training], trainlabel[training]).predict_proba(train[testing])\n",
    "    # Compute ROC curve and area the curve\n",
    "    fpr, tpr, thresholds = roc_curve(trainlabel[testing], probas_[:, 1])\n",
    "    mean_tpr += interp(mean_fpr, fpr, tpr)\n",
    "    mean_tpr[0] = 0.0\n",
    "    roc_auc = auc(fpr, tpr)\n",
    "    plt.plot(fpr, tpr, lw=1.5, label='ROC fold %d (area = %0.2f)' % (i+1, roc_auc))\n",
    "\n",
    "plt.plot([0, 1], [0, 1], '--', color=(0.6, 0.6, 0.6))\n",
    "\n",
    "mean_tpr /= len(cv)\n",
    "mean_tpr[-1] = 1.0\n",
    "mean_auc = auc(mean_fpr, mean_tpr)\n",
    "plt.plot(mean_fpr, mean_tpr, 'k--', \n",
    "         label='Mean ROC (area = %0.2f)' % mean_auc, lw=2.5)\n",
    "\n",
    "plt.xlim([0, 1])\n",
    "plt.ylim([0, 1])\n",
    "plt.xlabel('False Positive Rate',fontsize = 24)\n",
    "plt.ylabel('True Positive Rate',fontsize = 24)\n",
    "plt.xticks(fontsize = 20) \n",
    "\n",
    "plt.yticks(fontsize = 20) \n",
    "\n",
    "#plt.title('Receiver operating characteristic example')\n",
    "plt.legend(loc=\"lower right\",fontsize = 14)\n",
    "\n",
    "plt.fill_between(mean_fpr, 0, mean_tpr, #color=\"#348ABD\", \n",
    "                 color=\"#66cdaa\", alpha=0.15)\n",
    "plt.show()"
   ]
  },
  {
   "cell_type": "code",
   "execution_count": 11,
   "metadata": {
    "collapsed": false
   },
   "outputs": [
    {
     "name": "stdout",
     "output_type": "stream",
     "text": [
      "This is for test set**************************************\n",
      "('The accuracy for the test set is 0.34375', 'and the confusion matrix is')\n",
      "[[10 15]\n",
      " [ 6  1]]\n",
      "             precision    recall  f1-score   support\n",
      "\n",
      "        0.0       0.40      0.62      0.49        16\n",
      "        1.0       0.14      0.06      0.09        16\n",
      "\n",
      "avg / total       0.27      0.34      0.29        32\n",
      "\n"
     ]
    }
   ],
   "source": [
    "#predict the test set\n",
    "\n",
    "tt=mysvc.test()\n",
    "result = tt.test_classification(test, testlabel,bestmodel)"
   ]
  },
  {
   "cell_type": "code",
   "execution_count": 15,
   "metadata": {
    "collapsed": false
   },
   "outputs": [
    {
     "name": "stdout",
     "output_type": "stream",
     "text": [
      "[[10 15]\n",
      " [ 6  1]]\n",
      "*******************************************\n"
     ]
    }
   ],
   "source": [
    "#plot the confusion matrix on test set\n",
    "import Superplot\n",
    "from sklearn.metrics.classification import accuracy_score, confusion_matrix, classification_report\n",
    "print (confusion_matrix(result, testlabel))\n",
    "pp = Superplot.fancy()\n",
    "pp.plot_confusion_matrix(confusion_matrix(result, testlabel))"
   ]
  },
  {
   "cell_type": "code",
   "execution_count": 13,
   "metadata": {
    "collapsed": false
   },
   "outputs": [],
   "source": [
    "#plot the auc on test set\n",
    "from sklearn.metrics import roc_curve, auc\n",
    "\n",
    "y_score = bestmodel.predict_proba(test)\n",
    "#print (y_score)\n",
    "\n",
    "mean_tpr = 0.0\n",
    "mean_fpr = np.linspace(0, 1, 100)\n",
    "all_tpr = []"
   ]
  },
  {
   "cell_type": "code",
   "execution_count": 14,
   "metadata": {
    "collapsed": false
   },
   "outputs": [],
   "source": [
    "#plot the auc on test set\n",
    "fpr, tpr, thresholds = roc_curve(testlabel, y_score[:, 1])\n",
    "roc_auc = auc(fpr, tpr)\n",
    "\n",
    "figsize(10,8)\n",
    "\n",
    "plt.plot(fpr, tpr, lw=1.5, label='(area= %0.2f)' % ( roc_auc))\n",
    "plt.plot([0, 1], [0, 1], '--', color=(0.6, 0.6, 0.6))\n",
    "#plt.xlim([-0.05, 1.05])\n",
    "#plt.ylim([-0.05, 1.05])\n",
    "\n",
    "plt.xlim([0, 1])\n",
    "plt.ylim([0, 1])\n",
    "\n",
    "plt.xlabel('False Positive Rate',fontsize = 24)\n",
    "plt.ylabel('True Positive Rate',fontsize = 24)\n",
    "plt.xticks(fontsize = 20) \n",
    "\n",
    "plt.yticks(fontsize = 20) \n",
    "\n",
    "#plt.title('Receiver operating characteristic example')\n",
    "plt.legend(loc=\"lower right\",fontsize = 20)\n",
    "sec = np.arange(0.0, 1.0, 0.05)\n",
    "plt.fill_between(fpr, 0, tpr, color=\"#348ABD\", alpha=0.3)\n",
    "plt.show()"
   ]
  },
  {
   "cell_type": "code",
   "execution_count": 16,
   "metadata": {
    "collapsed": true
   },
   "outputs": [],
   "source": [
    "log_name = save_path + 'log_save/' + seed + '_OB.log'\n",
    "logging.basicConfig(filename=log_name,level=logging.DEBUG)\n",
    "logging.info(\"Seed : \" + seed)\n",
    "logging.info(\"Time start : \" + str(start))\n",
    "#logging.info(\"Time end :\" + str(stop))\n",
    "logging.info(\"Parameter setting :\")\n",
    "logging.info(\"range \" + str(ex_range))\n",
    "logging.info(\"C = \" + str(svc_bayes.res['max']['max_params']['C']))\n",
    "logging.info(\"gamma = \" + str(svc_bayes.res['max']['max_params']['gamma']))"
   ]
  },
  {
   "cell_type": "code",
   "execution_count": 17,
   "metadata": {
    "collapsed": true
   },
   "outputs": [],
   "source": [
    "logging.shutdown()"
   ]
  },
  {
   "cell_type": "code",
   "execution_count": null,
   "metadata": {
    "collapsed": true
   },
   "outputs": [],
   "source": []
  }
 ],
 "metadata": {
  "kernelspec": {
   "display_name": "Python 2",
   "language": "python",
   "name": "python2"
  },
  "language_info": {
   "codemirror_mode": {
    "name": "ipython",
    "version": 2
   },
   "file_extension": ".py",
   "mimetype": "text/x-python",
   "name": "python",
   "nbconvert_exporter": "python",
   "pygments_lexer": "ipython2",
   "version": "2.7.11"
  }
 },
 "nbformat": 4,
 "nbformat_minor": 0
}
