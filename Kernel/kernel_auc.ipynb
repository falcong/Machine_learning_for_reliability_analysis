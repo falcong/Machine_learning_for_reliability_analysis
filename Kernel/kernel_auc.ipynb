{
 "cells": [
  {
   "cell_type": "code",
   "execution_count": 1,
   "metadata": {
    "collapsed": false
   },
   "outputs": [],
   "source": [
    "import sys\n",
    "sys.path.append('/home/peng/git/Machine_learning_for_reliability_analysis/Preprocess')\n",
    "sys.path.append('/home/peng/git/Machine_learning_for_reliability_analysis/DAlgorithms')\n",
    "\n",
    "import Preprocessdata\n",
    "import MySVM as mysvc"
   ]
  },
  {
   "cell_type": "code",
   "execution_count": 2,
   "metadata": {
    "collapsed": false
   },
   "outputs": [],
   "source": [
    "from __future__ import print_function\n",
    "from __future__ import division\n",
    "\n",
    "from sklearn.datasets import make_classification\n",
    "from sklearn.cross_validation import cross_val_score\n",
    "from sklearn.ensemble import RandomForestClassifier as RFC\n",
    "from sklearn.svm import SVC\n",
    "\n",
    "from bayes_opt import BayesianOptimization\n",
    "from pandas.core.frame import DataFrame\n",
    "import numpy as np\n",
    "import pandas as pd\n",
    "import matplotlib as mpl\n",
    "import matplotlib.pyplot as plt\n",
    "\n",
    "from sklearn.metrics.classification import accuracy_score, confusion_matrix, classification_report\n",
    "from scipy.interpolate import spline\n",
    "from sklearn import metrics\n",
    "from sklearn.metrics import accuracy_score\n",
    "from scipy import stats\n",
    "from sklearn.gaussian_process import GaussianProcess\n",
    "import timeit\n",
    "from mpl_toolkits.mplot3d import Axes3D\n",
    "import seaborn as sns\n",
    "from IPython.core.pylabtools import figsize\n",
    "from scipy.interpolate import spline\n",
    "from sklearn.svm import SVC\n",
    "from sklearn.cross_validation import cross_val_score\n",
    "from sklearn.cross_validation import StratifiedShuffleSplit\n",
    "from sklearn.grid_search import GridSearchCV\n",
    "import re\n",
    "from astropy.io.fits.header import Header\n",
    "from matplotlib.pyplot import xlim\n",
    "from sklearn import svm"
   ]
  },
  {
   "cell_type": "code",
   "execution_count": 6,
   "metadata": {
    "collapsed": false
   },
   "outputs": [
    {
     "name": "stdout",
     "output_type": "stream",
     "text": [
      "*************************************change*\n",
      "(128, 12)\n"
     ]
    }
   ],
   "source": [
    "\n",
    "# Load data set and target values\n",
    "start = timeit.default_timer()\n",
    "\n",
    "####### Read the source data######################\n",
    "df =pd.read_csv('Source_Data.csv', header=0)\n",
    "\n",
    "\n",
    "p= Preprocessdata.standardprocess()\n",
    "\n",
    "save_path = '/home/peng/git/Machine_learning_for_reliability_analysis/Kernel/Results/'\n",
    "result_name = 'poly3_auc_10CV_80_n10_p10_21.csv'\n",
    "\n",
    "train, trainlabel, test, testlabel = p.scaledivd(df, 0.8)\n",
    "print (np.shape(train))"
   ]
  },
  {
   "cell_type": "code",
   "execution_count": 35,
   "metadata": {
    "collapsed": true
   },
   "outputs": [],
   "source": [
    "def svccv(C, gamma):\n",
    "    return cross_val_score(SVC(kernel = 'rbf', C=C, gamma=gamma, random_state=2, probability=True),\n",
    "                           train, trainlabel, 'roc_auc', cv=10).mean()"
   ]
  },
  {
   "cell_type": "code",
   "execution_count": 36,
   "metadata": {
    "collapsed": false
   },
   "outputs": [
    {
     "name": "stdout",
     "output_type": "stream",
     "text": [
      "[0.0009765625, 0.001953125, 0.00390625, 0.0078125, 0.015625, 0.03125, 0.0625, 0.125, 0.25, 0.5, 1, 2, 4, 8, 16, 32, 64, 128, 256, 512, 1024]\n"
     ]
    }
   ],
   "source": [
    "ex_range = []\n",
    "for i in np.arange(-10, 11, step =1):\n",
    "    ex_range.append(2**(i))\n",
    "print (ex_range)"
   ]
  },
  {
   "cell_type": "code",
   "execution_count": 37,
   "metadata": {
    "collapsed": false
   },
   "outputs": [
    {
     "name": "stdout",
     "output_type": "stream",
     "text": [
      "\u001b[31mInitialization\u001b[0m\n",
      "\u001b[94m-----------------------------------------------------\u001b[0m\n",
      " Step |   Time |      Value |         C |     gamma | \n",
      "    1 | 00m00s | \u001b[35m   0.78965\u001b[0m | \u001b[32m   0.0010\u001b[0m | \u001b[32m   0.0010\u001b[0m | \n",
      "    2 | 00m00s | \u001b[35m   0.79002\u001b[0m | \u001b[32m   0.0020\u001b[0m | \u001b[32m   0.0020\u001b[0m | \n",
      "    3 | 00m00s |    0.79002 |    0.0039 |    0.0039 | \n",
      "    4 | 00m00s |    0.79002 |    0.0078 |    0.0078 | \n",
      "    5 | 00m00s |    0.78651 |    0.0156 |    0.0156 | \n",
      "    6 | 00m00s |    0.78855 |    0.0312 |    0.0312 | \n",
      "    7 | 00m00s |    0.78651 |    0.0625 |    0.0625 | \n",
      "    8 | 00m00s | \u001b[35m   0.79059\u001b[0m | \u001b[32m   0.1250\u001b[0m | \u001b[32m   0.1250\u001b[0m | \n",
      "    9 | 00m00s | \u001b[35m   0.81378\u001b[0m | \u001b[32m   0.2500\u001b[0m | \u001b[32m   0.2500\u001b[0m | \n",
      "   10 | 00m00s |    0.80726 |    0.5000 |    0.5000 | \n",
      "   11 | 00m00s |    0.80261 |    1.0000 |    1.0000 | \n",
      "   12 | 00m00s | \u001b[35m   0.81780\u001b[0m | \u001b[32m   2.0000\u001b[0m | \u001b[32m   2.0000\u001b[0m | \n",
      "   13 | 00m00s | \u001b[35m   0.81944\u001b[0m | \u001b[32m   4.0000\u001b[0m | \u001b[32m   4.0000\u001b[0m | \n",
      "   14 | 00m00s | \u001b[35m   0.83316\u001b[0m | \u001b[32m   8.0000\u001b[0m | \u001b[32m   8.0000\u001b[0m | \n",
      "   15 | 00m00s |    0.75590 |   16.0000 |   16.0000 | \n",
      "   16 | 00m00s |    0.73180 |   32.0000 |   32.0000 | \n",
      "   17 | 00m00s |    0.73090 |   64.0000 |   64.0000 | \n",
      "   18 | 00m00s |    0.74331 |  128.0000 |  128.0000 | \n",
      "   19 | 00m00s |    0.73940 |  256.0000 |  256.0000 | \n",
      "   20 | 00m00s |    0.70522 |  512.0000 |  512.0000 | \n",
      "   21 | 00m00s |    0.65102 | 1024.0000 | 1024.0000 | \n",
      "   22 | 00m00s |    0.72494 |  651.8216 |  456.3430 | \n",
      "   23 | 00m00s |    0.65102 |   18.8412 |  910.5252 | \n",
      "   24 | 00m00s |    0.71956 |  193.9727 |    4.8958 | \n",
      "   25 | 00m00s |    0.72560 |  556.6429 |  359.0602 | \n",
      "   26 | 00m00s |    0.74422 |  408.0155 |  227.5093 | \n",
      "\u001b[31mBayesian Optimization\u001b[0m\n",
      "\u001b[94m-----------------------------------------------------\u001b[0m\n",
      " Step |   Time |      Value |         C |     gamma | \n",
      "   27 | 00m01s |    0.69280 |  723.9230 |  558.3267 | \n",
      "   28 | 00m00s |    0.74201 |  801.6195 |   81.3430 | \n",
      "   29 | 00m00s |    0.68030 |  525.7995 |  625.2251 | \n",
      "   30 | 00m00s |    0.65102 |  201.2083 |  904.5617 | \n",
      "   31 | 00m00s |    0.66176 |  579.9949 |  711.0775 | \n",
      "   32 | 00m00s |    0.73560 |  418.8676 |  276.8072 | \n",
      "   33 | 00m00s |    0.72494 |  539.0332 |  418.2335 | \n",
      "   34 | 00m00s |    0.74405 |  580.2950 |   94.5314 | \n",
      "   35 | 00m00s |    0.73441 |    8.4004 |   44.4571 | \n",
      "   36 | 00m00s |    0.68030 |  305.8336 |  616.0549 | \n",
      "   37 | 00m00s |    0.66732 |  943.8873 |  680.2987 | \n",
      "   38 | 00m00s |    0.74331 |  832.3936 |  127.8299 | \n",
      "   39 | 00m01s |    0.82704 |  754.6246 |    0.3865 | \n",
      "   40 | 00m01s |    0.74405 |  865.6812 |   94.1753 | \n",
      "   41 | 00m00s |    0.74331 |  202.0926 |  127.3235 | \n",
      "   42 | 00m01s |    0.66732 |   30.3666 |  668.2284 | \n",
      "   43 | 00m01s |    0.81627 |   80.6309 |    2.3957 | \n",
      "   44 | 00m01s |    0.72307 |  996.6844 |    4.0000 | \n",
      "   45 | 00m00s |    0.70754 |  389.5628 |   15.6811 | \n",
      "   46 | 00m00s |    0.73622 |  473.5970 |    2.8726 | \n",
      "   47 | 00m01s |    0.70363 |  785.0708 |    7.4600 | \n",
      "   48 | 00m01s |    0.74405 |  132.0074 |   94.3564 | \n",
      "   49 | 00m01s |    0.75346 |  300.1735 |    2.3957 | \n",
      "   50 | 00m01s |    0.74201 |  421.8439 |   81.4987 | \n",
      "   51 | 00m01s |    0.72659 |  388.2557 |    4.3069 | \n",
      "Final Results\n",
      "SVC: 0.833163\n"
     ]
    }
   ],
   "source": [
    "\n",
    "\n",
    "svc_bayes = BayesianOptimization(svccv, {'C': (2**(-10), 2**10), 'gamma': (2**(-10), 2**10)})\n",
    "svc_bayes.explore({'C': ex_range, 'gamma': ex_range})\n",
    "svc_bayes.maximize(acq='ei')\n",
    "print('Final Results')\n",
    "print('SVC: %f' % svc_bayes.res['max']['max_val'])\n"
   ]
  },
  {
   "cell_type": "code",
   "execution_count": 17,
   "metadata": {
    "collapsed": false
   },
   "outputs": [
    {
     "name": "stdout",
     "output_type": "stream",
     "text": [
      "<type 'numpy.float64'>\n"
     ]
    }
   ],
   "source": [
    "print (type(svc_bayes.res['max']['max_params']['gamma']))"
   ]
  },
  {
   "cell_type": "code",
   "execution_count": 57,
   "metadata": {
    "collapsed": false
   },
   "outputs": [
    {
     "name": "stdout",
     "output_type": "stream",
     "text": [
      "use the historical records\n",
      "This is for test set**************************************\n",
      "('The accuracy for the test set is 0.78125', 'and the confusion matrix is')\n",
      "[[14  5]\n",
      " [ 2 11]]\n",
      "             precision    recall  f1-score   support\n",
      "\n",
      "        0.0       0.74      0.88      0.80        16\n",
      "        1.0       0.85      0.69      0.76        16\n",
      "\n",
      "avg / total       0.79      0.78      0.78        32\n",
      "\n"
     ]
    }
   ],
   "source": [
    "################################################# predict \n",
    "if (0): ### True use the above best parameters, false use the recored best set\n",
    "    C_best = np.float(svc_bayes.res['max']['max_params']['C'])\n",
    "    gamma_best= np.float(svc_bayes.res['max']['max_params']['gamma'])\n",
    "    print ('use the latest records')\n",
    "\n",
    "else:\n",
    "    C_best = 2.9456\n",
    "    gamma_best = 8.4192\n",
    "    print ('use the historical records')\n",
    "\n",
    "\n",
    "bestmodel= svm.SVC(kernel='rbf', C = C_best, gamma= gamma_best, probability=True).fit(train,trainlabel)\n",
    "#------------------------------------------------------------------------------ \n",
    "tt=mysvc.test()\n",
    "result = tt.test_classification(test, testlabel,bestmodel)\n",
    "\n",
    "################################################ ####"
   ]
  },
  {
   "cell_type": "code",
   "execution_count": 58,
   "metadata": {
    "collapsed": false
   },
   "outputs": [
    {
     "name": "stdout",
     "output_type": "stream",
     "text": [
      "[[14  5]\n",
      " [ 2 11]]\n",
      "*******************************************\n"
     ]
    }
   ],
   "source": [
    "#plot the confusion matrix on test set\n",
    "\n",
    "import Superplot\n",
    "from sklearn.metrics.classification import accuracy_score, confusion_matrix, classification_report\n",
    "print (confusion_matrix(result, testlabel))\n",
    "pp = Superplot.fancy()\n",
    "pp.plot_confusion_matrix(confusion_matrix(result, testlabel))"
   ]
  },
  {
   "cell_type": "code",
   "execution_count": 66,
   "metadata": {
    "collapsed": false
   },
   "outputs": [
    {
     "name": "stdout",
     "output_type": "stream",
     "text": [
      "[[ 0.74203472  0.25796528]\n",
      " [ 0.91610979  0.08389021]\n",
      " [ 0.19628015  0.80371985]\n",
      " [ 0.58570126  0.41429874]\n",
      " [ 0.1889196   0.8110804 ]\n",
      " [ 0.55523921  0.44476079]\n",
      " [ 0.18804276  0.81195724]\n",
      " [ 0.103678    0.896322  ]\n",
      " [ 0.14584822  0.85415178]\n",
      " [ 0.7334114   0.2665886 ]\n",
      " [ 0.41698412  0.58301588]\n",
      " [ 0.92211831  0.07788169]\n",
      " [ 0.88758971  0.11241029]\n",
      " [ 0.17633943  0.82366057]\n",
      " [ 0.10665845  0.89334155]\n",
      " [ 0.93325582  0.06674418]\n",
      " [ 0.32792349  0.67207651]\n",
      " [ 0.6172134   0.3827866 ]\n",
      " [ 0.88848389  0.11151611]\n",
      " [ 0.81242694  0.18757306]\n",
      " [ 0.3458604   0.6541396 ]\n",
      " [ 0.6280476   0.3719524 ]\n",
      " [ 0.07829456  0.92170544]\n",
      " [ 0.89160142  0.10839858]\n",
      " [ 0.54970195  0.45029805]\n",
      " [ 0.85377586  0.14622414]\n",
      " [ 0.49448228  0.50551772]\n",
      " [ 0.3458604   0.6541396 ]\n",
      " [ 0.82140555  0.17859445]\n",
      " [ 0.78930907  0.21069093]\n",
      " [ 0.6512307   0.3487693 ]\n",
      " [ 0.87708861  0.12291139]]\n"
     ]
    }
   ],
   "source": [
    "#plot the auc on test set\n",
    "from sklearn.metrics import roc_curve, auc\n",
    "\n",
    "y_score = bestmodel.predict_proba(test)\n",
    "print (y_score)\n",
    "\n",
    "mean_tpr = 0.0\n",
    "mean_fpr = np.linspace(0, 1, 100)\n",
    "all_tpr = []"
   ]
  },
  {
   "cell_type": "code",
   "execution_count": null,
   "metadata": {
    "collapsed": false
   },
   "outputs": [],
   "source": [
    "from scipy import interp\n",
    "\n",
    "\n",
    "fpr, tpr, thresholds = roc_curve(testlabel, y_score[:, 1])\n",
    "roc_auc = auc(fpr, tpr)\n",
    "\n",
    "figsize(10,8)\n",
    "\n",
    "plt.plot(fpr, tpr, lw=1.5, label='(area= %0.2f)' % ( roc_auc))\n",
    "plt.plot([0, 1], [0, 1], '--', color=(0.6, 0.6, 0.6))\n",
    "#plt.xlim([-0.05, 1.05])\n",
    "#plt.ylim([-0.05, 1.05])\n",
    "\n",
    "plt.xlim([0, 1])\n",
    "plt.ylim([0, 1])\n",
    "\n",
    "plt.xlabel('False Positive Rate',fontsize = 24)\n",
    "plt.ylabel('True Positive Rate',fontsize = 24)\n",
    "plt.xticks(fontsize = 20) \n",
    "\n",
    "plt.yticks(fontsize = 20) \n",
    "\n",
    "#plt.title('Receiver operating characteristic example')\n",
    "plt.legend(loc=\"lower right\",fontsize = 20)\n",
    "sec = np.arange(0.0, 1.0, 0.05)\n",
    "plt.fill_between(fpr, 0, tpr, color=\"#348ABD\", alpha=0.3)\n",
    "plt.show()"
   ]
  },
  {
   "cell_type": "code",
   "execution_count": null,
   "metadata": {
    "collapsed": true
   },
   "outputs": [],
   "source": []
  }
 ],
 "metadata": {
  "kernelspec": {
   "display_name": "Python 2",
   "language": "python",
   "name": "python2"
  },
  "language_info": {
   "codemirror_mode": {
    "name": "ipython",
    "version": 2
   },
   "file_extension": ".py",
   "mimetype": "text/x-python",
   "name": "python",
   "nbconvert_exporter": "python",
   "pygments_lexer": "ipython2",
   "version": "2.7.11"
  }
 },
 "nbformat": 4,
 "nbformat_minor": 0
}
