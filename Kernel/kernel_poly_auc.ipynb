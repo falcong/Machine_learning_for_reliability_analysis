{
 "cells": [
  {
   "cell_type": "code",
   "execution_count": null,
   "metadata": {
    "collapsed": false
   },
   "outputs": [],
   "source": [
    "import sys\n",
    "sys.path.append('/home/peng/git/Machine_learning_for_reliability_analysis/Preprocess')\n",
    "sys.path.append('/home/peng/git/Machine_learning_for_reliability_analysis/DAlgorithms')\n",
    "\n",
    "import Preprocessdata\n",
    "import MySVM as mysvc"
   ]
  },
  {
   "cell_type": "code",
   "execution_count": null,
   "metadata": {
    "collapsed": false
   },
   "outputs": [],
   "source": [
    "from __future__ import print_function\n",
    "from __future__ import division\n",
    "\n",
    "import logging\n",
    "from sklearn.datasets import make_classification\n",
    "from sklearn.cross_validation import cross_val_score\n",
    "from sklearn.ensemble import RandomForestClassifier as RFC\n",
    "from sklearn.svm import SVC\n",
    "\n",
    "from bayes_opt import BayesianOptimization\n",
    "from pandas.core.frame import DataFrame\n",
    "import numpy as np\n",
    "import pandas as pd\n",
    "import matplotlib as mpl\n",
    "import matplotlib.pyplot as plt\n",
    "\n",
    "from sklearn.metrics.classification import accuracy_score, confusion_matrix, classification_report\n",
    "from scipy.interpolate import spline\n",
    "from sklearn import metrics\n",
    "from sklearn.metrics import accuracy_score\n",
    "from scipy import stats\n",
    "from sklearn.gaussian_process import GaussianProcess\n",
    "import timeit\n",
    "from mpl_toolkits.mplot3d import Axes3D\n",
    "import seaborn as sns\n",
    "from IPython.core.pylabtools import figsize\n",
    "from scipy.interpolate import spline\n",
    "from sklearn.svm import SVC\n",
    "from sklearn.cross_validation import cross_val_score\n",
    "from sklearn.cross_validation import StratifiedShuffleSplit\n",
    "from sklearn.grid_search import GridSearchCV\n",
    "import re\n",
    "from astropy.io.fits.header import Header\n",
    "from matplotlib.pyplot import xlim\n",
    "from sklearn import svm\n",
    "%matplotlib inline"
   ]
  },
  {
   "cell_type": "code",
   "execution_count": 8,
   "metadata": {
    "collapsed": false
   },
   "outputs": [
    {
     "name": "stdout",
     "output_type": "stream",
     "text": [
      "*************************************change*\n"
     ]
    }
   ],
   "source": [
    "\n",
    "# Load data set and target values\n",
    "start = timeit.default_timer()\n",
    "\n",
    "####### Read the source data######################\n",
    "df =pd.read_csv('Source_Data.csv', header=0)\n",
    "\n",
    "\n",
    "p= Preprocessdata.standardprocess()\n",
    "\n",
    "save_path = '/home/peng/git/Machine_learning_for_reliability_analysis/Kernel/Results/'\n",
    "result_name = 'poly3_auc_10CV_80_n10_p10_21.csv'\n",
    "\n",
    "#train, trainlabel, test, testlabel = p.scaledivd(df, 0.8)\n",
    "#print (np.shape(train))"
   ]
  },
  {
   "cell_type": "code",
   "execution_count": 9,
   "metadata": {
    "collapsed": false
   },
   "outputs": [],
   "source": [
    "#### scale the training dataset first and then apply the rules to test set \n",
    "train, trainlabel, test, testlabel = p.sep_scale_divd(df, 0.8)\n",
    "#print (test[0:10])\n",
    "\n"
   ]
  },
  {
   "cell_type": "code",
   "execution_count": 10,
   "metadata": {
    "collapsed": false
   },
   "outputs": [],
   "source": [
    "#define the BO function\n",
    "seed = 'poly'\n",
    "degree = 2\n",
    "\n",
    "rad_stat = 2\n",
    "def svccv(C, gamma):\n",
    "    return cross_val_score(SVC(kernel = seed, C=C, gamma=gamma, degree = degree,\\\n",
    "                               random_state=rad_stat, probability=True),\n",
    "                           train, trainlabel, 'roc_auc', cv=10).mean()"
   ]
  },
  {
   "cell_type": "code",
   "execution_count": 11,
   "metadata": {
    "collapsed": false
   },
   "outputs": [],
   "source": [
    "# define the boundaries for parameters\n",
    "ex_range = []\n",
    "for i in np.arange(-10, 11, step =1):\n",
    "    ex_range.append(2**(i))\n",
    "#print (ex_range)"
   ]
  },
  {
   "cell_type": "code",
   "execution_count": 12,
   "metadata": {
    "collapsed": false
   },
   "outputs": [
    {
     "name": "stdout",
     "output_type": "stream",
     "text": [
      "\u001b[31mInitialization\u001b[0m\n",
      "\u001b[94m-----------------------------------------------------\u001b[0m\n",
      " Step |   Time |      Value |         C |     gamma | \n",
      "    1 | 18m42s | \u001b[35m   0.68673\u001b[0m | \u001b[32m 364.3996\u001b[0m | \u001b[32m 924.2216\u001b[0m | \n",
      "    2 | 00m38s | \u001b[35m   0.75680\u001b[0m | \u001b[32m 232.6437\u001b[0m | \u001b[32m  27.8400\u001b[0m | \n",
      "    3 | 17m40s |    0.73124 |  588.0674 |  769.6498 | \n",
      "    4 | 05m00s |    0.71769 |  623.6106 |   43.7279 | \n",
      "    5 | 19m27s |    0.68226 |  907.8224 |  489.2223 | \n",
      "\u001b[31mBayesian Optimization\u001b[0m\n",
      "\u001b[94m-----------------------------------------------------\u001b[0m\n",
      " Step |   Time |      Value |         C |     gamma | \n",
      "    6 | 00m21s |    0.73940 |  111.1234 |   24.8602 | \n",
      "    7 | 01m09s |    0.73271 |  316.7464 |   31.7098 | \n",
      "    8 | 18m44s |    0.67307 |  426.8497 |  762.1640 | \n",
      "    9 | 03m58s |    0.73084 |  199.0042 |   81.5869 | \n",
      "   10 | 18m50s |    0.67234 |  773.8921 |  760.7908 | \n",
      "   11 | 29m35s |    0.69048 |  881.6095 |  774.1564 | \n",
      "   12 | 14m53s |    0.69751 |  531.2084 |  170.9360 | \n",
      "   13 | 04m26s |    0.69972 |   75.6139 |  141.1405 | \n",
      "   14 | 20m27s |    0.65561 |  579.1638 |  872.6300 | \n",
      "   15 | 01m10s |    0.74921 |  194.6259 |   33.0187 | \n",
      "   16 | 40m12s |    0.69320 |  607.0853 |  698.2016 | \n",
      "   17 | 00m15s |    0.73940 |  298.5897 |    9.6601 | \n",
      "   18 | 00m05s | \u001b[35m   0.76701\u001b[0m | \u001b[32m 216.2134\u001b[0m | \u001b[32m   4.4369\u001b[0m | \n",
      "   19 | 09m59s |    0.70045 |  834.6921 |  114.2240 | \n",
      "   20 | 11m26s |    0.70045 |  354.3334 |  110.5726 | \n",
      "   21 | 12m27s |    0.67449 |   47.5928 |  496.2922 | \n",
      "   22 | 21m59s |    0.67840 |  999.2182 |  976.3353 | \n",
      "   23 | 00m06s |    0.72551 |  813.1287 |    3.2565 | \n",
      "   24 | 00m01s | \u001b[35m   0.77812\u001b[0m | \u001b[32m  35.6928\u001b[0m | \u001b[32m   3.8355\u001b[0m | \n",
      "   25 | 01m51s |    0.75198 | 1013.4221 |   22.0413 | \n",
      "   26 | 00m00s |    0.77639 |    0.0010 |    0.0010 | \n",
      "   27 | 00m38s |    0.74291 |   35.5876 |   55.5329 | \n",
      "   28 | 10m50s |    0.70901 |  981.8601 |   54.6183 | \n",
      "   29 | 00m41s |    0.75125 |  919.9430 |   11.5405 | \n",
      "   30 | 21m10s |    0.67120 |  469.9955 |  337.1720 | \n",
      "Final Results\n",
      "SVC: 0.778118\n"
     ]
    }
   ],
   "source": [
    "# run the BOand get the results without exploration\n",
    "svc_bayes = BayesianOptimization(svccv, {'C': (2**(-10), 2**10), 'gamma': (2**(-10), 2**10)})\n",
    "#svc_bayes.explore({'C': ex_range, 'gamma': ex_range})\n",
    "svc_bayes.maximize(acq='ei')\n",
    "print('Final Results')\n",
    "print('SVC: %f' % svc_bayes.res['max']['max_val'])"
   ]
  },
  {
   "cell_type": "code",
   "execution_count": null,
   "metadata": {
    "collapsed": false
   },
   "outputs": [
    {
     "name": "stdout",
     "output_type": "stream",
     "text": [
      "\u001b[31mInitialization\u001b[0m\n",
      "\u001b[94m-----------------------------------------------------\u001b[0m\n",
      " Step |   Time |      Value |         C |     gamma | \n",
      "    1 | 00m00s | \u001b[35m   0.78965\u001b[0m | \u001b[32m   0.0010\u001b[0m | \u001b[32m   0.0010\u001b[0m | \n",
      "    2 | 00m00s |    0.78724 |    0.0020 |    0.0020 | \n",
      "    3 | 00m00s |    0.78724 |    0.0039 |    0.0039 | \n",
      "    4 | 00m00s |    0.78724 |    0.0078 |    0.0078 | \n",
      "    5 | 00m00s |    0.78724 |    0.0156 |    0.0156 | \n",
      "    6 | 00m00s |    0.78724 |    0.0312 |    0.0312 | \n",
      "    7 | 00m00s |    0.78724 |    0.0625 |    0.0625 | \n",
      "    8 | 00m00s |    0.78724 |    0.1250 |    0.1250 | \n",
      "    9 | 00m00s | \u001b[35m   0.80505\u001b[0m | \u001b[32m   0.2500\u001b[0m | \u001b[32m   0.2500\u001b[0m | \n",
      "   10 | 00m00s | \u001b[35m   0.81412\u001b[0m | \u001b[32m   0.5000\u001b[0m | \u001b[32m   0.5000\u001b[0m | \n",
      "   11 | 00m00s |    0.77795 |    1.0000 |    1.0000 | \n",
      "   12 | 00m00s |    0.77109 |    2.0000 |    2.0000 | \n",
      "   13 | 00m00s |    0.79909 |    4.0000 |    4.0000 | \n",
      "   14 | 00m00s |    0.74342 |    8.0000 |    8.0000 | \n",
      "   15 | 00m00s |    0.76179 |   16.0000 |   16.0000 | \n",
      "   16 | 00m00s |    0.78203 |   32.0000 |   32.0000 | \n",
      "   17 | 00m16s |    0.79853 |   64.0000 |   64.0000 | \n",
      "   18 | 00m45s |    0.79297 |  128.0000 |  128.0000 | \n",
      "   19 | 01m47s |    0.79501 |  256.0000 |  256.0000 | \n",
      "   20 | 04m17s |    0.78946 |  512.0000 |  512.0000 | \n",
      "   21 | 11m31s |    0.78186 | 1024.0000 | 1024.0000 | \n"
     ]
    }
   ],
   "source": [
    "# run the BOand get the results\n",
    "svc_bayes = BayesianOptimization(svccv, {'C': (2**(-10), 2**10), 'gamma': (2**(-10), 2**10)})\n",
    "svc_bayes.explore({'C': ex_range, 'gamma': ex_range})\n",
    "svc_bayes.maximize(acq='ei')\n",
    "print('Final Results')\n",
    "print('SVC: %f' % svc_bayes.res['max']['max_val'])\n"
   ]
  },
  {
   "cell_type": "code",
   "execution_count": 8,
   "metadata": {
    "collapsed": false
   },
   "outputs": [
    {
     "name": "stdout",
     "output_type": "stream",
     "text": [
      "<type 'numpy.float64'>\n"
     ]
    }
   ],
   "source": [
    "print (type(svc_bayes.res['max']['max_params']['gamma']))"
   ]
  },
  {
   "cell_type": "code",
   "execution_count": 9,
   "metadata": {
    "collapsed": false
   },
   "outputs": [
    {
     "name": "stdout",
     "output_type": "stream",
     "text": [
      "use the latest records\n"
     ]
    }
   ],
   "source": [
    "# get the best parameters for plotting auc on training and test\n",
    "if (1): ### True use the above best parameters, false use the recored best set\n",
    "    C_best = np.float(svc_bayes.res['max']['max_params']['C'])\n",
    "    gamma_best= np.float(svc_bayes.res['max']['max_params']['gamma'])\n",
    "    print ('use the latest records')\n",
    "\n",
    "else:\n",
    "    C_best = 2.9456\n",
    "    gamma_best = 8.4192\n",
    "    print ('use the historical records')\n",
    "\n",
    "\n",
    "bestmodel= svm.SVC(kernel=seed, C = C_best, gamma= gamma_best, probability=True).fit(train,trainlabel)\n"
   ]
  },
  {
   "cell_type": "code",
   "execution_count": 11,
   "metadata": {
    "collapsed": false
   },
   "outputs": [],
   "source": [
    "#use the best parameters to plot cv auc on the training set\n",
    "from sklearn.metrics import roc_curve, auc\n",
    "from sklearn.cross_validation import StratifiedKFold\n",
    "from scipy import interp\n",
    "\n",
    "figsize(10,8)\n",
    "cv = StratifiedKFold(trainlabel, n_folds=10)\n",
    "\n",
    "bestmodel_training= svm.SVC(kernel=seed, C= C_best, gamma= gamma_best, probability=True, \n",
    "                            random_state = rad_stat)\n",
    "mean_tpr = 0.0\n",
    "mean_fpr = np.linspace(0, 1, 100)\n",
    "all_tpr = []\n",
    "\n",
    "for i, (training, testing) in enumerate(cv):\n",
    "    probas_ = bestmodel_training.fit(train[training], trainlabel[training]).predict_proba(train[testing])\n",
    "    # Compute ROC curve and area the curve\n",
    "    fpr, tpr, thresholds = roc_curve(trainlabel[testing], probas_[:, 1])\n",
    "    mean_tpr += interp(mean_fpr, fpr, tpr)\n",
    "    mean_tpr[0] = 0.0\n",
    "    roc_auc = auc(fpr, tpr)\n",
    "    plt.plot(fpr, tpr, lw=1.5, label='ROC fold %d (area = %0.2f)' % (i+1, roc_auc))\n",
    "\n",
    "plt.plot([0, 1], [0, 1], '--', color=(0.6, 0.6, 0.6))\n",
    "\n",
    "mean_tpr /= len(cv)\n",
    "mean_tpr[-1] = 1.0\n",
    "mean_auc = auc(mean_fpr, mean_tpr)\n",
    "plt.plot(mean_fpr, mean_tpr, 'k--', \n",
    "         label='Mean ROC (area = %0.2f)' % mean_auc, lw=2.5)\n",
    "\n",
    "plt.xlim([0, 1])\n",
    "plt.ylim([0, 1])\n",
    "plt.xlabel('False Positive Rate',fontsize = 24)\n",
    "plt.ylabel('True Positive Rate',fontsize = 24)\n",
    "plt.xticks(fontsize = 20) \n",
    "\n",
    "plt.yticks(fontsize = 20) \n",
    "\n",
    "#plt.title('Receiver operating characteristic example')\n",
    "plt.legend(loc=\"lower right\",fontsize = 14)\n",
    "\n",
    "plt.fill_between(mean_fpr, 0, mean_tpr, #color=\"#348ABD\", \n",
    "                 color=\"#66cdaa\", alpha=0.15)\n",
    "plt.show()"
   ]
  },
  {
   "cell_type": "code",
   "execution_count": 12,
   "metadata": {
    "collapsed": false
   },
   "outputs": [
    {
     "name": "stdout",
     "output_type": "stream",
     "text": [
      "This is for test set**************************************\n",
      "('The accuracy for the test set is 0.75', 'and the confusion matrix is')\n",
      "[[13  5]\n",
      " [ 3 11]]\n",
      "             precision    recall  f1-score   support\n",
      "\n",
      "        0.0       0.72      0.81      0.76        16\n",
      "        1.0       0.79      0.69      0.73        16\n",
      "\n",
      "avg / total       0.75      0.75      0.75        32\n",
      "\n"
     ]
    }
   ],
   "source": [
    "#predict the test set\n",
    "\n",
    "tt=mysvc.test()\n",
    "result = tt.test_classification(test, testlabel,bestmodel)"
   ]
  },
  {
   "cell_type": "code",
   "execution_count": 82,
   "metadata": {
    "collapsed": false
   },
   "outputs": [
    {
     "name": "stdout",
     "output_type": "stream",
     "text": [
      "[[13  5]\n",
      " [ 3 11]]\n",
      "*******************************************\n"
     ]
    }
   ],
   "source": [
    "#plot the confusion matrix on test set\n",
    "import Superplot\n",
    "from sklearn.metrics.classification import accuracy_score, confusion_matrix, classification_report\n",
    "print (confusion_matrix(result, testlabel))\n",
    "pp = Superplot.fancy()\n",
    "pp.plot_confusion_matrix(confusion_matrix(result, testlabel))"
   ]
  },
  {
   "cell_type": "code",
   "execution_count": 83,
   "metadata": {
    "collapsed": false
   },
   "outputs": [
    {
     "name": "stdout",
     "output_type": "stream",
     "text": [
      "[[ 0.7234735   0.2765265 ]\n",
      " [ 0.91208831  0.08791169]\n",
      " [ 0.23146161  0.76853839]\n",
      " [ 0.51976027  0.48023973]\n",
      " [ 0.23688751  0.76311249]\n",
      " [ 0.54222955  0.45777045]\n",
      " [ 0.17756601  0.82243399]\n",
      " [ 0.13083711  0.86916289]\n",
      " [ 0.17772734  0.82227266]\n",
      " [ 0.65283637  0.34716363]\n",
      " [ 0.44902734  0.55097266]\n",
      " [ 0.89961573  0.10038427]\n",
      " [ 0.86375607  0.13624393]\n",
      " [ 0.21448803  0.78551197]\n",
      " [ 0.13996112  0.86003888]\n",
      " [ 0.9299111   0.0700889 ]\n",
      " [ 0.43923519  0.56076481]\n",
      " [ 0.59580895  0.40419105]\n",
      " [ 0.87093674  0.12906326]\n",
      " [ 0.78850133  0.21149867]\n",
      " [ 0.43116332  0.56883668]\n",
      " [ 0.61961417  0.38038583]\n",
      " [ 0.08487316  0.91512684]\n",
      " [ 0.84927776  0.15072224]\n",
      " [ 0.54354796  0.45645204]\n",
      " [ 0.82079001  0.17920999]\n",
      " [ 0.40736799  0.59263201]\n",
      " [ 0.43116332  0.56883668]\n",
      " [ 0.79670722  0.20329278]\n",
      " [ 0.76677057  0.23322943]\n",
      " [ 0.64176452  0.35823548]\n",
      " [ 0.84521349  0.15478651]]\n"
     ]
    }
   ],
   "source": [
    "#plot the auc on test set\n",
    "from sklearn.metrics import roc_curve, auc\n",
    "\n",
    "y_score = bestmodel.predict_proba(test)\n",
    "print (y_score)\n",
    "\n",
    "mean_tpr = 0.0\n",
    "mean_fpr = np.linspace(0, 1, 100)\n",
    "all_tpr = []"
   ]
  },
  {
   "cell_type": "code",
   "execution_count": 84,
   "metadata": {
    "collapsed": false
   },
   "outputs": [],
   "source": [
    "#plot the auc on test set\n",
    "fpr, tpr, thresholds = roc_curve(testlabel, y_score[:, 1])\n",
    "roc_auc = auc(fpr, tpr)\n",
    "\n",
    "figsize(10,8)\n",
    "\n",
    "plt.plot(fpr, tpr, lw=1.5, label='(area= %0.2f)' % ( roc_auc))\n",
    "plt.plot([0, 1], [0, 1], '--', color=(0.6, 0.6, 0.6))\n",
    "#plt.xlim([-0.05, 1.05])\n",
    "#plt.ylim([-0.05, 1.05])\n",
    "\n",
    "plt.xlim([0, 1])\n",
    "plt.ylim([0, 1])\n",
    "\n",
    "plt.xlabel('False Positive Rate',fontsize = 24)\n",
    "plt.ylabel('True Positive Rate',fontsize = 24)\n",
    "plt.xticks(fontsize = 20) \n",
    "\n",
    "plt.yticks(fontsize = 20) \n",
    "\n",
    "#plt.title('Receiver operating characteristic example')\n",
    "plt.legend(loc=\"lower right\",fontsize = 20)\n",
    "sec = np.arange(0.0, 1.0, 0.05)\n",
    "plt.fill_between(fpr, 0, tpr, color=\"#348ABD\", alpha=0.3)\n",
    "plt.show()"
   ]
  },
  {
   "cell_type": "code",
   "execution_count": 85,
   "metadata": {
    "collapsed": true
   },
   "outputs": [],
   "source": [
    "log_name = save_path + 'log_save/' + seed + '_OB.log'\n",
    "logging.basicConfig(filename=log_name,level=logging.DEBUG)\n",
    "logging.info(\"Seed : \" + seed)\n",
    "logging.info(\"Time start : \" + str(start))\n",
    "#logging.info(\"Time end :\" + str(stop))\n",
    "logging.info(\"Parameter setting :\")\n",
    "logging.info(\"range \" + str(ex_range))\n",
    "logging.info(\"C = \" + str(svc_bayes.res['max']['max_params']['C']))\n",
    "logging.info(\"gamma = \" + str(svc_bayes.res['max']['max_params']['gamma']))"
   ]
  },
  {
   "cell_type": "code",
   "execution_count": 87,
   "metadata": {
    "collapsed": true
   },
   "outputs": [],
   "source": [
    "logging.shutdown()"
   ]
  },
  {
   "cell_type": "code",
   "execution_count": null,
   "metadata": {
    "collapsed": true
   },
   "outputs": [],
   "source": []
  }
 ],
 "metadata": {
  "kernelspec": {
   "display_name": "Python 2",
   "language": "python",
   "name": "python2"
  },
  "language_info": {
   "codemirror_mode": {
    "name": "ipython",
    "version": 2
   },
   "file_extension": ".py",
   "mimetype": "text/x-python",
   "name": "python",
   "nbconvert_exporter": "python",
   "pygments_lexer": "ipython2",
   "version": "2.7.11"
  }
 },
 "nbformat": 4,
 "nbformat_minor": 0
}
