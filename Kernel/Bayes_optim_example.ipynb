{
 "cells": [
  {
   "cell_type": "code",
   "execution_count": 1,
   "metadata": {
    "collapsed": true
   },
   "outputs": [],
   "source": [
    "from sklearn.datasets import make_classification\n",
    "from sklearn.cross_validation import cross_val_score\n",
    "from sklearn.ensemble import RandomForestClassifier as RFC\n",
    "from sklearn.svm import SVC\n",
    "\n",
    "from bayes_opt import BayesianOptimization\n",
    "\n",
    "# Load data set and target values\n",
    "data, target = make_classification(n_samples=2500,\n",
    "                                   n_features=45,\n",
    "                                   n_informative=12,\n",
    "                                   n_redundant=7)"
   ]
  },
  {
   "cell_type": "code",
   "execution_count": 2,
   "metadata": {
    "collapsed": false
   },
   "outputs": [
    {
     "name": "stdout",
     "output_type": "stream",
     "text": [
      "[[ 0.5812206  -1.21382125 -1.30757408 ...,  3.17244049 -0.54720231\n",
      "   1.07237708]\n",
      " [ 0.17718932  0.40923369  0.20912799 ..., -1.13101051  0.59809808\n",
      "  -0.27257094]\n",
      " [ 1.1850731   1.45173188  2.15863645 ...,  1.22095883  0.22548305\n",
      "  -0.76743679]\n",
      " ..., \n",
      " [-0.41501874  0.88440465 -0.94902016 ...,  4.14787686 -4.88829426\n",
      "   0.97604344]\n",
      " [ 0.50768113 -1.03231343  0.24792054 ...,  0.09557528  3.01193625\n",
      "  -0.10656855]\n",
      " [ 0.72802563  0.16266639 -0.41871305 ...,  2.20162268 -3.45258988\n",
      "  -1.41757823]]\n"
     ]
    }
   ],
   "source": [
    "print data"
   ]
  },
  {
   "cell_type": "code",
   "execution_count": 3,
   "metadata": {
    "collapsed": false
   },
   "outputs": [
    {
     "name": "stdout",
     "output_type": "stream",
     "text": [
      "[0 1 1 ..., 0 0 0]\n"
     ]
    }
   ],
   "source": [
    "print target"
   ]
  },
  {
   "cell_type": "code",
   "execution_count": null,
   "metadata": {
    "collapsed": true
   },
   "outputs": [],
   "source": []
  }
 ],
 "metadata": {
  "kernelspec": {
   "display_name": "Python 2",
   "language": "python",
   "name": "python2"
  },
  "language_info": {
   "codemirror_mode": {
    "name": "ipython",
    "version": 2
   },
   "file_extension": ".py",
   "mimetype": "text/x-python",
   "name": "python",
   "nbconvert_exporter": "python",
   "pygments_lexer": "ipython2",
   "version": "2.7.11"
  }
 },
 "nbformat": 4,
 "nbformat_minor": 0
}
