{
 "cells": [
  {
   "cell_type": "code",
   "execution_count": 1,
   "metadata": {
    "collapsed": false
   },
   "outputs": [],
   "source": [
    "import sys\n",
    "sys.path.append('/home/peng/git/Machine_learning_for_reliability_analysis/Preprocess')\n",
    "sys.path.append('/home/peng/git/Machine_learning_for_reliability_analysis/DAlgorithms')\n",
    "\n",
    "import Preprocessdata\n",
    "import MySVM as mysvc\n",
    "import Superplot\n",
    "from __future__ import print_function\n",
    "from __future__ import division\n",
    "\n",
    "import logging\n",
    "from sklearn.datasets import make_classification\n",
    "from sklearn.cross_validation import cross_val_score\n",
    "from sklearn.ensemble import RandomForestClassifier as RFC\n",
    "from sklearn.svm import SVC, SVR\n",
    "\n",
    "from bayes_opt import BayesianOptimization\n",
    "from pandas.core.frame import DataFrame\n",
    "import numpy as np\n",
    "import pandas as pd\n",
    "import matplotlib as mpl\n",
    "import matplotlib.pyplot as plt\n",
    "\n",
    "from sklearn.metrics.classification import accuracy_score, confusion_matrix, classification_report\n",
    "from scipy.interpolate import spline\n",
    "from sklearn import metrics\n",
    "from sklearn.metrics import accuracy_score\n",
    "from scipy import stats\n",
    "from sklearn.gaussian_process import GaussianProcess\n",
    "import timeit\n",
    "from mpl_toolkits.mplot3d import Axes3D\n",
    "import seaborn as sns\n",
    "from IPython.core.pylabtools import figsize\n",
    "from scipy.interpolate import spline\n",
    "from sklearn.cross_validation import cross_val_score\n",
    "from sklearn.cross_validation import StratifiedShuffleSplit\n",
    "from sklearn.grid_search import GridSearchCV\n",
    "import re\n",
    "from astropy.io.fits.header import Header\n",
    "from matplotlib.pyplot import xlim\n",
    "from sklearn import svm\n",
    "%matplotlib inline"
   ]
  },
  {
   "cell_type": "code",
   "execution_count": 2,
   "metadata": {
    "collapsed": false
   },
   "outputs": [
    {
     "name": "stdout",
     "output_type": "stream",
     "text": [
      "        T1    T2    T3       T4     T5     T6        T7     T8        Target\n",
      "5    316.0  26.7  7.28   226.00 -0.810  334.0  1000.000   2.00  1.550000e-08\n",
      "4    316.0  26.4  7.28   226.00 -0.810  334.0  1000.000   2.00  2.280000e-08\n",
      "41   330.0  25.8  8.01   257.00 -0.909  389.0   300.000   2.20  3.630000e-08\n",
      "114  325.0  32.5  7.79   232.00 -0.878  301.5   385.000   2.00  2.290000e-09\n",
      "12   350.0  23.8  9.19   819.00 -1.096  389.0   108.000   7.00  3.780000e-08\n",
      "136  326.9  21.0  7.46   379.00 -0.844  248.4  1764.000   3.37  1.780000e-09\n",
      "123  290.0  31.9  7.26   232.00 -0.783  301.5   385.000   2.00  1.130000e-09\n",
      "21   330.0  79.2  6.21    12.00 -0.693  389.0  1200.000   0.10  5.700000e-08\n",
      "95   330.0  34.8  7.55   224.00 -0.856  394.0  1000.000   2.00  2.470000e-08\n",
      "7    350.0  62.7  9.19   819.00 -1.096  389.0   108.000   7.00  3.540000e-07\n",
      "116  325.0  32.1  7.79   232.00 -0.878  301.5   385.000   2.00  2.520000e-09\n",
      "63   360.0  21.5  8.37   207.00 -1.000  468.0  1000.000   2.00  1.110000e-07\n",
      "50   330.0  90.0  7.53   392.00 -0.850  389.0  1800.000   3.50  1.280000e-07\n",
      "1    316.0  24.7  7.28   226.00 -0.810  334.0  1000.000   2.00  9.670000e-09\n",
      "10   350.0  51.4  9.19   819.00 -1.096  389.0   108.000   7.00  3.130000e-07\n",
      "28   330.0  13.5  7.48   224.00 -0.844  389.0  1200.000   2.00  3.000000e-08\n",
      "138  330.0  23.0  7.48   224.00 -0.844  389.0  1200.000   2.00  1.700000e-09\n",
      "32   330.0  53.4  5.52     2.80 -0.610  389.0  1200.000   0.00  9.100000e-08\n",
      "19   330.0  38.7  7.48   224.00 -0.844  389.0  1200.000   2.00  7.400000e-08\n",
      "14   330.0  78.9  7.48   224.00 -0.844  389.0  1200.000   2.00  1.780000e-07\n",
      "48   330.0  42.0  7.99   396.00 -0.907  389.0   600.000   3.50  7.200000e-08\n",
      "76   329.7  20.4  7.51   246.00 -0.848  329.0  1200.000   2.20  1.200000e-08\n",
      "45   330.0  12.5  7.52   246.00 -0.849  389.0  1200.000   2.20  2.130000e-09\n",
      "119  325.0  34.8  7.79   232.00 -0.878  301.5   385.000   2.00  6.000000e-09\n",
      "148  338.0  65.9  6.05     0.97 -0.680  255.0     0.000   0.00  1.323545e-08\n",
      "24   330.0  82.2  5.96     1.80 -0.663  389.0     0.001   0.00  1.550000e-07\n",
      "161  289.0  32.0  7.25   258.00 -0.720  324.0   450.000   2.25  2.090000e-08\n",
      "132  330.0  36.0  7.89   231.00 -0.896  374.4   385.000   2.00  8.090000e-09\n",
      "64   290.0  32.9  6.90   224.00 -0.738  500.0  1000.000   2.00  1.940000e-09\n",
      "162  320.0  32.0  7.70   260.00 -0.800  324.0   450.000   2.25  5.600000e-09\n",
      "..     ...   ...   ...      ...    ...    ...       ...    ...           ...\n",
      "158  289.0  32.0  7.25   258.00 -0.771  324.0   450.000   2.25  6.800000e-09\n",
      "153  320.0  32.0  7.70   260.00 -0.888  324.0   450.000   2.25  6.800000e-09\n",
      "38   330.0  10.2  5.76     1.70 -0.639  389.0   300.000   0.00  1.540000e-09\n",
      "26   332.0  22.2  5.98     1.70 -0.667  389.0     0.001   0.00  4.000000e-08\n",
      "96   290.0  33.8  6.90   224.00 -0.742  500.0  1000.000   2.00  3.900000e-09\n",
      "81   330.0  24.4  7.55   224.00 -0.856  468.0  1000.000   2.00  5.220000e-08\n",
      "79   310.0  38.9  7.18   227.00 -0.793  468.0  1000.000   2.00  1.440000e-08\n",
      "57   290.0  33.2  6.90   224.00 -0.738  468.0  1000.000   2.00  3.330000e-09\n",
      "105  290.0  36.9  7.26   232.00 -0.779  308.2   385.000   2.00  1.520000e-09\n",
      "99   310.0  34.1  7.18   227.00 -0.793  500.0  1000.000   2.00  1.470000e-08\n",
      "121  290.0  36.7  7.26   232.00 -0.783  301.5   385.000   2.00  9.260000e-10\n",
      "56   290.0  32.8  6.90   224.00 -0.738  468.0  1000.000   2.00  4.170000e-09\n",
      "15   330.0  75.7  8.15  1116.00 -0.928  389.0  1200.000  10.00  2.440000e-07\n",
      "107  325.0  37.1  7.79   232.00 -0.878  301.5   385.000   2.00  9.460000e-09\n",
      "139  290.0  27.8  6.90   224.00 -0.738  468.0  1000.000   2.00  1.110000e-09\n",
      "83   330.0  54.0  7.55   224.00 -0.856  468.0  1000.000   2.00  5.830000e-08\n",
      "151  338.0  65.9  6.05     0.97 -0.730  255.0     0.000   0.00  4.863585e-09\n",
      "108  325.0  38.4  7.79   232.00 -0.878  301.5   385.000   2.00  5.160000e-09\n",
      "137  331.1  23.0  7.50   223.00 -0.862  273.8  1200.000   2.00  2.000000e-09\n",
      "3    316.0  20.9  7.28   226.00 -0.810  334.0  1000.000   2.00  1.250000e-08\n",
      "159  320.0  32.0  7.70   260.00 -0.863  324.0   450.000   2.25  5.600000e-09\n",
      "29   330.0  13.6  8.15  1116.00 -0.928  389.0  1200.000  10.00  1.900000e-08\n",
      "89   310.0  14.3  7.18   227.00 -0.793  394.0  1000.000   2.00  3.300000e-09\n",
      "43   330.0  45.0  8.41   295.00 -0.960  389.0     0.000   2.20  6.430000e-08\n",
      "82   330.0  42.2  7.55   224.00 -0.856  468.0  1000.000   2.00  5.810000e-08\n",
      "22   330.0  64.2  6.21    12.00 -0.693  389.0  1200.000   0.10  5.150000e-08\n",
      "86   330.0  36.1  7.55   224.00 -0.856  468.0  1000.000   2.00  5.000000e-08\n",
      "74   329.7  21.4  7.51   246.00 -0.848  297.2  1200.000   2.20  1.700000e-08\n",
      "77   329.7  27.1  7.51   246.00 -0.848  329.0  1200.000   2.20  2.000000e-08\n",
      "106  325.0  31.7  7.79   232.00 -0.878  301.5   385.000   2.00  4.440000e-09\n",
      "\n",
      "[163 rows x 9 columns]\n"
     ]
    }
   ],
   "source": [
    "\n",
    "# Load data set and target values\n",
    "start = timeit.default_timer()\n",
    "save_path = '/home/peng/git/Machine_learning_for_reliability_analysis/Kernel/Results/Alloy600/'\n",
    "\n",
    "data_path = '/home/peng/git/Machine_learning_for_reliability_analysis/Data/'\n",
    "\n",
    "result_name = 'j1_rbf_origin_train_v1.csv'\n",
    "\n",
    "####### Read the source data######################\n",
    "df =pd.read_csv(data_path + 'alloy600_data.csv', header=0)\n",
    "\n",
    "\n",
    "p= Preprocessdata.standardprocess()\n",
    "\n",
    "\n",
    "\n",
    "seed = 'rbf'\n",
    "rad_stat = 2\n",
    "df = df.sample(frac = 1.0)\n",
    "\n",
    "#train, trainlabel, test, testlabel = p.scaledivd(df, 0.8)\n",
    "#print (np.shape(train))\n",
    "print (df)"
   ]
  },
  {
   "cell_type": "code",
   "execution_count": 3,
   "metadata": {
    "collapsed": false
   },
   "outputs": [
    {
     "name": "stdout",
     "output_type": "stream",
     "text": [
      "(49, 8)\n"
     ]
    }
   ],
   "source": [
    "#### scale the training dataset first and then apply the rules to test set \n",
    "train, trainlabel, test, testlabel = p.scaledivd(df, 0.7)\n",
    "print (np.shape(test))\n"
   ]
  },
  {
   "cell_type": "code",
   "execution_count": 5,
   "metadata": {
    "collapsed": false
   },
   "outputs": [
    {
     "name": "stdout",
     "output_type": "stream",
     "text": [
      "\u001b[31mInitialization\u001b[0m\n",
      "\u001b[94m---------------------------------------------------------\u001b[0m\n",
      " Step |   Time |      Value |   C_range |   gamma_range | \n",
      "    1 | 00m00s | \u001b[35m   0.30823\u001b[0m | \u001b[32m 945.6355\u001b[0m | \u001b[32m       0.8549\u001b[0m | \n",
      "    2 | 00m00s |    0.26139 |  136.6537 |        1.8359 | \n",
      "    3 | 00m00s | \u001b[35m   0.61586\u001b[0m | \u001b[32m 120.4673\u001b[0m | \u001b[32m       0.4105\u001b[0m | \n",
      "    4 | 00m00s |    0.02868 |  825.3192 |        1.1722 | \n",
      "    5 | 00m00s |   -0.25693 |  907.0193 |        1.4840 | \n",
      "\u001b[31mBayesian Optimization\u001b[0m\n",
      "\u001b[94m---------------------------------------------------------\u001b[0m\n",
      " Step |   Time |      Value |   C_range |   gamma_range | \n",
      "    6 | 00m04s | \u001b[35m   0.62126\u001b[0m | \u001b[32m 385.3026\u001b[0m | \u001b[32m       0.2639\u001b[0m | \n",
      "    7 | 00m01s | \u001b[35m   0.80230\u001b[0m | \u001b[32m 181.0274\u001b[0m | \u001b[32m       0.1000\u001b[0m | \n",
      "    8 | 00m02s |    0.42450 |    1.0000 |        0.1000 | \n",
      "    9 | 00m01s | \u001b[35m   0.81343\u001b[0m | \u001b[32m 247.2944\u001b[0m | \u001b[32m       0.1000\u001b[0m | \n",
      "   10 | 00m02s | \u001b[35m   0.82482\u001b[0m | \u001b[32m 876.6325\u001b[0m | \u001b[32m       0.1000\u001b[0m | \n",
      "   11 | 00m02s |    0.82192 | 1000.0000 |        0.1000 | \n",
      "   12 | 00m03s |    0.59472 |  935.1896 |        0.2377 | \n",
      "   13 | 00m02s | \u001b[35m   0.82565\u001b[0m | \u001b[32m 678.1720\u001b[0m | \u001b[32m       0.1000\u001b[0m | \n",
      "   14 | 00m02s |    0.82540 |  763.2131 |        0.1000 | \n",
      "   15 | 00m02s |    0.69684 |    1.0000 |        0.9714 | \n",
      "   16 | 00m02s |    0.47861 |  249.0637 |        0.8472 | \n",
      "   17 | 00m01s |    0.66613 |    1.0000 |        1.2758 | \n",
      "   18 | 00m01s |    0.82417 |  533.3859 |        0.1000 | \n",
      "   19 | 00m01s |    0.82559 |  598.1528 |        0.1000 | \n",
      "   20 | 00m02s |    0.82326 |  942.6794 |        0.1000 | \n",
      "   21 | 00m01s |    0.82269 |  410.7909 |        0.1000 | \n",
      "   22 | 00m01s |    0.68065 |    1.0000 |        0.7028 | \n",
      "   23 | 00m01s |    0.82549 |  818.1589 |        0.1000 | \n",
      "   24 | 00m01s |    0.82431 |  461.9257 |        0.1000 | \n",
      "   25 | 00m01s |    0.82561 |  638.6764 |        0.1000 | \n",
      "   26 | 00m01s |    0.37346 |  233.8683 |        1.2607 | \n",
      "   27 | 00m01s |    0.82521 |  717.4710 |        0.1000 | \n",
      "   28 | 00m01s |    0.74701 |  657.5849 |        0.1658 | \n",
      "   29 | 00m01s |    0.81825 |  331.0990 |        0.1000 | \n",
      "   30 | 00m01s |    0.82068 |  224.4005 |        0.1661 | \n",
      "Final Results\n",
      "RF: 0.825653\n"
     ]
    }
   ],
   "source": [
    "# use Bayesian to optimize the parameters\n",
    "def rfccv(C_range, gamma_range, eps_range=0.0001):\n",
    "    return cross_val_score(SVR(C=C_range, gamma = gamma_range, epsilon = eps_range),\n",
    "                           train, trainlabel, 'r2', cv=10, n_jobs = -1).mean()\n",
    "\n",
    "rfcBO = BayesianOptimization(rfccv, {'C_range': (1, 1000),                                         \n",
    "                                         'gamma_range': (0.1, 2)})\n",
    "rfcBO.maximize()\n",
    "\n",
    "print('Final Results')\n",
    "print('RF: %f' % rfcBO.res['max']['max_val'])"
   ]
  },
  {
   "cell_type": "code",
   "execution_count": 15,
   "metadata": {
    "collapsed": false
   },
   "outputs": [
    {
     "name": "stdout",
     "output_type": "stream",
     "text": [
      "use the latest records\n",
      "678 0.1\n"
     ]
    }
   ],
   "source": [
    "# get the best parameters for plotting r2 on training and test\n",
    "if (1): ### True use the above best parameters, false use the recored best set\n",
    "    C_best = np.int(rfcBO.res['max']['max_params']['C_range'])\n",
    "    gamma_best= np.float(rfcBO.res['max']['max_params']['gamma_range'])\n",
    "    print ('use the latest records')\n",
    "\n",
    "else:\n",
    "    C_best = 507.439\n",
    "    gamma_best = 0.244 \n",
    "    print ('use the historical records')\n",
    "\n",
    "\n",
    "#bestmodel= RFC(n_estimators = tree_best, max_features = feature_best).fit(train,trainlabel)\n",
    "\n",
    "print (C_best, gamma_best)"
   ]
  },
  {
   "cell_type": "code",
   "execution_count": 25,
   "metadata": {
    "collapsed": false
   },
   "outputs": [
    {
     "name": "stdout",
     "output_type": "stream",
     "text": [
      "0.307108151027\n",
      "1 cycle finished, 10 left\n",
      "0.341770921227\n",
      "2 cycle finished, 9 left\n",
      "0.297269213604\n",
      "3 cycle finished, 8 left\n",
      "0.195440902915\n",
      "4 cycle finished, 7 left\n",
      "0.0873116373676\n",
      "5 cycle finished, 6 left\n",
      "-0.44022627188\n",
      "6 cycle finished, 5 left\n",
      "-1.56172420988\n",
      "7 cycle finished, 4 left\n",
      "-4.94276702804\n",
      "8 cycle finished, 3 left\n",
      "-11.808720492\n",
      "9 cycle finished, 2 left\n",
      "-40.1825276936\n",
      "10 cycle finished, 1 left\n",
      "-287.668468905\n",
      "11 cycle finished, 0 left\n"
     ]
    }
   ],
   "source": [
    "# use the new features to train\n",
    "\n",
    "ff = mysvc.training_manCV()\n",
    "\n",
    "df = ff.train_regress(train, trainlabel, 'rbf', Cmin=0, Cmax=20, numC=11, rmin=-10, rmax=10, numr=11, degree = 3,\n",
    "                rad_stat = rad_stat, method= 'r2')\n",
    "\n",
    "df.to_csv(save_path + result_name , header = True)\n"
   ]
  },
  {
   "cell_type": "code",
   "execution_count": 27,
   "metadata": {
    "collapsed": false
   },
   "outputs": [
    {
     "name": "stdout",
     "output_type": "stream",
     "text": [
      "['16384.0']\n",
      "[2]\n",
      "0.839807351407 0.839807351407\n"
     ]
    }
   ],
   "source": [
    "#load the results from the saved file\n",
    "\n",
    "df =pd.read_csv(save_path + result_name, header = 0)\n",
    "df_new = df.drop('gamma_range',1)\n",
    "df_new = df_new.drop('Unnamed: 0',1)\n",
    "\n",
    "list_c = df_new.columns.values.tolist()\n",
    "idx_C, idx_gamma = [],[]\n",
    "for i in list_c:\n",
    "    for j in xrange(0,11):\n",
    "        if df[i][j]== (df_new.values.max()):\n",
    "            \n",
    "            idx_C.append(i)\n",
    "            idx_gamma.append(j)\n",
    "        else:\n",
    "            pass\n",
    "print (idx_C)\n",
    "print (idx_gamma)    \n",
    "# if only got unique maximum value, then check \n",
    "\n",
    "C_best = idx_C[0]\n",
    "gamma_best = idx_gamma[0]\n",
    "\n",
    "print (df[C_best][gamma_best], df_new.values.max())\n",
    "C_best = np.float(C_best)\n",
    "gamma_best = np.float(gamma_best)\n"
   ]
  },
  {
   "cell_type": "code",
   "execution_count": 13,
   "metadata": {
    "collapsed": true
   },
   "outputs": [],
   "source": [
    "C_best = 507.439\n",
    "gamma_best = 0.244 "
   ]
  },
  {
   "cell_type": "code",
   "execution_count": 28,
   "metadata": {
    "collapsed": false
   },
   "outputs": [
    {
     "name": "stdout",
     "output_type": "stream",
     "text": [
      "-1.92719358837\n",
      "MAE :  0.0\n",
      "MSE :  0.0\n",
      "R2 :  -0.192719358837\n"
     ]
    }
   ],
   "source": [
    "#use the best parameters to plot cv auc on the training set\n",
    "from sklearn.metrics import mean_absolute_error, mean_squared_error, r2_score\n",
    "from sklearn.cross_validation import StratifiedKFold\n",
    "\n",
    "\n",
    "figsize(10,8)\n",
    "#cv = StratifiedKFold(trainlabel, n_folds=10)\n",
    "bestmodel= SVR(kernel=seed, C= C_best, gamma= gamma_best, epsilon=0.0001).fit(train, trainlabel)\n",
    "#bestmodel_training= SVR(kernel=seed, C= C_best, gamma= gamma_best, epsilon=0.0001)\n",
    "mean_mae = 0.0\n",
    "mean_mse = 0.0\n",
    "mean_r2 = 0.0\n",
    "\n",
    "outputtest= bestmodel.predict(test)\n",
    "mean_r2 = r2_score(testlabel, outputtest)\n",
    "print (mean_r2)\n",
    "\n",
    "for i, (training, testing) in enumerate(cv):\n",
    "    \n",
    "    #outputtest= bestmodel_training.fit(train[training], trainlabel[training]).predict(train[testing])\n",
    "    #mean_mae = mean_mae +  mean_absolute_error(trainlabel[training], outputtest)\n",
    "    #mean_mse = mean_mse +  mean_squared_error(trainlabel[training], outputtest)\n",
    "    #mean_r2 = mean_r2 +  r2_score(trainlabel[training], outputtest)\n",
    "    # Compute ROC curve and area the curve\n",
    "    #int (np.shape(train[training]))\n",
    "    #rint (np.shape(trainlabel[training]))\n",
    "    pass\n",
    "\n",
    "print ('MAE : ', mean_mae/10 )    \n",
    "print ('MSE : ', mean_mse/10 ) \n",
    "print ('R2 : ', mean_r2/10 ) "
   ]
  },
  {
   "cell_type": "code",
   "execution_count": 24,
   "metadata": {
    "collapsed": false
   },
   "outputs": [
    {
     "name": "stdout",
     "output_type": "stream",
     "text": [
      "This is for test set**************************************\n",
      "The MAE for the test set is 0.030549561304966468\n",
      "The MSE for the test set is 0.0091371900722992724\n",
      "The R2 for the test set is -0.49066745746836893\n"
     ]
    }
   ],
   "source": [
    "#predict the test set\n",
    "\n",
    "tt=mysvc.test()\n",
    "result, socres = tt.test_regression(test, testlabel,bestmodel_training)"
   ]
  },
  {
   "cell_type": "code",
   "execution_count": null,
   "metadata": {
    "collapsed": false
   },
   "outputs": [],
   "source": [
    "#plot the confusion matrix on test set\n",
    "\n",
    "from sklearn.metrics.classification import accuracy_score, confusion_matrix, classification_report\n",
    "print (confusion_matrix(result, testlabel))\n",
    "pp = Superplot.fancy()\n",
    "pp.plot_confusion_matrix(confusion_matrix(result, testlabel))"
   ]
  },
  {
   "cell_type": "code",
   "execution_count": null,
   "metadata": {
    "collapsed": false
   },
   "outputs": [],
   "source": [
    "#plot the auc on test set\n",
    "from sklearn.metrics import roc_curve, auc\n",
    "\n",
    "y_score = bestmodel_training.predict_proba(test)\n",
    "#print (y_score)\n",
    "\n",
    "mean_tpr = 0.0\n",
    "mean_fpr = np.linspace(0, 1, 100)\n",
    "all_tpr = []"
   ]
  },
  {
   "cell_type": "code",
   "execution_count": null,
   "metadata": {
    "collapsed": false
   },
   "outputs": [],
   "source": [
    "#plot the auc on test set\n",
    "fpr, tpr, thresholds = roc_curve(testlabel, y_score[:, 1])\n",
    "roc_auc = auc(fpr, tpr)\n",
    "\n",
    "figsize(10,8)\n",
    "\n",
    "plt.plot(fpr, tpr, lw=1.5, label='(area= %0.2f)' % ( roc_auc))\n",
    "plt.plot([0, 1], [0, 1], '--', color=(0.6, 0.6, 0.6))\n",
    "#plt.xlim([-0.05, 1.05])\n",
    "#plt.ylim([-0.05, 1.05])\n",
    "\n",
    "plt.xlim([0, 1])\n",
    "plt.ylim([0, 1])\n",
    "\n",
    "plt.xlabel('False Positive Rate',fontsize = 24)\n",
    "plt.ylabel('True Positive Rate',fontsize = 24)\n",
    "plt.xticks(fontsize = 20) \n",
    "\n",
    "plt.yticks(fontsize = 20) \n",
    "\n",
    "#plt.title('Receiver operating characteristic example')\n",
    "plt.legend(loc=\"lower right\",fontsize = 20)\n",
    "sec = np.arange(0.0, 1.0, 0.05)\n",
    "plt.fill_between(fpr, 0, tpr, color=\"#348ABD\", alpha=0.3)\n",
    "plt.show()"
   ]
  },
  {
   "cell_type": "code",
   "execution_count": null,
   "metadata": {
    "collapsed": false
   },
   "outputs": [],
   "source": [
    "df_score = pd.DataFrame({'y_origin': y_score[:,1]})\n",
    "print (df_score)"
   ]
  },
  {
   "cell_type": "code",
   "execution_count": null,
   "metadata": {
    "collapsed": true
   },
   "outputs": [],
   "source": [
    "df_score.to_csv(save_path +'y_score_comp.csv', header = True)"
   ]
  },
  {
   "cell_type": "code",
   "execution_count": null,
   "metadata": {
    "collapsed": false
   },
   "outputs": [],
   "source": [
    "#plot the grid search\n",
    "\n",
    "\n",
    "df = pd.read_csv(save_path+'j1_rbf_tree_train_auc_1.csv', header = 0)\n",
    "\n",
    "scores=np.array(df)\n",
    "scores=scores[:, 2:].T\n",
    "#    print scores\n",
    "#scores= scores[:,5:]\n",
    "print (np.shape(scores))\n",
    "\n",
    "#    print np.arange(100,2010,20)\n",
    "\n",
    "figsize(8,6.5)\n",
    "fig, ax = plt.subplots(1,1)\n",
    "cax = ax.imshow(scores, interpolation='none', origin='highest',\n",
    "                cmap=plt.cm.coolwarm, aspect=1)\n",
    "\n",
    "plt.grid(b=False, which='x', color='white',linestyle='-')\n",
    "\n",
    "\n",
    "\n",
    "\n",
    "plt.xticks(np.arange(-0.5,21.5,5), (-10,-5,0,5,10),fontsize = 20)\n",
    "plt.yticks(np.arange(-0.5,23.5,5), (-10,-5,0,5,10),fontsize = 20)\n",
    "\n",
    "#plt.yticks(np.arange(0,11,1), np.arange(1,12,1), fontsize = 20)\n",
    "\n",
    "plt.ylabel('$log_2 C$',fontsize = 24)\n",
    "plt.xlabel('$log_2 \\gamma$', fontsize = 24)\n",
    "\n",
    "ax.get_xaxis().set_minor_locator(mpl.ticker.AutoMinorLocator())\n",
    "ax.get_yaxis().set_minor_locator(mpl.ticker.AutoMinorLocator())\n",
    "ax.grid(b=True, which='major', color='w', linewidth=0.5)\n",
    "ax.grid(b=True, which='minor', color='w', linewidth=0.5)\n",
    "\n",
    "\n",
    "cb = fig.colorbar(cax)\n",
    "cb.ax.tick_params(labelsize=14)\n",
    "\n",
    "\n",
    "plt.show()"
   ]
  },
  {
   "cell_type": "code",
   "execution_count": null,
   "metadata": {
    "collapsed": true
   },
   "outputs": [],
   "source": []
  }
 ],
 "metadata": {
  "kernelspec": {
   "display_name": "Python 2",
   "language": "python",
   "name": "python2"
  },
  "language_info": {
   "codemirror_mode": {
    "name": "ipython",
    "version": 2
   },
   "file_extension": ".py",
   "mimetype": "text/x-python",
   "name": "python",
   "nbconvert_exporter": "python",
   "pygments_lexer": "ipython2",
   "version": "2.7.11"
  }
 },
 "nbformat": 4,
 "nbformat_minor": 0
}
