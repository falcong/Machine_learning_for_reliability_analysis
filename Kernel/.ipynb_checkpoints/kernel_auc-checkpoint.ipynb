{
 "cells": [
  {
   "cell_type": "code",
   "execution_count": 71,
   "metadata": {
    "collapsed": false
   },
   "outputs": [],
   "source": [
    "import sys\n",
    "sys.path.append('/home/peng/git/Machine_learning_for_reliability_analysis/Preprocess')\n",
    "sys.path.append('/home/peng/git/Machine_learning_for_reliability_analysis/DAlgorithms')\n",
    "\n",
    "import Preprocessdata\n",
    "import MySVM as mysvc"
   ]
  },
  {
   "cell_type": "code",
   "execution_count": 72,
   "metadata": {
    "collapsed": false
   },
   "outputs": [],
   "source": [
    "from __future__ import print_function\n",
    "from __future__ import division\n",
    "\n",
    "import logging\n",
    "from sklearn.datasets import make_classification\n",
    "from sklearn.cross_validation import cross_val_score\n",
    "from sklearn.ensemble import RandomForestClassifier as RFC\n",
    "from sklearn.svm import SVC\n",
    "\n",
    "from bayes_opt import BayesianOptimization\n",
    "from pandas.core.frame import DataFrame\n",
    "import numpy as np\n",
    "import pandas as pd\n",
    "import matplotlib as mpl\n",
    "import matplotlib.pyplot as plt\n",
    "\n",
    "from sklearn.metrics.classification import accuracy_score, confusion_matrix, classification_report\n",
    "from scipy.interpolate import spline\n",
    "from sklearn import metrics\n",
    "from sklearn.metrics import accuracy_score\n",
    "from scipy import stats\n",
    "from sklearn.gaussian_process import GaussianProcess\n",
    "import timeit\n",
    "from mpl_toolkits.mplot3d import Axes3D\n",
    "import seaborn as sns\n",
    "from IPython.core.pylabtools import figsize\n",
    "from scipy.interpolate import spline\n",
    "from sklearn.svm import SVC\n",
    "from sklearn.cross_validation import cross_val_score\n",
    "from sklearn.cross_validation import StratifiedShuffleSplit\n",
    "from sklearn.grid_search import GridSearchCV\n",
    "import re\n",
    "from astropy.io.fits.header import Header\n",
    "from matplotlib.pyplot import xlim\n",
    "from sklearn import svm"
   ]
  },
  {
   "cell_type": "code",
   "execution_count": 73,
   "metadata": {
    "collapsed": false
   },
   "outputs": [
    {
     "name": "stdout",
     "output_type": "stream",
     "text": [
      "*************************************change*\n"
     ]
    }
   ],
   "source": [
    "\n",
    "# Load data set and target values\n",
    "start = timeit.default_timer()\n",
    "\n",
    "####### Read the source data######################\n",
    "df =pd.read_csv('Source_Data.csv', header=0)\n",
    "\n",
    "\n",
    "p= Preprocessdata.standardprocess()\n",
    "\n",
    "save_path = '/home/peng/git/Machine_learning_for_reliability_analysis/Kernel/Results/'\n",
    "result_name = 'poly3_auc_10CV_80_n10_p10_21.csv'\n",
    "\n",
    "#train, trainlabel, test, testlabel = p.scaledivd(df, 0.8)\n",
    "#print (np.shape(train))"
   ]
  },
  {
   "cell_type": "code",
   "execution_count": 74,
   "metadata": {
    "collapsed": false
   },
   "outputs": [],
   "source": [
    "#### scale the training dataset first and then apply the rules to test set \n",
    "train, trainlabel, test, testlabel = p.sep_scale_divd(df, 0.8)\n",
    "#print (test[0:10])\n",
    "\n"
   ]
  },
  {
   "cell_type": "code",
   "execution_count": 75,
   "metadata": {
    "collapsed": false
   },
   "outputs": [],
   "source": [
    "#define the BO function\n",
    "seed = 'rbf'\n",
    "rad_stat = 2\n",
    "def svccv(C, gamma):\n",
    "    return cross_val_score(SVC(kernel = seed, C=C, gamma=gamma, random_state=rad_stat, probability=True),\n",
    "                           train, trainlabel, 'roc_auc', cv=10).mean()"
   ]
  },
  {
   "cell_type": "code",
   "execution_count": 76,
   "metadata": {
    "collapsed": false
   },
   "outputs": [
    {
     "name": "stdout",
     "output_type": "stream",
     "text": [
      "[0.0009765625, 0.001953125, 0.00390625, 0.0078125, 0.015625, 0.03125, 0.0625, 0.125, 0.25, 0.5, 1, 2, 4, 8, 16, 32, 64, 128, 256, 512, 1024]\n"
     ]
    }
   ],
   "source": [
    "# define the boundaries for parameters\n",
    "ex_range = []\n",
    "for i in np.arange(-10, 11, step =1):\n",
    "    ex_range.append(2**(i))\n",
    "print (ex_range)"
   ]
  },
  {
   "cell_type": "code",
   "execution_count": 77,
   "metadata": {
    "collapsed": false
   },
   "outputs": [
    {
     "name": "stdout",
     "output_type": "stream",
     "text": [
      "\u001b[31mInitialization\u001b[0m\n",
      "\u001b[94m-----------------------------------------------------\u001b[0m\n",
      " Step |   Time |      Value |         C |     gamma | \n",
      "    1 | 00m00s | \u001b[35m   0.78965\u001b[0m | \u001b[32m   0.0010\u001b[0m | \u001b[32m   0.0010\u001b[0m | \n",
      "    2 | 00m00s | \u001b[35m   0.79002\u001b[0m | \u001b[32m   0.0020\u001b[0m | \u001b[32m   0.0020\u001b[0m | \n",
      "    3 | 00m00s |    0.79002 |    0.0039 |    0.0039 | \n",
      "    4 | 00m00s |    0.79002 |    0.0078 |    0.0078 | \n",
      "    5 | 00m00s |    0.78651 |    0.0156 |    0.0156 | \n",
      "    6 | 00m00s |    0.78855 |    0.0312 |    0.0312 | \n",
      "    7 | 00m00s |    0.78651 |    0.0625 |    0.0625 | \n",
      "    8 | 00m00s | \u001b[35m   0.79059\u001b[0m | \u001b[32m   0.1250\u001b[0m | \u001b[32m   0.1250\u001b[0m | \n",
      "    9 | 00m00s | \u001b[35m   0.81378\u001b[0m | \u001b[32m   0.2500\u001b[0m | \u001b[32m   0.2500\u001b[0m | \n",
      "   10 | 00m00s |    0.80726 |    0.5000 |    0.5000 | \n",
      "   11 | 00m00s |    0.80261 |    1.0000 |    1.0000 | \n",
      "   12 | 00m00s | \u001b[35m   0.81780\u001b[0m | \u001b[32m   2.0000\u001b[0m | \u001b[32m   2.0000\u001b[0m | \n",
      "   13 | 00m00s | \u001b[35m   0.81944\u001b[0m | \u001b[32m   4.0000\u001b[0m | \u001b[32m   4.0000\u001b[0m | \n",
      "   14 | 00m00s | \u001b[35m   0.83316\u001b[0m | \u001b[32m   8.0000\u001b[0m | \u001b[32m   8.0000\u001b[0m | \n",
      "   15 | 00m00s |    0.75590 |   16.0000 |   16.0000 | \n",
      "   16 | 00m00s |    0.73180 |   32.0000 |   32.0000 | \n",
      "   17 | 00m00s |    0.73090 |   64.0000 |   64.0000 | \n",
      "   18 | 00m00s |    0.74331 |  128.0000 |  128.0000 | \n",
      "   19 | 00m00s |    0.73940 |  256.0000 |  256.0000 | \n",
      "   20 | 00m00s |    0.70522 |  512.0000 |  512.0000 | \n",
      "   21 | 00m00s |    0.65102 | 1024.0000 | 1024.0000 | \n",
      "   22 | 00m00s |    0.68030 |  287.3823 |  621.8340 | \n",
      "   23 | 00m00s |    0.68030 |  801.5202 |  644.5051 | \n",
      "   24 | 00m00s |    0.66176 |  864.3568 |  760.2219 | \n",
      "   25 | 00m00s |    0.68030 |  674.9011 |  616.4849 | \n",
      "   26 | 00m00s |    0.73699 |  267.5670 |  275.4387 | \n",
      "\u001b[31mBayesian Optimization\u001b[0m\n",
      "\u001b[94m-----------------------------------------------------\u001b[0m\n",
      " Step |   Time |      Value |         C |     gamma | \n",
      "   27 | 00m01s |    0.65760 |  847.9835 |  782.5899 | \n",
      "   28 | 00m00s |    0.74626 |  140.9942 |  192.2176 | \n",
      "   29 | 00m00s |    0.65760 |  414.7683 |  806.5071 | \n",
      "   30 | 00m00s |    0.72494 |  731.1343 |  459.3198 | \n",
      "   31 | 00m00s |    0.72494 |  980.5968 |  448.2569 | \n",
      "   32 | 00m00s |    0.65102 |  840.4220 |  945.5542 | \n",
      "   33 | 00m00s |    0.69002 |  904.3128 |  585.7550 | \n",
      "   34 | 00m00s |    0.74331 |   75.9213 |  105.0132 | \n",
      "   35 | 00m00s |    0.73090 |  102.2696 |   72.5760 | \n",
      "   36 | 00m00s |    0.73067 |  259.9752 |    3.8009 | \n",
      "   37 | 00m00s |    0.74422 |  897.4335 |  228.0981 | \n",
      "   38 | 00m00s |    0.72494 |  909.4571 |  462.1150 | \n",
      "   39 | 00m00s |    0.70142 |  794.7016 |   15.3999 | \n",
      "   40 | 00m00s |    0.69280 |    1.3575 |  568.3167 | \n",
      "   41 | 00m00s |    0.72837 |  378.4395 |  369.8766 | \n",
      "   42 | 00m00s |    0.65204 |  374.4940 |  817.6749 | \n",
      "   43 | 00m00s |    0.71791 |  825.2260 |   33.4209 | \n",
      "   44 | 00m00s |    0.81740 |  603.3498 |    0.2494 | \n",
      "   45 | 00m01s |    0.74331 |  562.4863 |  104.9517 | \n",
      "   46 | 00m01s |    0.74331 |  307.9957 |  127.9276 | \n",
      "   47 | 00m00s |    0.73163 |  114.2575 |   50.4522 | \n",
      "   48 | 00m00s |    0.82647 |  348.9472 |    0.2494 | \n",
      "   49 | 00m00s |    0.74904 |   12.8169 |  192.6055 | \n",
      "   50 | 00m00s |    0.72585 |  838.2803 |    4.0000 | \n",
      "   51 | 00m00s |    0.74405 |  781.7890 |   90.6163 | \n",
      "Final Results\n",
      "SVC: 0.833163\n"
     ]
    }
   ],
   "source": [
    "# run the BOand get the results\n",
    "svc_bayes = BayesianOptimization(svccv, {'C': (2**(-10), 2**10), 'gamma': (2**(-10), 2**10)})\n",
    "svc_bayes.explore({'C': ex_range, 'gamma': ex_range})\n",
    "svc_bayes.maximize(acq='ei')\n",
    "print('Final Results')\n",
    "print('SVC: %f' % svc_bayes.res['max']['max_val'])\n"
   ]
  },
  {
   "cell_type": "code",
   "execution_count": 78,
   "metadata": {
    "collapsed": false
   },
   "outputs": [
    {
     "name": "stdout",
     "output_type": "stream",
     "text": [
      "<type 'numpy.float64'>\n"
     ]
    }
   ],
   "source": [
    "print (type(svc_bayes.res['max']['max_params']['gamma']))"
   ]
  },
  {
   "cell_type": "code",
   "execution_count": 79,
   "metadata": {
    "collapsed": false
   },
   "outputs": [
    {
     "name": "stdout",
     "output_type": "stream",
     "text": [
      "use the latest records\n"
     ]
    }
   ],
   "source": [
    "# get the best parameters for plotting auc on training and test\n",
    "if (1): ### True use the above best parameters, false use the recored best set\n",
    "    C_best = np.float(svc_bayes.res['max']['max_params']['C'])\n",
    "    gamma_best= np.float(svc_bayes.res['max']['max_params']['gamma'])\n",
    "    print ('use the latest records')\n",
    "\n",
    "else:\n",
    "    C_best = 2.9456\n",
    "    gamma_best = 8.4192\n",
    "    print ('use the historical records')\n",
    "\n",
    "\n",
    "bestmodel= svm.SVC(kernel=seed, C = C_best, gamma= gamma_best, probability=True).fit(train,trainlabel)\n"
   ]
  },
  {
   "cell_type": "code",
   "execution_count": 80,
   "metadata": {
    "collapsed": false
   },
   "outputs": [],
   "source": [
    "#use the best parameters to plot cv auc on the training set\n",
    "from sklearn.metrics import roc_curve, auc\n",
    "from sklearn.cross_validation import StratifiedKFold\n",
    "from scipy import interp\n",
    "\n",
    "cv = StratifiedKFold(trainlabel, n_folds=10)\n",
    "\n",
    "bestmodel_training= svm.SVC(kernel=seed, C= C_best, gamma= gamma_best, probability=True, \n",
    "                            random_state = rad_stat)\n",
    "mean_tpr = 0.0\n",
    "mean_fpr = np.linspace(0, 1, 100)\n",
    "all_tpr = []\n",
    "\n",
    "for i, (training, testing) in enumerate(cv):\n",
    "    probas_ = bestmodel_training.fit(train[training], trainlabel[training]).predict_proba(train[testing])\n",
    "    # Compute ROC curve and area the curve\n",
    "    fpr, tpr, thresholds = roc_curve(trainlabel[testing], probas_[:, 1])\n",
    "    mean_tpr += interp(mean_fpr, fpr, tpr)\n",
    "    mean_tpr[0] = 0.0\n",
    "    roc_auc = auc(fpr, tpr)\n",
    "    plt.plot(fpr, tpr, lw=1.5, label='ROC fold %d (area = %0.2f)' % (i+1, roc_auc))\n",
    "\n",
    "plt.plot([0, 1], [0, 1], '--', color=(0.6, 0.6, 0.6))\n",
    "\n",
    "mean_tpr /= len(cv)\n",
    "mean_tpr[-1] = 1.0\n",
    "mean_auc = auc(mean_fpr, mean_tpr)\n",
    "plt.plot(mean_fpr, mean_tpr, 'k--', \n",
    "         label='Mean ROC (area = %0.2f)' % mean_auc, lw=2.5)\n",
    "\n",
    "plt.xlim([0, 1])\n",
    "plt.ylim([0, 1])\n",
    "plt.xlabel('False Positive Rate',fontsize = 24)\n",
    "plt.ylabel('True Positive Rate',fontsize = 24)\n",
    "plt.xticks(fontsize = 20) \n",
    "\n",
    "plt.yticks(fontsize = 20) \n",
    "\n",
    "#plt.title('Receiver operating characteristic example')\n",
    "plt.legend(loc=\"lower right\",fontsize = 14)\n",
    "\n",
    "plt.fill_between(mean_fpr, 0, mean_tpr, #color=\"#348ABD\", \n",
    "                 color=\"#66cdaa\", alpha=0.15)\n",
    "plt.show()"
   ]
  },
  {
   "cell_type": "code",
   "execution_count": 81,
   "metadata": {
    "collapsed": false
   },
   "outputs": [
    {
     "name": "stdout",
     "output_type": "stream",
     "text": [
      "This is for test set**************************************\n",
      "('The accuracy for the test set is 0.75', 'and the confusion matrix is')\n",
      "[[13  5]\n",
      " [ 3 11]]\n",
      "             precision    recall  f1-score   support\n",
      "\n",
      "        0.0       0.72      0.81      0.76        16\n",
      "        1.0       0.79      0.69      0.73        16\n",
      "\n",
      "avg / total       0.75      0.75      0.75        32\n",
      "\n"
     ]
    }
   ],
   "source": [
    "#predict the test set\n",
    "\n",
    "tt=mysvc.test()\n",
    "result = tt.test_classification(test, testlabel,bestmodel)"
   ]
  },
  {
   "cell_type": "code",
   "execution_count": 82,
   "metadata": {
    "collapsed": false
   },
   "outputs": [
    {
     "name": "stdout",
     "output_type": "stream",
     "text": [
      "[[13  5]\n",
      " [ 3 11]]\n",
      "*******************************************\n"
     ]
    }
   ],
   "source": [
    "#plot the confusion matrix on test set\n",
    "import Superplot\n",
    "from sklearn.metrics.classification import accuracy_score, confusion_matrix, classification_report\n",
    "print (confusion_matrix(result, testlabel))\n",
    "pp = Superplot.fancy()\n",
    "pp.plot_confusion_matrix(confusion_matrix(result, testlabel))"
   ]
  },
  {
   "cell_type": "code",
   "execution_count": 83,
   "metadata": {
    "collapsed": false
   },
   "outputs": [
    {
     "name": "stdout",
     "output_type": "stream",
     "text": [
      "[[ 0.7234735   0.2765265 ]\n",
      " [ 0.91208831  0.08791169]\n",
      " [ 0.23146161  0.76853839]\n",
      " [ 0.51976027  0.48023973]\n",
      " [ 0.23688751  0.76311249]\n",
      " [ 0.54222955  0.45777045]\n",
      " [ 0.17756601  0.82243399]\n",
      " [ 0.13083711  0.86916289]\n",
      " [ 0.17772734  0.82227266]\n",
      " [ 0.65283637  0.34716363]\n",
      " [ 0.44902734  0.55097266]\n",
      " [ 0.89961573  0.10038427]\n",
      " [ 0.86375607  0.13624393]\n",
      " [ 0.21448803  0.78551197]\n",
      " [ 0.13996112  0.86003888]\n",
      " [ 0.9299111   0.0700889 ]\n",
      " [ 0.43923519  0.56076481]\n",
      " [ 0.59580895  0.40419105]\n",
      " [ 0.87093674  0.12906326]\n",
      " [ 0.78850133  0.21149867]\n",
      " [ 0.43116332  0.56883668]\n",
      " [ 0.61961417  0.38038583]\n",
      " [ 0.08487316  0.91512684]\n",
      " [ 0.84927776  0.15072224]\n",
      " [ 0.54354796  0.45645204]\n",
      " [ 0.82079001  0.17920999]\n",
      " [ 0.40736799  0.59263201]\n",
      " [ 0.43116332  0.56883668]\n",
      " [ 0.79670722  0.20329278]\n",
      " [ 0.76677057  0.23322943]\n",
      " [ 0.64176452  0.35823548]\n",
      " [ 0.84521349  0.15478651]]\n"
     ]
    }
   ],
   "source": [
    "#plot the auc on test set\n",
    "from sklearn.metrics import roc_curve, auc\n",
    "\n",
    "y_score = bestmodel.predict_proba(test)\n",
    "print (y_score)\n",
    "\n",
    "mean_tpr = 0.0\n",
    "mean_fpr = np.linspace(0, 1, 100)\n",
    "all_tpr = []"
   ]
  },
  {
   "cell_type": "code",
   "execution_count": 84,
   "metadata": {
    "collapsed": false
   },
   "outputs": [],
   "source": [
    "#plot the auc on test set\n",
    "fpr, tpr, thresholds = roc_curve(testlabel, y_score[:, 1])\n",
    "roc_auc = auc(fpr, tpr)\n",
    "\n",
    "figsize(10,8)\n",
    "\n",
    "plt.plot(fpr, tpr, lw=1.5, label='(area= %0.2f)' % ( roc_auc))\n",
    "plt.plot([0, 1], [0, 1], '--', color=(0.6, 0.6, 0.6))\n",
    "#plt.xlim([-0.05, 1.05])\n",
    "#plt.ylim([-0.05, 1.05])\n",
    "\n",
    "plt.xlim([0, 1])\n",
    "plt.ylim([0, 1])\n",
    "\n",
    "plt.xlabel('False Positive Rate',fontsize = 24)\n",
    "plt.ylabel('True Positive Rate',fontsize = 24)\n",
    "plt.xticks(fontsize = 20) \n",
    "\n",
    "plt.yticks(fontsize = 20) \n",
    "\n",
    "#plt.title('Receiver operating characteristic example')\n",
    "plt.legend(loc=\"lower right\",fontsize = 20)\n",
    "sec = np.arange(0.0, 1.0, 0.05)\n",
    "plt.fill_between(fpr, 0, tpr, color=\"#348ABD\", alpha=0.3)\n",
    "plt.show()"
   ]
  },
  {
   "cell_type": "code",
   "execution_count": 85,
   "metadata": {
    "collapsed": true
   },
   "outputs": [],
   "source": [
    "log_name = save_path + 'log_save/' + seed + '_OB.log'\n",
    "logging.basicConfig(filename=log_name,level=logging.DEBUG)\n",
    "logging.info(\"Seed : \" + seed)\n",
    "logging.info(\"Time start : \" + str(start))\n",
    "#logging.info(\"Time end :\" + str(stop))\n",
    "logging.info(\"Parameter setting :\")\n",
    "logging.info(\"range \" + str(ex_range))\n",
    "logging.info(\"C = \" + str(svc_bayes.res['max']['max_params']['C']))\n",
    "logging.info(\"gamma = \" + str(svc_bayes.res['max']['max_params']['gamma']))"
   ]
  },
  {
   "cell_type": "code",
   "execution_count": 87,
   "metadata": {
    "collapsed": true
   },
   "outputs": [],
   "source": [
    "logging.shutdown()"
   ]
  },
  {
   "cell_type": "code",
   "execution_count": null,
   "metadata": {
    "collapsed": true
   },
   "outputs": [],
   "source": []
  }
 ],
 "metadata": {
  "kernelspec": {
   "display_name": "Python 2",
   "language": "python",
   "name": "python2"
  },
  "language_info": {
   "codemirror_mode": {
    "name": "ipython",
    "version": 2
   },
   "file_extension": ".py",
   "mimetype": "text/x-python",
   "name": "python",
   "nbconvert_exporter": "python",
   "pygments_lexer": "ipython2",
   "version": "2.7.11"
  }
 },
 "nbformat": 4,
 "nbformat_minor": 0
}
