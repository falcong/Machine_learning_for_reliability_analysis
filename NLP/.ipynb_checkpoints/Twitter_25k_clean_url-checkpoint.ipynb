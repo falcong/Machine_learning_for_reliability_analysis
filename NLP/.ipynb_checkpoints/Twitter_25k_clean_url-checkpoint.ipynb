{
 "cells": [
  {
   "cell_type": "code",
   "execution_count": 1,
   "metadata": {
    "collapsed": false
   },
   "outputs": [
    {
     "name": "stdout",
     "output_type": "stream",
     "text": [
      "               RowNo  favoriteCount    replyToSID            id    replyToUID  \\\n",
      "count  293628.000000  293628.000000  1.145800e+04  2.936280e+05  1.592400e+04   \n",
      "mean   146814.500000       0.546399  6.862996e+17  6.892160e+17  1.066534e+15   \n",
      "std     84763.246758      15.604278  1.955096e+16  1.674863e+16  2.745309e+16   \n",
      "min         1.000000       0.000000  2.431771e+09  6.606072e+17  2.426000e+03   \n",
      "25%     73407.750000       0.000000  6.722679e+17  6.752362e+17  3.096808e+07   \n",
      "50%    146814.500000       0.000000  6.861139e+17  6.885158e+17  2.070884e+08   \n",
      "75%    220221.250000       0.000000  7.000539e+17  7.038911e+17  7.673980e+08   \n",
      "max    293628.000000    3448.000000  7.189316e+17  7.189515e+17  7.179335e+17   \n",
      "\n",
      "        retweetCount      longitude       latitude           Week  \\\n",
      "count  293628.000000  293628.000000  293628.000000  293628.000000   \n",
      "mean        0.194838     144.969341     -37.848153      11.777296   \n",
      "std         8.171096       0.180977       0.150493       6.598972   \n",
      "min         0.000000     143.868546     -38.525200       1.000000   \n",
      "25%         0.000000     144.956000     -37.858841       6.000000   \n",
      "50%         0.000000     144.968363     -37.816700      12.000000   \n",
      "75%         0.000000     145.006638     -37.801702      18.000000   \n",
      "max      1798.000000     146.048741     -37.095406      23.000000   \n",
      "\n",
      "                Time  \n",
      "count  293628.000000  \n",
      "mean        9.147503  \n",
      "std         6.805837  \n",
      "min         0.000000  \n",
      "25%         4.000000  \n",
      "50%         8.000000  \n",
      "75%        12.000000  \n",
      "max        23.000000  \n"
     ]
    },
    {
     "name": "stderr",
     "output_type": "stream",
     "text": [
      "/home/peng/anaconda2/lib/python2.7/site-packages/IPython/core/interactiveshell.py:2723: DtypeWarning: Columns (2,6,13,14) have mixed types. Specify dtype option on import or set low_memory=False.\n",
      "  interactivity=interactivity, compiler=compiler, result=result)\n"
     ]
    }
   ],
   "source": [
    "import numpy as np\n",
    "import pandas as pd\n",
    "\n",
    "#1. import the data, find the corresponding column with texts\n",
    "data_path = '/home/peng/Documents/NLP/Twitter_datasets/'\n",
    "#data_name = 'Melbourne_Tweets.xlsx'\n",
    "\n",
    "#df = pd.read_excel(data_path + data_name, header = 0)\n",
    "#print df.describe()\n",
    "data_name = 'Melbourne_Tweets.csv'\n",
    "df = pd.read_csv(data_path + data_name, header = 0)\n",
    "print df.describe()\n"
   ]
  },
  {
   "cell_type": "code",
   "execution_count": 2,
   "metadata": {
    "collapsed": false
   },
   "outputs": [
    {
     "name": "stdout",
     "output_type": "stream",
     "text": [
      "['RowNo' 'text' 'favorited' 'favoriteCount' 'replyToSN' 'created'\n",
      " 'truncated' 'replyToSID' 'id' 'replyToUID' 'statusSource' 'screenName'\n",
      " 'retweetCount' 'isRetweet' 'retweeted' 'longitude' 'latitude' 'Week' 'Day'\n",
      " 'Time']\n"
     ]
    }
   ],
   "source": [
    "print df.columns.values"
   ]
  },
  {
   "cell_type": "code",
   "execution_count": 7,
   "metadata": {
    "collapsed": false
   },
   "outputs": [
    {
     "name": "stdout",
     "output_type": "stream",
     "text": [
      "Hard fought game, u16 state went down 5-2 @ Sandringham Baseball Club https://t.co/fe2fZ2Dfa0\n"
     ]
    }
   ],
   "source": [
    "print df['text'][3]\n"
   ]
  },
  {
   "cell_type": "code",
   "execution_count": 25,
   "metadata": {
    "collapsed": false
   },
   "outputs": [
    {
     "name": "stdout",
     "output_type": "stream",
     "text": [
      "Hard fought game, u16 state went down 5-2 @ Sandringham Baseball Club https://t.co/fe2fZ2Dfa0\n"
     ]
    }
   ],
   "source": [
    "import re\n",
    "text = re.sub(r'^https?:\\/\\/.*[\\r\\n]*', '', df['text'][3], flags=re.MULTILINE)\n",
    "print text"
   ]
  },
  {
   "cell_type": "code",
   "execution_count": 28,
   "metadata": {
    "collapsed": false
   },
   "outputs": [
    {
     "name": "stdout",
     "output_type": "stream",
     "text": [
      "293628\n"
     ]
    }
   ],
   "source": [
    "print len(df['text'])"
   ]
  },
  {
   "cell_type": "code",
   "execution_count": null,
   "metadata": {
    "collapsed": false
   },
   "outputs": [],
   "source": [
    "import re\n",
    "sLength = len(df['text'])\n",
    "df['clean_url'] = Series(np.random.randn(sLength), index=df.index)\n",
    "print 'i am here1'\n",
    "for i in np.arange(0, len(df['text'])):\n",
    "    URLless_string = re.sub(r'\\w+:\\/{2}[\\d\\w-]+(\\.[\\d\\w-]+)*(?:(?:\\/[^\\s/]*))*', '', df['text'][i])\n",
    "    \n",
    "    df['clean_url'][i] = URLless_string\n",
    "    if i%10 ==0 :\n",
    "        print 'already %d has finished in %d' %(i, sLength)\n",
    "\n",
    "\n",
    "print df['clean_url']"
   ]
  },
  {
   "cell_type": "code",
   "execution_count": null,
   "metadata": {
    "collapsed": true
   },
   "outputs": [],
   "source": []
  }
 ],
 "metadata": {
  "kernelspec": {
   "display_name": "Python 2",
   "language": "python",
   "name": "python2"
  },
  "language_info": {
   "codemirror_mode": {
    "name": "ipython",
    "version": 2
   },
   "file_extension": ".py",
   "mimetype": "text/x-python",
   "name": "python",
   "nbconvert_exporter": "python",
   "pygments_lexer": "ipython2",
   "version": "2.7.11"
  }
 },
 "nbformat": 4,
 "nbformat_minor": 0
}
