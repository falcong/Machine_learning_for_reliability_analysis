{
 "cells": [
  {
   "cell_type": "code",
   "execution_count": 32,
   "metadata": {
    "collapsed": false
   },
   "outputs": [
    {
     "name": "stdout",
     "output_type": "stream",
     "text": [
      "               RowNo  favoriteCount    replyToSID            id    replyToUID  \\\n",
      "count  293628.000000  293628.000000  1.145800e+04  2.936280e+05  1.592400e+04   \n",
      "mean   146814.500000       0.546399  6.862996e+17  6.892160e+17  1.066534e+15   \n",
      "std     84763.246758      15.604278  1.955096e+16  1.674863e+16  2.745309e+16   \n",
      "min         1.000000       0.000000  2.431771e+09  6.606072e+17  2.426000e+03   \n",
      "25%     73407.750000       0.000000  6.722679e+17  6.752362e+17  3.096808e+07   \n",
      "50%    146814.500000       0.000000  6.861139e+17  6.885158e+17  2.070884e+08   \n",
      "75%    220221.250000       0.000000  7.000539e+17  7.038911e+17  7.673980e+08   \n",
      "max    293628.000000    3448.000000  7.189316e+17  7.189515e+17  7.179335e+17   \n",
      "\n",
      "        retweetCount      longitude       latitude           Week  \\\n",
      "count  293628.000000  293628.000000  293628.000000  293628.000000   \n",
      "mean        0.194838     144.969341     -37.848153      11.777296   \n",
      "std         8.171096       0.180977       0.150493       6.598972   \n",
      "min         0.000000     143.868546     -38.525200       1.000000   \n",
      "25%         0.000000     144.956000     -37.858841       6.000000   \n",
      "50%         0.000000     144.968363     -37.816700      12.000000   \n",
      "75%         0.000000     145.006638     -37.801702      18.000000   \n",
      "max      1798.000000     146.048741     -37.095406      23.000000   \n",
      "\n",
      "                Time  \n",
      "count  293628.000000  \n",
      "mean        9.147503  \n",
      "std         6.805837  \n",
      "min         0.000000  \n",
      "25%         4.000000  \n",
      "50%         8.000000  \n",
      "75%        12.000000  \n",
      "max        23.000000  \n"
     ]
    }
   ],
   "source": [
    "import numpy as np\n",
    "import pandas as pd\n",
    "\n",
    "#1. import the data, find the corresponding column with texts\n",
    "data_path = '/home/peng/Documents/NLP/Twitter_datasets/'\n",
    "data_name = 'Melbourne_Tweets.xlsx'\n",
    "\n",
    "#df = pd.read_excel(data_path + data_name, header = 0)\n",
    "#print df.describe()\n",
    "#data_name = 'clean_url_twitter_29K.csv'\n",
    "df = pd.read_excel(data_path + data_name, header = 0)\n",
    "print df.describe()\n",
    "#df.to_csv(data_path+'try_csv.csv', header = True)"
   ]
  },
  {
   "cell_type": "code",
   "execution_count": 30,
   "metadata": {
    "collapsed": false
   },
   "outputs": [
    {
     "name": "stdout",
     "output_type": "stream",
     "text": [
      "[u'RowNo' u'text' u'favorited' u'favoriteCount' u'replyToSN' u'created'\n",
      " u'truncated' u'replyToSID' u'id' u'replyToUID' u'statusSource'\n",
      " u'screenName' u'retweetCount' u'isRetweet' u'retweeted' u'longitude'\n",
      " u'latitude' u'Week' u'Day' u'Time']\n"
     ]
    }
   ],
   "source": [
    "print df.columns.values"
   ]
  },
  {
   "cell_type": "code",
   "execution_count": 44,
   "metadata": {
    "collapsed": false
   },
   "outputs": [
    {
     "name": "stdout",
     "output_type": "stream",
     "text": [
      "<type 'unicode'>\n"
     ]
    }
   ],
   "source": [
    "# copy text to string_text with string_type\n",
    "\n",
    "#df['text_string'] = df['text_string'].astype(str)\n",
    "print type(df['text'][53511])"
   ]
  },
  {
   "cell_type": "code",
   "execution_count": 71,
   "metadata": {
    "collapsed": false
   },
   "outputs": [
    {
     "name": "stdout",
     "output_type": "stream",
     "text": [
      "already 0 has finished in 293628\n",
      "already 1000 has finished in 293628\n",
      "already 2000 has finished in 293628\n",
      "already 3000 has finished in 293628\n",
      "already 4000 has finished in 293628\n",
      "already 5000 has finished in 293628\n",
      "already 6000 has finished in 293628\n",
      "already 7000 has finished in 293628\n",
      "already 8000 has finished in 293628\n",
      "already 9000 has finished in 293628\n",
      "already 10000 has finished in 293628\n",
      "already 11000 has finished in 293628\n",
      "already 12000 has finished in 293628\n",
      "already 13000 has finished in 293628\n",
      "already 14000 has finished in 293628\n",
      "already 15000 has finished in 293628\n",
      "already 16000 has finished in 293628\n",
      "already 17000 has finished in 293628\n",
      "already 18000 has finished in 293628\n",
      "already 19000 has finished in 293628\n",
      "already 20000 has finished in 293628\n",
      "already 21000 has finished in 293628\n",
      "already 22000 has finished in 293628\n",
      "already 23000 has finished in 293628\n",
      "already 24000 has finished in 293628\n",
      "already 25000 has finished in 293628\n",
      "already 26000 has finished in 293628\n",
      "already 27000 has finished in 293628\n",
      "already 28000 has finished in 293628\n",
      "already 29000 has finished in 293628\n",
      "already 30000 has finished in 293628\n",
      "already 31000 has finished in 293628\n",
      "already 32000 has finished in 293628\n",
      "already 33000 has finished in 293628\n",
      "already 34000 has finished in 293628\n",
      "already 35000 has finished in 293628\n",
      "already 36000 has finished in 293628\n",
      "already 37000 has finished in 293628\n",
      "already 38000 has finished in 293628\n",
      "already 39000 has finished in 293628\n",
      "already 40000 has finished in 293628\n",
      "already 41000 has finished in 293628\n",
      "already 42000 has finished in 293628\n",
      "already 43000 has finished in 293628\n",
      "already 44000 has finished in 293628\n",
      "already 45000 has finished in 293628\n",
      "already 46000 has finished in 293628\n",
      "already 47000 has finished in 293628\n",
      "already 48000 has finished in 293628\n",
      "already 49000 has finished in 293628\n",
      "already 50000 has finished in 293628\n",
      "already 51000 has finished in 293628\n",
      "already 52000 has finished in 293628\n",
      "already 53000 has finished in 293628\n",
      "already 54000 has finished in 293628\n",
      "already 55000 has finished in 293628\n",
      "already 56000 has finished in 293628\n",
      "already 57000 has finished in 293628\n",
      "already 58000 has finished in 293628\n",
      "already 59000 has finished in 293628\n",
      "already 60000 has finished in 293628\n",
      "already 61000 has finished in 293628\n",
      "already 62000 has finished in 293628\n",
      "already 63000 has finished in 293628\n",
      "already 64000 has finished in 293628\n",
      "already 65000 has finished in 293628\n",
      "already 66000 has finished in 293628\n",
      "already 67000 has finished in 293628\n",
      "already 68000 has finished in 293628\n",
      "already 69000 has finished in 293628\n",
      "already 70000 has finished in 293628\n",
      "already 71000 has finished in 293628\n",
      "already 72000 has finished in 293628\n",
      "already 73000 has finished in 293628\n",
      "already 74000 has finished in 293628\n",
      "already 75000 has finished in 293628\n",
      "already 76000 has finished in 293628\n",
      "already 77000 has finished in 293628\n",
      "already 78000 has finished in 293628\n",
      "already 79000 has finished in 293628\n",
      "already 80000 has finished in 293628\n",
      "already 81000 has finished in 293628\n",
      "already 82000 has finished in 293628\n",
      "already 83000 has finished in 293628\n",
      "already 84000 has finished in 293628\n",
      "already 85000 has finished in 293628\n",
      "already 86000 has finished in 293628\n",
      "already 87000 has finished in 293628\n",
      "already 88000 has finished in 293628\n",
      "already 89000 has finished in 293628\n",
      "already 90000 has finished in 293628\n",
      "already 91000 has finished in 293628\n",
      "already 92000 has finished in 293628\n",
      "already 93000 has finished in 293628\n",
      "already 94000 has finished in 293628\n",
      "already 95000 has finished in 293628\n",
      "already 96000 has finished in 293628\n",
      "already 97000 has finished in 293628\n",
      "already 98000 has finished in 293628\n",
      "already 99000 has finished in 293628\n",
      "already 100000 has finished in 293628\n",
      "already 101000 has finished in 293628\n",
      "already 102000 has finished in 293628\n",
      "already 103000 has finished in 293628\n",
      "already 104000 has finished in 293628\n",
      "already 105000 has finished in 293628\n",
      "already 106000 has finished in 293628\n",
      "already 107000 has finished in 293628\n",
      "already 108000 has finished in 293628\n",
      "already 109000 has finished in 293628\n",
      "already 110000 has finished in 293628\n",
      "already 111000 has finished in 293628\n",
      "already 112000 has finished in 293628\n",
      "already 113000 has finished in 293628\n",
      "already 114000 has finished in 293628\n",
      "already 115000 has finished in 293628\n",
      "already 116000 has finished in 293628\n",
      "already 117000 has finished in 293628\n",
      "already 118000 has finished in 293628\n",
      "already 119000 has finished in 293628\n",
      "already 120000 has finished in 293628\n",
      "already 121000 has finished in 293628\n",
      "already 122000 has finished in 293628\n",
      "already 123000 has finished in 293628\n",
      "already 124000 has finished in 293628\n",
      "already 125000 has finished in 293628\n",
      "already 126000 has finished in 293628\n",
      "already 127000 has finished in 293628\n",
      "already 128000 has finished in 293628\n",
      "already 129000 has finished in 293628\n",
      "already 130000 has finished in 293628\n",
      "already 131000 has finished in 293628\n",
      "already 132000 has finished in 293628\n",
      "already 133000 has finished in 293628\n",
      "already 134000 has finished in 293628\n",
      "already 135000 has finished in 293628\n",
      "already 136000 has finished in 293628\n",
      "already 137000 has finished in 293628\n",
      "already 138000 has finished in 293628\n",
      "already 139000 has finished in 293628\n",
      "already 140000 has finished in 293628\n",
      "already 141000 has finished in 293628\n",
      "already 142000 has finished in 293628\n",
      "already 143000 has finished in 293628\n",
      "already 144000 has finished in 293628\n",
      "already 145000 has finished in 293628\n",
      "already 146000 has finished in 293628\n",
      "already 147000 has finished in 293628\n",
      "already 148000 has finished in 293628\n",
      "already 149000 has finished in 293628\n",
      "already 150000 has finished in 293628\n",
      "already 151000 has finished in 293628\n",
      "already 152000 has finished in 293628\n",
      "already 153000 has finished in 293628\n",
      "already 154000 has finished in 293628\n",
      "already 155000 has finished in 293628\n",
      "already 156000 has finished in 293628\n",
      "already 157000 has finished in 293628\n",
      "already 158000 has finished in 293628\n",
      "already 159000 has finished in 293628\n",
      "already 160000 has finished in 293628\n",
      "already 161000 has finished in 293628\n",
      "already 162000 has finished in 293628\n",
      "already 163000 has finished in 293628\n",
      "already 164000 has finished in 293628\n",
      "already 165000 has finished in 293628\n",
      "already 166000 has finished in 293628\n",
      "already 167000 has finished in 293628\n",
      "already 168000 has finished in 293628\n",
      "already 169000 has finished in 293628\n",
      "already 170000 has finished in 293628\n",
      "already 171000 has finished in 293628\n",
      "already 172000 has finished in 293628\n",
      "already 173000 has finished in 293628\n",
      "already 174000 has finished in 293628\n",
      "already 175000 has finished in 293628\n",
      "already 176000 has finished in 293628\n",
      "already 177000 has finished in 293628\n",
      "already 178000 has finished in 293628\n",
      "already 179000 has finished in 293628\n",
      "already 180000 has finished in 293628\n",
      "already 181000 has finished in 293628\n",
      "already 182000 has finished in 293628\n",
      "already 183000 has finished in 293628\n",
      "already 184000 has finished in 293628\n",
      "already 185000 has finished in 293628\n",
      "already 186000 has finished in 293628\n",
      "already 187000 has finished in 293628\n",
      "already 188000 has finished in 293628\n",
      "already 189000 has finished in 293628\n",
      "already 190000 has finished in 293628\n",
      "already 191000 has finished in 293628\n",
      "already 192000 has finished in 293628\n",
      "already 193000 has finished in 293628\n",
      "already 194000 has finished in 293628\n",
      "already 195000 has finished in 293628\n",
      "already 196000 has finished in 293628\n",
      "already 197000 has finished in 293628\n",
      "already 198000 has finished in 293628\n",
      "already 199000 has finished in 293628\n",
      "already 200000 has finished in 293628\n",
      "already 201000 has finished in 293628\n",
      "already 202000 has finished in 293628\n",
      "already 203000 has finished in 293628\n",
      "already 204000 has finished in 293628\n",
      "already 205000 has finished in 293628\n",
      "already 206000 has finished in 293628\n",
      "already 207000 has finished in 293628\n",
      "already 208000 has finished in 293628\n",
      "already 209000 has finished in 293628\n",
      "already 210000 has finished in 293628\n",
      "already 211000 has finished in 293628\n",
      "already 212000 has finished in 293628\n",
      "already 213000 has finished in 293628\n",
      "already 214000 has finished in 293628\n",
      "already 215000 has finished in 293628\n",
      "already 216000 has finished in 293628\n",
      "already 217000 has finished in 293628\n",
      "already 218000 has finished in 293628\n",
      "already 219000 has finished in 293628\n",
      "already 220000 has finished in 293628\n",
      "already 221000 has finished in 293628\n",
      "already 222000 has finished in 293628\n",
      "already 223000 has finished in 293628\n",
      "already 224000 has finished in 293628\n",
      "already 225000 has finished in 293628\n",
      "already 226000 has finished in 293628\n",
      "already 227000 has finished in 293628\n",
      "already 228000 has finished in 293628\n",
      "already 229000 has finished in 293628\n",
      "already 230000 has finished in 293628\n",
      "already 231000 has finished in 293628\n",
      "already 232000 has finished in 293628\n",
      "already 233000 has finished in 293628\n",
      "already 234000 has finished in 293628\n",
      "already 235000 has finished in 293628\n",
      "already 236000 has finished in 293628\n",
      "already 237000 has finished in 293628\n",
      "already 238000 has finished in 293628\n",
      "already 239000 has finished in 293628\n",
      "already 240000 has finished in 293628\n",
      "already 241000 has finished in 293628\n",
      "already 242000 has finished in 293628\n",
      "already 243000 has finished in 293628\n",
      "already 244000 has finished in 293628\n",
      "already 245000 has finished in 293628\n",
      "already 246000 has finished in 293628\n",
      "already 247000 has finished in 293628\n",
      "already 248000 has finished in 293628\n",
      "already 249000 has finished in 293628\n",
      "already 250000 has finished in 293628\n",
      "already 251000 has finished in 293628\n",
      "already 252000 has finished in 293628\n",
      "already 253000 has finished in 293628\n",
      "already 254000 has finished in 293628\n",
      "already 255000 has finished in 293628\n",
      "already 256000 has finished in 293628\n",
      "already 257000 has finished in 293628\n",
      "already 258000 has finished in 293628\n",
      "already 259000 has finished in 293628\n",
      "already 260000 has finished in 293628\n",
      "already 261000 has finished in 293628\n",
      "already 262000 has finished in 293628\n",
      "already 263000 has finished in 293628\n",
      "already 264000 has finished in 293628\n",
      "already 265000 has finished in 293628\n",
      "already 266000 has finished in 293628\n",
      "already 267000 has finished in 293628\n",
      "already 268000 has finished in 293628\n",
      "already 269000 has finished in 293628\n",
      "already 270000 has finished in 293628\n",
      "already 271000 has finished in 293628\n",
      "already 272000 has finished in 293628\n",
      "already 273000 has finished in 293628\n",
      "already 274000 has finished in 293628\n",
      "already 275000 has finished in 293628\n",
      "already 276000 has finished in 293628\n",
      "already 277000 has finished in 293628\n",
      "already 278000 has finished in 293628\n",
      "already 279000 has finished in 293628\n",
      "already 280000 has finished in 293628\n",
      "already 281000 has finished in 293628\n",
      "already 282000 has finished in 293628\n",
      "already 283000 has finished in 293628\n",
      "already 284000 has finished in 293628\n",
      "already 285000 has finished in 293628\n",
      "already 286000 has finished in 293628\n",
      "already 287000 has finished in 293628\n",
      "already 288000 has finished in 293628\n",
      "already 289000 has finished in 293628\n",
      "already 290000 has finished in 293628\n",
      "already 291000 has finished in 293628\n",
      "already 292000 has finished in 293628\n",
      "already 293000 has finished in 293628\n"
     ]
    }
   ],
   "source": [
    "# remove the url\n",
    "import re\n",
    "from bs4 import BeautifulSoup\n",
    "clean_url = []\n",
    "noise = []\n",
    "length = len(df['text'])\n",
    "for i in xrange(0, length):     \n",
    "    if type(df['text'][i]) == unicode:\n",
    "        review_text = BeautifulSoup(df['text'][i]).get_text() \n",
    "        URLless_string = re.sub(r'\\w+:\\/{2}[\\d\\w-]+(\\.[\\d\\w-]+)*(?:(?:\\/[^\\s/]*))*', '', review_text)\n",
    "        clean_url.append(URLless_string)\n",
    "        if i%1000==0:\n",
    "            print 'already %d has finished in %d' %(i, sLength)\n",
    "    else:\n",
    "        clean_url.append('0')\n",
    "        noise.append(i)"
   ]
  },
  {
   "cell_type": "code",
   "execution_count": 72,
   "metadata": {
    "collapsed": false
   },
   "outputs": [
    {
     "name": "stdout",
     "output_type": "stream",
     "text": [
      "[u'RowNo' u'text' u'favorited' u'favoriteCount' u'replyToSN' u'created'\n",
      " u'truncated' u'replyToSID' u'id' u'replyToUID' u'statusSource'\n",
      " u'screenName' u'retweetCount' u'isRetweet' u'retweeted' u'longitude'\n",
      " u'latitude' u'Week' u'Day' u'Time']\n"
     ]
    }
   ],
   "source": [
    "print df.columns.values"
   ]
  },
  {
   "cell_type": "code",
   "execution_count": 73,
   "metadata": {
    "collapsed": false
   },
   "outputs": [
    {
     "name": "stdout",
     "output_type": "stream",
     "text": [
      "[53515, 56677, 64543, 71247]\n"
     ]
    }
   ],
   "source": [
    "print noise\n",
    "p"
   ]
  },
  {
   "cell_type": "code",
   "execution_count": 75,
   "metadata": {
    "collapsed": false
   },
   "outputs": [
    {
     "name": "stdout",
     "output_type": "stream",
     "text": [
      "partly cloudy -&gt; fair\r\n",
      "wind 10km/h -&gt; 16km/h\n",
      "partly cloudy -> fair\r\n",
      "wind 10km/h -> 16km/h\n",
      "Time to leave this place\n",
      "Time to leave this place\n",
      "#thankyou @difficultkind for the great photos after our #108salutethesundaylesford… https://t.co/0ZmC64ES0B\n",
      "#thankyou @difficultkind for the great photos after our #108salutethesundaylesford… \n",
      "I can't handle another close loss\n",
      "I can't handle another close loss\n"
     ]
    }
   ],
   "source": [
    "for j in noise:\n",
    "    print df['text'][j+1]\n",
    "    print clean_url[j+1]"
   ]
  },
  {
   "cell_type": "code",
   "execution_count": 76,
   "metadata": {
    "collapsed": false
   },
   "outputs": [],
   "source": [
    "df['clean_url']=clean_url"
   ]
  },
  {
   "cell_type": "code",
   "execution_count": 78,
   "metadata": {
    "collapsed": false
   },
   "outputs": [
    {
     "name": "stdout",
     "output_type": "stream",
     "text": [
      "WHY ARE PEOPLE SOOOO STUPID\n",
      "WHY ARE PEOPLE SOOOO STUPID\n",
      "So super keen for @mcitywrestling tonight! @ The Thornbury Theatre https://t.co/NB5yF4W64N\n",
      "So super keen for @mcitywrestling tonight! @ The Thornbury Theatre \n",
      "#melbourne #melbournecity #australia #victoria #follow #like4like #life #likes #lifestyle #visit… https://t.co/tsej00Oqkt\n",
      "#melbourne #melbournecity #australia #victoria #follow #like4like #life #likes #lifestyle #visit… \n",
      "This one is for Paris. Sending oceans of love across many oceans. <U+2764><U+FE0F><ed><U+00A0><U+00BC><ed><U+00BC><U+008A><ed><U+00A0><U+00BD><ed><U+00B9><U+008F> #prayforparis @ Melbourne… https://t.co/qazw4E0DtO\n",
      "This one is for Paris. Sending oceans of love across many oceans.  #prayforparis @ Melbourne… \n",
      "#melbourne #melbournecity #australia #victoria #follow #like4like #life #likes #lifestyle #visit… https://t.co/vdinHOBNdE\n",
      "#melbourne #melbournecity #australia #victoria #follow #like4like #life #likes #lifestyle #visit… \n",
      "Who's Ben? https://t.co/p4GD0blW3K\n",
      "Who's Ben? \n",
      "Great Victorian Beer Spectapular. Paddle beer # 4 - Drinking a #010 by @ExitBrewing @ The Local Taphouse  — https://t.co/yCyeYdomq6\n",
      "Great Victorian Beer Spectapular. Paddle beer # 4 - Drinking a #010 by @ExitBrewing @ The Local Taphouse  — \n",
      "<ed><U+00A0><U+00BD><ed><U+00B8><U+008F><ed><U+00A0><U+00BD><ed><U+00B8><U+008E> @ Queen Victoria Markets https://t.co/NthlaB2MZZ\n",
      " @ Queen Victoria Markets \n",
      "Bristling Melbourne. #Bristle #Melbourne #ShanesJoint #16cInTheDollar @ Club 23 Melbourne https://t.co/niWGhM3oxY\n",
      "Bristling Melbourne. #Bristle #Melbourne #ShanesJoint #16cInTheDollar @ Club 23 Melbourne \n",
      "@joerogan we are ready for you!! #joerogan #thereasoniminmelbourne #jre #melbourne #victoria… https://t.co/GjYwQJGJCc\n",
      "@joerogan we are ready for you!! #joerogan #thereasoniminmelbourne #jre #melbourne #victoria… \n",
      "Now thats a side deck! @ Thornbury, Melbourne https://t.co/w19oYletmV\n",
      "Now thats a side deck! @ Thornbury, Melbourne \n",
      "I need to get off twitter y'all are so fucking dumb it's infuriating\n",
      "I need to get off twitter y'all are so fucking dumb it's infuriating\n",
      "taking over @thelaundrybar downstairs back-to-back tonight with my main @matcant ~ see you all on the… https://t.co/msId9zgsYV\n",
      "taking over @thelaundrybar downstairs back-to-back tonight with my main @matcant ~ see you all on the… \n",
      "A nice clean sweep for @PVCCBats in round 4 of @SubbiesCricket. Strong training &amp; planning reaps the rewards. #batnation\n",
      "A nice clean sweep for @PVCCBats in round 4 of @SubbiesCricket. Strong training & planning reaps the rewards. #batnation\n",
      "How ya going! Yew! #sprintcars  dan_biggzy nate030589 @ Avalon Raceway https://t.co/5BNNdVNKWB\n",
      "How ya going! Yew! #sprintcars  dan_biggzy nate030589 @ Avalon Raceway \n",
      "As soon as I got to the venue @mummy2to0h &amp; @nakedfornails highly recommended that I try this… https://t.co/HiiBh4tHFf\n",
      "As soon as I got to the venue @mummy2to0h & @nakedfornails highly recommended that I try this… \n",
      "Bristling Melbourne. #Bristle #Melbourne #ShanesJoint #16cInTheDollar @ Club 23 Melbourne https://t.co/E9nCU7nNe0\n",
      "Bristling Melbourne. #Bristle #Melbourne #ShanesJoint #16cInTheDollar @ Club 23 Melbourne \n",
      "<ed><U+00A0><U+00BD><ed><U+00B4><U+0098> @ Melbourne Central Shopping Centre https://t.co/TkSda33FyT\n",
      " @ Melbourne Central Shopping Centre \n",
      "Kids tell us what they need when feeling unsafe is a trusted adult to talk through their fears and whats being done to keep them safe\n",
      "Kids tell us what they need when feeling unsafe is a trusted adult to talk through their fears and whats being done to keep them safe\n",
      "Having the kids over for a BBQ, cooking up the bounty from Vic Market - selfie time with my Princess… https://t.co/DW4xtKV0Yn\n",
      "Having the kids over for a BBQ, cooking up the bounty from Vic Market - selfie time with my Princess… \n"
     ]
    }
   ],
   "source": [
    "for i in xrange(25000,25020):\n",
    "    print df['text'][i]\n",
    "    print df['clean_url'][i]"
   ]
  },
  {
   "cell_type": "code",
   "execution_count": 81,
   "metadata": {
    "collapsed": false
   },
   "outputs": [
    {
     "name": "stdout",
     "output_type": "stream",
     "text": [
      "                                                     text\n",
      "count                                              293628\n",
      "unique                                             250996\n",
      "top     I'm at Melbourne Airport (MEL) - @melair in Tu...\n",
      "freq                                                  677\n"
     ]
    }
   ],
   "source": [
    "df_only_text = pd.DataFrame({'text': clean_url})\n",
    "print df_only_text.describe()"
   ]
  },
  {
   "cell_type": "code",
   "execution_count": 83,
   "metadata": {
    "collapsed": false
   },
   "outputs": [
    {
     "name": "stdout",
     "output_type": "stream",
     "text": [
      "What do you do on a Saturday night after a Halloween party...? Go watch rugby because it's some Worldâ€¦ \n"
     ]
    }
   ],
   "source": [
    "print df_only_text['text'][20]"
   ]
  },
  {
   "cell_type": "code",
   "execution_count": 88,
   "metadata": {
    "collapsed": false
   },
   "outputs": [],
   "source": [
    "df_only_text.to_excel(data_path + 'pure_text_29k.xlsx', header = True)"
   ]
  },
  {
   "cell_type": "code",
   "execution_count": null,
   "metadata": {
    "collapsed": true
   },
   "outputs": [],
   "source": [
    "### data exploration\n",
    "for i in te\n",
    "df['week']"
   ]
  }
 ],
 "metadata": {
  "kernelspec": {
   "display_name": "Python 2",
   "language": "python",
   "name": "python2"
  },
  "language_info": {
   "codemirror_mode": {
    "name": "ipython",
    "version": 2
   },
   "file_extension": ".py",
   "mimetype": "text/x-python",
   "name": "python",
   "nbconvert_exporter": "python",
   "pygments_lexer": "ipython2",
   "version": "2.7.11"
  }
 },
 "nbformat": 4,
 "nbformat_minor": 0
}
