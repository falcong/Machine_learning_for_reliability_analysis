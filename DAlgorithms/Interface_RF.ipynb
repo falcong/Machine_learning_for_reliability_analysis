{
 "cells": [
  {
   "cell_type": "code",
   "execution_count": 1,
   "metadata": {
    "collapsed": false
   },
   "outputs": [],
   "source": [
    "'''\n",
    "Please read this before you run simulation.\n",
    "\n",
    "This is a semi-interface for random forest (RF)-based risk assessment system for bolts. This systems has \n",
    "two functions: prediction and contribution analyis. Prediction estimates the failure probability of a sample.\n",
    "Contribution analysis gives a rank on the relative importance of the input variables.\n",
    "\n",
    "The whole simulation contains two phases: off-line learning and on-line inference. During off-line learning, the \n",
    "model will automatically improve itself based on the historic data on samples with known states (failed or unfailed). \n",
    "In on-line inference phase, the optimized model will predict the failure probability on samples with unknown states.\n",
    "\n",
    "Graphs and texts can be generated during both phases.\n",
    "'''\n",
    "import timeit"
   ]
  },
  {
   "cell_type": "code",
   "execution_count": 2,
   "metadata": {
    "collapsed": false
   },
   "outputs": [],
   "source": [
    "'''\n",
    "Step 0. Default setting\n",
    "This cell contains default setting for the simulation. Please run it before running the following cells.\n",
    "'''\n",
    "%matplotlib inline\n",
    "import Interface_notebook as inter"
   ]
  },
  {
   "cell_type": "code",
   "execution_count": 3,
   "metadata": {
    "collapsed": false
   },
   "outputs": [
    {
     "name": "stdout",
     "output_type": "stream",
     "text": [
      "This dataset contains 160 samples with 12 features\n",
      "These features are:\n",
      "Feature 1 : 'Length of roadway (m)'\n",
      "Feature 2 : 'Dripper flow rate'\n",
      "Feature 3 : 'Age of bolts at survey'\n",
      "Feature 4 : 'Stress Factor'\n",
      "Feature 5 : 'Water type 1'\n",
      "Feature 6 : 'Water type 2'\n",
      "Feature 7 : 'Water type 3'\n",
      "Feature 8 : 'D hdg'\n",
      "Feature 9 : 'D-E cts'\n",
      "Feature 10 : 'E hdg'\n",
      "Feature 11 : 'E-F cts'\n",
      "Feature 12 : 'F hdg'\n"
     ]
    }
   ],
   "source": [
    "'''\n",
    "Step 1. Data importing\n",
    "\n",
    "Please import the data of csv type into the folder of Data and run this cell. A brief description on\n",
    "the data will be given\n",
    "'''\n",
    "\n",
    "Training_data = 'Source_Data.csv'\n",
    "\n",
    "model = inter.MyClass(Training_data)\n"
   ]
  },
  {
   "cell_type": "code",
   "execution_count": 4,
   "metadata": {
    "collapsed": false
   },
   "outputs": [
    {
     "name": "stdout",
     "output_type": "stream",
     "text": [
      "This is conducted in the off-line training phase: \n",
      "\n",
      "************************this is the output of relative importance**************\n",
      "Feature ranking:\n",
      "1. feature 1 (0.289570)\n",
      "2. feature 3 (0.148414)\n",
      "3. feature 8 (0.125474)\n",
      "4. feature 4 (0.125356)\n",
      "5. feature 11 (0.073050)\n",
      "6. feature 2 (0.066642)\n",
      "7. feature 9 (0.044067)\n",
      "8. feature 10 (0.039539)\n",
      "9. feature 7 (0.026558)\n",
      "10. feature 5 (0.024739)\n",
      "11. feature 6 (0.022466)\n",
      "12. feature 12 (0.014124)\n"
     ]
    },
    {
     "data": {
      "image/png": "[encoded data removed]",
      "text/plain": [
       "<matplotlib.figure.Figure at 0x7f359c7ba490>"
      ]
     },
     "metadata": {},
     "output_type": "display_data"
    }
   ],
   "source": [
    "'''\n",
    "Step 2. Off-line learning\n",
    "\n",
    "The model will be trainied with the data imported \n",
    "'''\n",
    "\n",
    "model_trained = model.training()\n"
   ]
  },
  {
   "cell_type": "code",
   "execution_count": 5,
   "metadata": {
    "collapsed": false
   },
   "outputs": [
    {
     "name": "stdout",
     "output_type": "stream",
     "text": [
      "RandomForestClassifier(bootstrap=True, class_weight=None, criterion='gini',\n",
      "            max_depth=None, max_features='auto', max_leaf_nodes=None,\n",
      "            min_samples_leaf=1, min_samples_split=2,\n",
      "            min_weight_fraction_leaf=0.0, n_estimators=100, n_jobs=1,\n",
      "            oob_score=False, random_state=None, verbose=0,\n",
      "            warm_start=False)\n"
     ]
    }
   ],
   "source": [
    "print (model_trained)"
   ]
  },
  {
   "cell_type": "code",
   "execution_count": 6,
   "metadata": {
    "collapsed": false
   },
   "outputs": [
    {
     "name": "stdout",
     "output_type": "stream",
     "text": [
      "Test sample 1 has a probability of failure 0.01\n",
      "Test sample 2 has a probability of failure 0.04\n",
      "Test sample 3 has a probability of failure 0.98\n",
      "Test sample 4 has a probability of failure 0.22\n",
      "Test sample 5 has a probability of failure 0.98\n",
      "Test sample 6 has a probability of failure 0.78\n",
      "Test sample 7 has a probability of failure 0.97\n",
      "Test sample 8 has a probability of failure 0.91\n",
      "Test sample 9 has a probability of failure 1.00\n",
      "Test sample 10 has a probability of failure 0.74\n",
      "Test sample 11 has a probability of failure 0.33\n",
      "Test sample 12 has a probability of failure 0.00\n",
      "Test sample 13 has a probability of failure 0.20\n",
      "Test sample 14 has a probability of failure 1.00\n",
      "Test sample 15 has a probability of failure 0.29\n",
      "Test sample 16 has a probability of failure 0.00\n",
      "Test sample 17 has a probability of failure 0.91\n",
      "Test sample 18 has a probability of failure 0.83\n",
      "Test sample 19 has a probability of failure 0.00\n",
      "Test sample 20 has a probability of failure 0.02\n",
      "Test sample 21 has a probability of failure 0.96\n",
      "Test sample 22 has a probability of failure 0.01\n",
      "Test sample 23 has a probability of failure 1.00\n",
      "Test sample 24 has a probability of failure 0.00\n",
      "Test sample 25 has a probability of failure 0.44\n",
      "Test sample 26 has a probability of failure 0.71\n",
      "Test sample 27 has a probability of failure 0.80\n",
      "Test sample 28 has a probability of failure 0.96\n",
      "Test sample 29 has a probability of failure 0.01\n",
      "Test sample 30 has a probability of failure 0.68\n",
      "Test sample 31 has a probability of failure 0.06\n",
      "Test sample 32 has a probability of failure 0.04\n"
     ]
    }
   ],
   "source": [
    "'''\n",
    "Step 3. On-line inference\n",
    "\n",
    "Import the test set and output the failure probability prediction\n",
    "'''\n",
    "\n",
    "Test_data = 'Source_Data.csv'\n",
    "pred_proba = model.testing(model_trained, Test_data)\n"
   ]
  }
 ],
 "metadata": {
  "kernelspec": {
   "display_name": "Python 2",
   "language": "python",
   "name": "python2"
  },
  "language_info": {
   "codemirror_mode": {
    "name": "ipython",
    "version": 2
   },
   "file_extension": ".py",
   "mimetype": "text/x-python",
   "name": "python",
   "nbconvert_exporter": "python",
   "pygments_lexer": "ipython2",
   "version": "2.7.11"
  }
 },
 "nbformat": 4,
 "nbformat_minor": 0
}
